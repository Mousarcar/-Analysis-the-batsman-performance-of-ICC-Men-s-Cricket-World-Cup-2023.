{
 "cells": [
  {
   "cell_type": "markdown",
   "id": "95f5646c-fc52-4030-bb05-1b3c15a45762",
   "metadata": {
    "tags": []
   },
   "source": [
    "## Analysing the batsman performance of ICC Men's Cricket World Cup 2023."
   ]
  },
  {
   "cell_type": "markdown",
   "id": "7e8888a3-b866-480f-8c9a-2de9e30e155f",
   "metadata": {},
   "source": [
    "### Introduction"
   ]
  },
  {
   "cell_type": "markdown",
   "id": "78d41f50-1858-44c3-9df0-d92b586f52ee",
   "metadata": {},
   "source": [
    "* The 2023 ICC Men's Cricket World Cup was the 13th edition of the Cricket World Cup, a quadrennial One Day International (ODI) cricket tournament contested by men's national teams and organized by the International Cricket Council (ICC).India was the host of this tournament , it started on 5 October and concluded on 19 November 2023. Australia was the winner of this tournament."
   ]
  },
  {
   "cell_type": "markdown",
   "id": "62aead2a-d176-46d5-83bf-e0fb2025cd16",
   "metadata": {},
   "source": [
    "### Business goal"
   ]
  },
  {
   "cell_type": "markdown",
   "id": "02b6116f-dbdf-4a03-a123-8b4520ab454b",
   "metadata": {},
   "source": [
    "* We have a dataset related to ICC Cricket World Cup 2023 batsman. Here We have to analyze how the batsmen performed throughout the tournament."
   ]
  },
  {
   "cell_type": "markdown",
   "id": "a190fd84-3b7e-40fc-bf93-a07604b91ca7",
   "metadata": {},
   "source": [
    "### Source of Dataset"
   ]
  },
  {
   "cell_type": "markdown",
   "id": "65902b93-211b-4193-bfca-54a73d0a30c8",
   "metadata": {},
   "source": [
    "* We collected the dataset from Kaggle.com"
   ]
  },
  {
   "cell_type": "markdown",
   "id": "07505cea-6474-4f25-8319-3e19a79b730c",
   "metadata": {},
   "source": [
    "### Size of Dataset"
   ]
  },
  {
   "cell_type": "markdown",
   "id": "ffa5268a-1c55-4dda-9d47-6dbd09e41de9",
   "metadata": {},
   "source": [
    "* Size of BATTING dataset is 85.9KB"
   ]
  },
  {
   "cell_type": "markdown",
   "id": "282bc2a0-f21c-4d4a-ac88-72fb56f26f6c",
   "metadata": {},
   "source": [
    "### About the dataset"
   ]
  },
  {
   "cell_type": "markdown",
   "id": "7b736782-3026-4b9b-a848-acaf184f558d",
   "metadata": {},
   "source": [
    "* ICC Men's Cricket World Cup 2023 dataset have batting summary of each match separately and a file of each batsmen played in the world cup with some of their information like team, runs,strick rate,match,batting_position etc.\n",
    " * Dataset contains 12 columns namely -'BATTING','DISMISSAL','RUNS','BALLS','MINUTES','FOURS','SIXES',STRICK RATE','BATTING_POSITION','MATCH_ID','MATCH','BATTING_TEAM."
   ]
  },
  {
   "cell_type": "markdown",
   "id": "a1cc0ef9-e174-412b-9831-c550f8834a5b",
   "metadata": {},
   "source": [
    "### Libraries Used\n",
    "* pandas\n",
    "* numpy\n",
    "* matplotlib\n",
    "* seaborn"
   ]
  },
  {
   "cell_type": "markdown",
   "id": "f1de7b14-6bb3-4be3-a211-8dc284106c9d",
   "metadata": {},
   "source": [
    "### Overview of the features\n",
    "* BATTING - This column shows player who batted.\n",
    "* DISMISSAL - This column shows how the batsman got out or was he not out.\n",
    "* RUNS- This column contains how many runs the batsman scored.\n",
    "* BALLS- This column shows how many balls batsman faced.\n",
    "* MINUTES - This column shows how long was he on the ground.\n",
    "* FOURS - This column shows how many fours he scored.\n",
    "* SIXES - This column shows how many sixes he scored.\n",
    "* STRICK RATE- This column shows the batsman's strick rate.\n",
    "* BATTING_POSITION - This column shows at what position he came.\n",
    "* MATCH_ID- This column shows the distinct match id of the match.\n",
    "* MATCH- This column shows which team were playing the match.\n",
    "* BATTING_TEAM- Name of the batting team"
   ]
  },
  {
   "cell_type": "markdown",
   "id": "f95ffb05-5670-4632-a326-18982a3bb5fc",
   "metadata": {},
   "source": [
    " # Data Preprocessing"
   ]
  },
  {
   "cell_type": "markdown",
   "id": "504bd437-7308-475f-bec2-d105a9e0f9eb",
   "metadata": {},
   "source": [
    "### Importing required libraries"
   ]
  },
  {
   "cell_type": "code",
   "execution_count": 1,
   "id": "87897aa4-0641-4f38-b1be-5a58b8cdbe87",
   "metadata": {},
   "outputs": [],
   "source": [
    "import pandas as pd\n",
    "import numpy as np\n",
    "import matplotlib.pyplot as plt\n",
    "import seaborn as sns"
   ]
  },
  {
   "cell_type": "markdown",
   "id": "dc46e147-06b9-42c3-af67-bae3825bf2a1",
   "metadata": {},
   "source": [
    "### Loading the dataset"
   ]
  },
  {
   "cell_type": "code",
   "execution_count": 2,
   "id": "c357f23b-f266-4f57-b8e2-a85c2ed0d6c4",
   "metadata": {},
   "outputs": [],
   "source": [
    "df= pd.read_csv('BATTING.csv', encoding='latin-1')"
   ]
  },
  {
   "cell_type": "code",
   "execution_count": 3,
   "id": "c5b665c0-d564-42aa-a93e-3817c9cc531f",
   "metadata": {},
   "outputs": [
    {
     "data": {
      "text/html": [
       "<div>\n",
       "<style scoped>\n",
       "    .dataframe tbody tr th:only-of-type {\n",
       "        vertical-align: middle;\n",
       "    }\n",
       "\n",
       "    .dataframe tbody tr th {\n",
       "        vertical-align: top;\n",
       "    }\n",
       "\n",
       "    .dataframe thead th {\n",
       "        text-align: right;\n",
       "    }\n",
       "</style>\n",
       "<table border=\"1\" class=\"dataframe\">\n",
       "  <thead>\n",
       "    <tr style=\"text-align: right;\">\n",
       "      <th></th>\n",
       "      <th>BATTING</th>\n",
       "      <th>DISMISSAL</th>\n",
       "      <th>RUNS</th>\n",
       "      <th>BALLS</th>\n",
       "      <th>MINUTES</th>\n",
       "      <th>FOURS</th>\n",
       "      <th>SIXES</th>\n",
       "      <th>STRICK RATE</th>\n",
       "      <th>BATTING_POSITION</th>\n",
       "      <th>MATCH_ID</th>\n",
       "      <th>MATCH</th>\n",
       "      <th>BATTING_TEAM</th>\n",
       "    </tr>\n",
       "  </thead>\n",
       "  <tbody>\n",
       "    <tr>\n",
       "      <th>0</th>\n",
       "      <td>Jonny Bairstow</td>\n",
       "      <td>c Mitchell b Santner</td>\n",
       "      <td>33</td>\n",
       "      <td>35</td>\n",
       "      <td>57</td>\n",
       "      <td>4</td>\n",
       "      <td>1</td>\n",
       "      <td>94.28</td>\n",
       "      <td>1</td>\n",
       "      <td>ODI # 4658</td>\n",
       "      <td>England-vs-New-Zealand</td>\n",
       "      <td>England</td>\n",
       "    </tr>\n",
       "    <tr>\n",
       "      <th>1</th>\n",
       "      <td>Dawid Malan</td>\n",
       "      <td>c  wk Latham b Henry</td>\n",
       "      <td>14</td>\n",
       "      <td>24</td>\n",
       "      <td>36</td>\n",
       "      <td>2</td>\n",
       "      <td>0</td>\n",
       "      <td>58.33</td>\n",
       "      <td>2</td>\n",
       "      <td>ODI # 4658</td>\n",
       "      <td>England-vs-New-Zealand</td>\n",
       "      <td>England</td>\n",
       "    </tr>\n",
       "    <tr>\n",
       "      <th>2</th>\n",
       "      <td>Joe Root</td>\n",
       "      <td>b Phillips</td>\n",
       "      <td>77</td>\n",
       "      <td>86</td>\n",
       "      <td>140</td>\n",
       "      <td>4</td>\n",
       "      <td>1</td>\n",
       "      <td>89.53</td>\n",
       "      <td>3</td>\n",
       "      <td>ODI # 4658</td>\n",
       "      <td>England-vs-New-Zealand</td>\n",
       "      <td>England</td>\n",
       "    </tr>\n",
       "    <tr>\n",
       "      <th>3</th>\n",
       "      <td>Harry Brook</td>\n",
       "      <td>c Conway b Ravindra</td>\n",
       "      <td>25</td>\n",
       "      <td>16</td>\n",
       "      <td>20</td>\n",
       "      <td>4</td>\n",
       "      <td>1</td>\n",
       "      <td>156.25</td>\n",
       "      <td>4</td>\n",
       "      <td>ODI # 4658</td>\n",
       "      <td>England-vs-New-Zealand</td>\n",
       "      <td>England</td>\n",
       "    </tr>\n",
       "    <tr>\n",
       "      <th>4</th>\n",
       "      <td>Moeen Ali</td>\n",
       "      <td>b Phillips</td>\n",
       "      <td>11</td>\n",
       "      <td>17</td>\n",
       "      <td>20</td>\n",
       "      <td>1</td>\n",
       "      <td>0</td>\n",
       "      <td>64.7</td>\n",
       "      <td>5</td>\n",
       "      <td>ODI # 4658</td>\n",
       "      <td>England-vs-New-Zealand</td>\n",
       "      <td>England</td>\n",
       "    </tr>\n",
       "  </tbody>\n",
       "</table>\n",
       "</div>"
      ],
      "text/plain": [
       "          BATTING             DISMISSAL RUNS BALLS MINUTES FOURS SIXES  \\\n",
       "0  Jonny Bairstow  c Mitchell b Santner   33    35      57     4     1   \n",
       "1     Dawid Malan  c  wk Latham b Henry   14    24      36     2     0   \n",
       "2        Joe Root            b Phillips   77    86     140     4     1   \n",
       "3     Harry Brook   c Conway b Ravindra   25    16      20     4     1   \n",
       "4       Moeen Ali            b Phillips   11    17      20     1     0   \n",
       "\n",
       "  STRICK RATE  BATTING_POSITION    MATCH_ID                   MATCH  \\\n",
       "0       94.28                 1  ODI # 4658  England-vs-New-Zealand   \n",
       "1       58.33                 2  ODI # 4658  England-vs-New-Zealand   \n",
       "2       89.53                 3  ODI # 4658  England-vs-New-Zealand   \n",
       "3      156.25                 4  ODI # 4658  England-vs-New-Zealand   \n",
       "4        64.7                 5  ODI # 4658  England-vs-New-Zealand   \n",
       "\n",
       "  BATTING_TEAM  \n",
       "0      England  \n",
       "1      England  \n",
       "2      England  \n",
       "3      England  \n",
       "4      England  "
      ]
     },
     "execution_count": 3,
     "metadata": {},
     "output_type": "execute_result"
    }
   ],
   "source": [
    "df.head(5)"
   ]
  },
  {
   "cell_type": "code",
   "execution_count": 4,
   "id": "a31d8956-8bef-4ad3-acab-2a1b854400b3",
   "metadata": {},
   "outputs": [
    {
     "data": {
      "text/html": [
       "<div>\n",
       "<style scoped>\n",
       "    .dataframe tbody tr th:only-of-type {\n",
       "        vertical-align: middle;\n",
       "    }\n",
       "\n",
       "    .dataframe tbody tr th {\n",
       "        vertical-align: top;\n",
       "    }\n",
       "\n",
       "    .dataframe thead th {\n",
       "        text-align: right;\n",
       "    }\n",
       "</style>\n",
       "<table border=\"1\" class=\"dataframe\">\n",
       "  <thead>\n",
       "    <tr style=\"text-align: right;\">\n",
       "      <th></th>\n",
       "      <th>BATTING</th>\n",
       "      <th>DISMISSAL</th>\n",
       "      <th>RUNS</th>\n",
       "      <th>BALLS</th>\n",
       "      <th>MINUTES</th>\n",
       "      <th>FOURS</th>\n",
       "      <th>SIXES</th>\n",
       "      <th>STRICK RATE</th>\n",
       "      <th>BATTING_POSITION</th>\n",
       "      <th>MATCH_ID</th>\n",
       "      <th>MATCH</th>\n",
       "      <th>BATTING_TEAM</th>\n",
       "    </tr>\n",
       "  </thead>\n",
       "  <tbody>\n",
       "    <tr>\n",
       "      <th>871</th>\n",
       "      <td>Travis Head</td>\n",
       "      <td>c Shubman Gill b Mohammed Siraj</td>\n",
       "      <td>137</td>\n",
       "      <td>120</td>\n",
       "      <td>166</td>\n",
       "      <td>15</td>\n",
       "      <td>4</td>\n",
       "      <td>114.16</td>\n",
       "      <td>2</td>\n",
       "      <td>ODI # 4705</td>\n",
       "      <td>India-vs-Australia</td>\n",
       "      <td>Australia</td>\n",
       "    </tr>\n",
       "    <tr>\n",
       "      <th>872</th>\n",
       "      <td>Mitchell Marsh</td>\n",
       "      <td>c  wk Rahul b Bumrah</td>\n",
       "      <td>15</td>\n",
       "      <td>15</td>\n",
       "      <td>15</td>\n",
       "      <td>1</td>\n",
       "      <td>1</td>\n",
       "      <td>100</td>\n",
       "      <td>3</td>\n",
       "      <td>ODI # 4705</td>\n",
       "      <td>India-vs-Australia</td>\n",
       "      <td>Australia</td>\n",
       "    </tr>\n",
       "    <tr>\n",
       "      <th>873</th>\n",
       "      <td>Steven Smith</td>\n",
       "      <td>lbw b Bumrah</td>\n",
       "      <td>4</td>\n",
       "      <td>9</td>\n",
       "      <td>11</td>\n",
       "      <td>1</td>\n",
       "      <td>0</td>\n",
       "      <td>44.44</td>\n",
       "      <td>4</td>\n",
       "      <td>ODI # 4705</td>\n",
       "      <td>India-vs-Australia</td>\n",
       "      <td>Australia</td>\n",
       "    </tr>\n",
       "    <tr>\n",
       "      <th>874</th>\n",
       "      <td>Marnus Labuschagne</td>\n",
       "      <td>not out</td>\n",
       "      <td>58</td>\n",
       "      <td>110</td>\n",
       "      <td>133</td>\n",
       "      <td>4</td>\n",
       "      <td>0</td>\n",
       "      <td>52.72</td>\n",
       "      <td>5</td>\n",
       "      <td>ODI # 4705</td>\n",
       "      <td>India-vs-Australia</td>\n",
       "      <td>Australia</td>\n",
       "    </tr>\n",
       "    <tr>\n",
       "      <th>875</th>\n",
       "      <td>Glenn Maxwell</td>\n",
       "      <td>not out</td>\n",
       "      <td>2</td>\n",
       "      <td>1</td>\n",
       "      <td>1</td>\n",
       "      <td>0</td>\n",
       "      <td>0</td>\n",
       "      <td>200</td>\n",
       "      <td>6</td>\n",
       "      <td>ODI # 4705</td>\n",
       "      <td>India-vs-Australia</td>\n",
       "      <td>Australia</td>\n",
       "    </tr>\n",
       "  </tbody>\n",
       "</table>\n",
       "</div>"
      ],
      "text/plain": [
       "                BATTING                        DISMISSAL RUNS BALLS MINUTES  \\\n",
       "871         Travis Head  c Shubman Gill b Mohammed Siraj  137   120     166   \n",
       "872      Mitchell Marsh             c  wk Rahul b Bumrah   15    15      15   \n",
       "873        Steven Smith                     lbw b Bumrah    4     9      11   \n",
       "874  Marnus Labuschagne                          not out   58   110     133   \n",
       "875       Glenn Maxwell                          not out    2     1       1   \n",
       "\n",
       "    FOURS SIXES STRICK RATE  BATTING_POSITION    MATCH_ID               MATCH  \\\n",
       "871    15     4      114.16                 2  ODI # 4705  India-vs-Australia   \n",
       "872     1     1         100                 3  ODI # 4705  India-vs-Australia   \n",
       "873     1     0       44.44                 4  ODI # 4705  India-vs-Australia   \n",
       "874     4     0       52.72                 5  ODI # 4705  India-vs-Australia   \n",
       "875     0     0         200                 6  ODI # 4705  India-vs-Australia   \n",
       "\n",
       "    BATTING_TEAM  \n",
       "871    Australia  \n",
       "872    Australia  \n",
       "873    Australia  \n",
       "874    Australia  \n",
       "875    Australia  "
      ]
     },
     "execution_count": 4,
     "metadata": {},
     "output_type": "execute_result"
    }
   ],
   "source": [
    "df.tail()"
   ]
  },
  {
   "cell_type": "code",
   "execution_count": 5,
   "id": "c7c2c642-984d-4d77-9b49-c5db691266b2",
   "metadata": {},
   "outputs": [
    {
     "data": {
      "text/plain": [
       "(876, 12)"
      ]
     },
     "execution_count": 5,
     "metadata": {},
     "output_type": "execute_result"
    }
   ],
   "source": [
    "df.shape"
   ]
  },
  {
   "cell_type": "code",
   "execution_count": 6,
   "id": "7492df83-59b9-4407-a3ee-28fe2279b10a",
   "metadata": {},
   "outputs": [
    {
     "data": {
      "text/html": [
       "<div>\n",
       "<style scoped>\n",
       "    .dataframe tbody tr th:only-of-type {\n",
       "        vertical-align: middle;\n",
       "    }\n",
       "\n",
       "    .dataframe tbody tr th {\n",
       "        vertical-align: top;\n",
       "    }\n",
       "\n",
       "    .dataframe thead th {\n",
       "        text-align: right;\n",
       "    }\n",
       "</style>\n",
       "<table border=\"1\" class=\"dataframe\">\n",
       "  <thead>\n",
       "    <tr style=\"text-align: right;\">\n",
       "      <th></th>\n",
       "      <th>BATTING</th>\n",
       "      <th>DISMISSAL</th>\n",
       "      <th>RUNS</th>\n",
       "      <th>BALLS</th>\n",
       "      <th>MINUTES</th>\n",
       "      <th>FOURS</th>\n",
       "      <th>SIXES</th>\n",
       "      <th>STRICK RATE</th>\n",
       "      <th>BATTING_POSITION</th>\n",
       "      <th>MATCH_ID</th>\n",
       "      <th>MATCH</th>\n",
       "      <th>BATTING_TEAM</th>\n",
       "    </tr>\n",
       "  </thead>\n",
       "  <tbody>\n",
       "    <tr>\n",
       "      <th>762</th>\n",
       "      <td>Quinton de Kock wk</td>\n",
       "      <td>lbw b Mohammad Nabi</td>\n",
       "      <td>41</td>\n",
       "      <td>47</td>\n",
       "      <td>58</td>\n",
       "      <td>2</td>\n",
       "      <td>3</td>\n",
       "      <td>87.23</td>\n",
       "      <td>1</td>\n",
       "      <td>ODI # 4699</td>\n",
       "      <td>Afghanistan-vs-South-Africa</td>\n",
       "      <td>South-Africa</td>\n",
       "    </tr>\n",
       "    <tr>\n",
       "      <th>717</th>\n",
       "      <td>Moeen Ali</td>\n",
       "      <td>c de Leede b Dutt</td>\n",
       "      <td>4</td>\n",
       "      <td>15</td>\n",
       "      <td>20</td>\n",
       "      <td>0</td>\n",
       "      <td>0</td>\n",
       "      <td>26.66</td>\n",
       "      <td>7</td>\n",
       "      <td>ODI # 4697</td>\n",
       "      <td>England-vs-Netherlands</td>\n",
       "      <td>England</td>\n",
       "    </tr>\n",
       "    <tr>\n",
       "      <th>835</th>\n",
       "      <td>Mitchell Santner</td>\n",
       "      <td>c Sharma b Mohammed Siraj</td>\n",
       "      <td>9</td>\n",
       "      <td>10</td>\n",
       "      <td>20</td>\n",
       "      <td>0</td>\n",
       "      <td>0</td>\n",
       "      <td>90</td>\n",
       "      <td>8</td>\n",
       "      <td>ODI # 4703</td>\n",
       "      <td>India-vs-New-Zealand</td>\n",
       "      <td>New-Zealand</td>\n",
       "    </tr>\n",
       "  </tbody>\n",
       "</table>\n",
       "</div>"
      ],
      "text/plain": [
       "                 BATTING                  DISMISSAL RUNS BALLS MINUTES FOURS  \\\n",
       "762  Quinton de Kock wk         lbw b Mohammad Nabi   41    47      58     2   \n",
       "717            Moeen Ali          c de Leede b Dutt    4    15      20     0   \n",
       "835     Mitchell Santner  c Sharma b Mohammed Siraj    9    10      20     0   \n",
       "\n",
       "    SIXES STRICK RATE  BATTING_POSITION    MATCH_ID  \\\n",
       "762     3       87.23                 1  ODI # 4699   \n",
       "717     0       26.66                 7  ODI # 4697   \n",
       "835     0          90                 8  ODI # 4703   \n",
       "\n",
       "                           MATCH  BATTING_TEAM  \n",
       "762  Afghanistan-vs-South-Africa  South-Africa  \n",
       "717       England-vs-Netherlands       England  \n",
       "835         India-vs-New-Zealand   New-Zealand  "
      ]
     },
     "execution_count": 6,
     "metadata": {},
     "output_type": "execute_result"
    }
   ],
   "source": [
    "df.sample(3)"
   ]
  },
  {
   "cell_type": "code",
   "execution_count": 7,
   "id": "a5a8aa4c-eb1a-45aa-91ce-6bf71c484fa6",
   "metadata": {},
   "outputs": [
    {
     "name": "stdout",
     "output_type": "stream",
     "text": [
      "<class 'pandas.core.frame.DataFrame'>\n",
      "RangeIndex: 876 entries, 0 to 875\n",
      "Data columns (total 12 columns):\n",
      " #   Column            Non-Null Count  Dtype \n",
      "---  ------            --------------  ----- \n",
      " 0   BATTING           876 non-null    object\n",
      " 1   DISMISSAL         876 non-null    object\n",
      " 2   RUNS              876 non-null    object\n",
      " 3   BALLS             876 non-null    object\n",
      " 4   MINUTES           876 non-null    object\n",
      " 5   FOURS             876 non-null    object\n",
      " 6   SIXES             876 non-null    object\n",
      " 7   STRICK RATE       876 non-null    object\n",
      " 8   BATTING_POSITION  876 non-null    int64 \n",
      " 9   MATCH_ID          876 non-null    object\n",
      " 10  MATCH             876 non-null    object\n",
      " 11  BATTING_TEAM      876 non-null    object\n",
      "dtypes: int64(1), object(11)\n",
      "memory usage: 82.2+ KB\n"
     ]
    }
   ],
   "source": [
    "df.info()"
   ]
  },
  {
   "cell_type": "code",
   "execution_count": 8,
   "id": "1e8f9d65-dc45-4baf-992c-a1bc2266eb38",
   "metadata": {},
   "outputs": [
    {
     "data": {
      "text/html": [
       "<div>\n",
       "<style scoped>\n",
       "    .dataframe tbody tr th:only-of-type {\n",
       "        vertical-align: middle;\n",
       "    }\n",
       "\n",
       "    .dataframe tbody tr th {\n",
       "        vertical-align: top;\n",
       "    }\n",
       "\n",
       "    .dataframe thead th {\n",
       "        text-align: right;\n",
       "    }\n",
       "</style>\n",
       "<table border=\"1\" class=\"dataframe\">\n",
       "  <thead>\n",
       "    <tr style=\"text-align: right;\">\n",
       "      <th></th>\n",
       "      <th>BATTING_POSITION</th>\n",
       "    </tr>\n",
       "  </thead>\n",
       "  <tbody>\n",
       "    <tr>\n",
       "      <th>count</th>\n",
       "      <td>876.000000</td>\n",
       "    </tr>\n",
       "    <tr>\n",
       "      <th>mean</th>\n",
       "      <td>5.391553</td>\n",
       "    </tr>\n",
       "    <tr>\n",
       "      <th>std</th>\n",
       "      <td>3.039304</td>\n",
       "    </tr>\n",
       "    <tr>\n",
       "      <th>min</th>\n",
       "      <td>1.000000</td>\n",
       "    </tr>\n",
       "    <tr>\n",
       "      <th>25%</th>\n",
       "      <td>3.000000</td>\n",
       "    </tr>\n",
       "    <tr>\n",
       "      <th>50%</th>\n",
       "      <td>5.000000</td>\n",
       "    </tr>\n",
       "    <tr>\n",
       "      <th>75%</th>\n",
       "      <td>8.000000</td>\n",
       "    </tr>\n",
       "    <tr>\n",
       "      <th>max</th>\n",
       "      <td>11.000000</td>\n",
       "    </tr>\n",
       "  </tbody>\n",
       "</table>\n",
       "</div>"
      ],
      "text/plain": [
       "       BATTING_POSITION\n",
       "count        876.000000\n",
       "mean           5.391553\n",
       "std            3.039304\n",
       "min            1.000000\n",
       "25%            3.000000\n",
       "50%            5.000000\n",
       "75%            8.000000\n",
       "max           11.000000"
      ]
     },
     "execution_count": 8,
     "metadata": {},
     "output_type": "execute_result"
    }
   ],
   "source": [
    "df.describe()"
   ]
  },
  {
   "cell_type": "markdown",
   "id": "b95fae2b-2a77-4701-a7cb-25f62c512f2f",
   "metadata": {},
   "source": [
    "### Checking the unique and number of unique values of each column"
   ]
  },
  {
   "cell_type": "code",
   "execution_count": 9,
   "id": "c70731d7-e960-4ecd-b094-ae8a7a8168dc",
   "metadata": {},
   "outputs": [
    {
     "data": {
      "text/plain": [
       "BATTING             153\n",
       "DISMISSAL           469\n",
       "RUNS                125\n",
       "BALLS               119\n",
       "MINUTES             158\n",
       "FOURS                21\n",
       "SIXES                13\n",
       "STRICK RATE         435\n",
       "BATTING_POSITION     11\n",
       "MATCH_ID             48\n",
       "MATCH                45\n",
       "BATTING_TEAM         10\n",
       "dtype: int64"
      ]
     },
     "execution_count": 9,
     "metadata": {},
     "output_type": "execute_result"
    }
   ],
   "source": [
    "df.nunique()"
   ]
  },
  {
   "cell_type": "code",
   "execution_count": 10,
   "id": "e3f018b4-5ee6-4c47-a87a-8f02c697e032",
   "metadata": {
    "tags": []
   },
   "outputs": [
    {
     "data": {
      "text/plain": [
       "array(['Jonny Bairstow', 'Dawid Malan', 'Joe Root', 'Harry Brook',\n",
       "       'Moeen Ali', 'Jos Buttler(c) wk ', 'Liam Livingstone',\n",
       "       'Sam Curran', 'Chris Woakes', 'Adil Rashid', 'Mark Wood',\n",
       "       'Devon Conway', 'Will Young', 'Rachin Ravindra', 'Fakhar Zaman',\n",
       "       'Imam-ul-Haq', 'Babar Azam(c)', 'Mohammad Rizwan wk ',\n",
       "       'Saud Shakeel', 'Iftikhar Ahmed', 'Mohammad Nawaz', 'Shadab Khan',\n",
       "       'Hasan Ali', 'Shaheen Shah Afridi', 'Haris Rauf',\n",
       "       'Vikramjit Singh', \"Max O'Dowd\", 'Colin Ackermann', 'Bas de Leede',\n",
       "       'Teja Nidamanuru', 'Scott Edwards(c) wk ', 'Saqib Zulfiqar',\n",
       "       'Roelof van der Merwe', 'Logan van Beek', 'Aryan Dutt',\n",
       "       'Paul van Meekeren', 'Rahmanullah Gurbaz wk ', 'Ibrahim Zadran',\n",
       "       'Rahmat Shah', 'Hashmatullah Shahidi(c)', 'Najibullah Zadran',\n",
       "       'Mohammad Nabi', 'Azmatullah Omarzai', 'Rashid Khan',\n",
       "       'Mujeeb Ur Rahman', 'Naveen-ul-Haq', 'Fazalhaq Farooqi',\n",
       "       'Tanzid Hasan', 'Litton Das', 'Mehidy Hasan Miraz',\n",
       "       'Najmul Hossain Shanto', 'Shakib Al Hasan(c)',\n",
       "       'Mushfiqur Rahim wk ', 'Quinton de Kock wk ', 'Temba Bavuma(c)',\n",
       "       'Rassie van der Dussen', 'Aiden Markram', 'Heinrich Klaasen',\n",
       "       'David Miller', 'Marco Jansen', 'Pathum Nissanka', 'Kusal Perera',\n",
       "       'Kusal Mendis wk ', 'Sadeera Samarawickrama', 'Charith Asalanka',\n",
       "       'Dhananjaya de Silva', 'Dasun Shanaka(c)', 'Dunith Wellalage',\n",
       "       'Kasun Rajitha', 'Matheesha Pathirana', 'Dilshan Madushanka',\n",
       "       'David Warner', 'Mitchell Marsh', 'Steven Smith',\n",
       "       'Marnus Labuschagne', 'Glenn Maxwell', 'Alex Carey wk ',\n",
       "       'Cameron Green', 'Pat Cummins(c)', 'Mitchell Starc', 'Adam Zampa',\n",
       "       'Josh Hazlewood', 'Rohit Sharma(c)', 'Ishan Kishan', 'Virat Kohli',\n",
       "       'Shreyas Iyer', 'KL Rahul wk ', 'Hardik Pandya', 'Daryl Mitchell',\n",
       "       'Tom Latham(c) wk ', 'Glenn Phillips', 'Mark Chapman',\n",
       "       'Mitchell Santner', 'Matt Henry', 'Sybrand Engelbrecht',\n",
       "       'Ryan Klein', 'Reece Topley', 'Towhid Hridoy', 'Mahedi Hasan',\n",
       "       'Taskin Ahmed', 'Shoriful Islam', 'Mustafizur Rahman',\n",
       "       'Maheesh Theekshana', 'Abdullah Shafique', 'Kagiso Rabada',\n",
       "       'Keshav Maharaj', 'Josh Inglis wk ', 'Marcus Stoinis',\n",
       "       'Mahmudullah', 'Kane Williamson(c)', 'Shubman Gill',\n",
       "       'Rahmanullah Gurbaz', 'Ikram Alikhil wk ', 'Kusal Mendis(c) wk ',\n",
       "       'Chamika Karunaratne', 'Lahiru Kumara', 'Gerald Coetzee',\n",
       "       'Lungi Ngidi', 'Najmul Hossain Shanto(c)', 'Nasum Ahmed',\n",
       "       'Usama Mir', 'Dushan Hemantha', 'Reeza Hendricks',\n",
       "       'Aiden Markram(c)', 'Ben Stokes', 'David Willey', 'Gus Atkinson',\n",
       "       'Lockie Ferguson', 'Trent Boult', 'Suryakumar Yadav',\n",
       "       'Ravindra Jadeja', 'Mohammed Shami', 'Hasan Mahmud',\n",
       "       'Mohammad Wasim', 'Tabraiz Shamsi', 'Travis Head', 'James Neesham',\n",
       "       'Wesley Barresi', 'Shariz Ahmad', 'Jasprit Bumrah',\n",
       "       'Kuldeep Yadav', 'Dimuth Karunaratne', 'Angelo Mathews',\n",
       "       'Dushmantha Chameera', 'Tim Southee', 'Tom Latham wk ',\n",
       "       'Tanzim Hasan Sakib', 'Noor Ahmad', 'Andile Phehlukwayo',\n",
       "       'Agha Salman', 'Rohit Sharma\\xa0(c)', 'KL Rahul\\xa0 wk ',\n",
       "       'Mohammed Siraj'], dtype=object)"
      ]
     },
     "execution_count": 10,
     "metadata": {},
     "output_type": "execute_result"
    }
   ],
   "source": [
    "df['BATTING'].unique()"
   ]
  },
  {
   "cell_type": "code",
   "execution_count": 11,
   "id": "c213708f-3952-48e3-a1bc-4ff005e0528d",
   "metadata": {
    "tags": []
   },
   "outputs": [
    {
     "data": {
      "text/plain": [
       "array(['c Mitchell b Santner', 'c  wk Latham b Henry', 'b Phillips',\n",
       "       'c Conway b Ravindra', 'c Henry b Boult', 'c Young b Santner',\n",
       "       'not out', 'c  wk Buttler b Curran', 'c & b van Beek',\n",
       "       'c Dutt b van Meekeren', 'c Saqib Zulfiqar b Ackermann',\n",
       "       'b de Leede', 'c Saqib Zulfiqar b Dutt',\n",
       "       'c  wk Edwards b de Leede', 'run out (van Meekeren/Ackermann)',\n",
       "       'lbw b de Leede', 'st  wk Edwards b Ackermann',\n",
       "       'c Fakhar Zaman b Shadab Khan',\n",
       "       'c Shaheen Shah Afridi b Hasan Ali', 'b Iftikhar Ahmed',\n",
       "       'b Mohammad Nawaz', 'c Fakhar Zaman b Haris Rauf',\n",
       "       'lbw b Haris Rauf', 'lbw b Shaheen Shah Afridi',\n",
       "       'run out (Babar Azam/ wk Mohammad Rizwan)', 'b Hasan Ali',\n",
       "       'b Haris Rauf', 'c Tanzid Hasan b Mustafizur Rahman',\n",
       "       'c Tanzid Hasan b Shakib Al Hasan',\n",
       "       'c Litton Das b Shakib Al Hasan',\n",
       "       'c Towhid Hridoy b Mehidy Hasan Miraz', 'b Shakib Al Hasan',\n",
       "       'b Taskin Ahmed', 'b Shoriful Islam', 'b Mehidy Hasan Miraz',\n",
       "       'c Towhid Hridoy b Shoriful Islam', 'run out (Najibullah Zadran)',\n",
       "       'b Fazalhaq Farooqi', 'c Rahmat Shah b Naveen-ul-Haq',\n",
       "       'c Fazalhaq Farooqi b Azmatullah Omarzai',\n",
       "       'c de Silva b Pathirana', 'lbw b Madushanka',\n",
       "       'c Samarawickrama b Wellalage', 'c Rajitha b Madushanka',\n",
       "       'c Shanaka b Rajitha', 'b Jansen', 'c  wk Klaasen b Rabada',\n",
       "       'c Jansen b Coetzee', 'c sub (RR Hendricks) b Ngidi',\n",
       "       'c sub (AL Phehlukwayo) b Maharaj', 'b Maharaj',\n",
       "       'c  wk Klaasen b Coetzee', 'c Markram b Coetzee', 'b Rabada',\n",
       "       'c & b Kuldeep Yadav', 'c Kohli b Bumrah', 'b Jadeja',\n",
       "       'c  wk Rahul b Jadeja', 'b Kuldeep Yadav', 'lbw b Jadeja',\n",
       "       'c Pandya b Ashwin', 'c Iyer b Bumrah', 'c Iyer b Mohammed Siraj',\n",
       "       'c Kohli b Pandya', 'lbw b Hazlewood', 'c Green b Starc',\n",
       "       'c Labuschagne b Hazlewood', 'c Warner b Hazlewood',\n",
       "       'c de Leede b van der Merwe', 'c de Leede b van Meekeren',\n",
       "       'c  wk Edwards b van der Merwe', 'b van Meekeren',\n",
       "       'st  wk Edwards b Dutt', 'c van der Merwe b Dutt', 'b Henry',\n",
       "       'lbw b Santner', 'c Henry b Santner', 'c Boult b Ravindra',\n",
       "       'run out (Ferguson/ wk Latham)', 'c & b Santner',\n",
       "       'c Conway b Henry', 'b Mahedi Hasan',\n",
       "       'c  wk Mushfiqur Rahim b Shoriful Islam',\n",
       "       'c Litton Das b Mahedi Hasan',\n",
       "       'c Najmul Hossain Shanto b Mahedi Hasan',\n",
       "       'c Mahedi Hasan b Taskin Ahmed', 'c  wk Buttler b Woakes',\n",
       "       'c Bairstow b Topley', 'c Livingstone b Topley', 'b Topley',\n",
       "       'c Rashid b Topley', 'c  wk Buttler b Livingstone', 'b Rashid',\n",
       "       'b Curran', 'b Wood', 'c Abdullah Shafique b Shadab Khan',\n",
       "       'c  wk Mohammad Rizwan b Hasan Ali', 'c Imam-ul-Haq b Hasan Ali',\n",
       "       'c Shaheen Shah Afridi b Mohammad Nawaz',\n",
       "       'c Babar Azam b Shaheen Shah Afridi',\n",
       "       'c Abdullah Shafique b Haris Rauf',\n",
       "       'c sub (MADI Hemantha) b Pathirana', 'c Perera b Madushanka',\n",
       "       'c  wk Samarawickrama b Madushanka', 'c Wellalage b Theekshana',\n",
       "       'c Thakur b Pandya', 'c  wk Rahul b Bumrah', 'lbw b Thakur',\n",
       "       'lbw b Kuldeep Yadav', 'b Pandya', 'lbw b Bumrah',\n",
       "       'c Kuldeep Yadav b Bumrah', 'b Rashid Khan',\n",
       "       'c Ibrahim Zadran b Rashid Khan', 'b Maxwell',\n",
       "       'c Warner b Maxwell', 'c sub (SA Abbott) b Zampa',\n",
       "       'c Hazlewood b Cummins', 'c  wk Inglis b Hazlewood', 'b Starc',\n",
       "       'c Warner b Starc', 'c Bavuma b Jansen',\n",
       "       'c van der Dussen b Ngidi', 'lbw b Rabada', 'c Bavuma b Maharaj',\n",
       "       'c & b Maharaj', 'c  wk de Kock b Rabada',\n",
       "       'c  wk de Kock b Jansen', 'c Miller b Shamsi', 'c Rabada b Shamsi',\n",
       "       'c Conway b Ferguson', 'c Henry b Ferguson', 'c Conway b Phillips',\n",
       "       'c  wk Latham b Ferguson', 'c Santner b Boult',\n",
       "       'lbw b Shakib Al Hasan',\n",
       "       'c  wk Mushfiqur Rahim b Mustafizur Rahman', 'retired hurt',\n",
       "       'lbw b Mohammed Siraj', 'c  wk Rahul b Pandya', 'b Mohammed Siraj',\n",
       "       'b Bumrah', 'c Bumrah b Pandya', 'c Shubman Gill b Jadeja',\n",
       "       'c Iftikhar Ahmed b Shaheen Shah Afridi',\n",
       "       'c Shadab Khan b Shaheen Shah Afridi',\n",
       "       'c Mohammad Nawaz b Hasan Ali',\n",
       "       'run out (sub [DJ Willey]/ wk Buttler)', 'c Root b Rashid',\n",
       "       'st  wk Buttler b Rashid', 'b Root', 'c Woakes b Livingstone',\n",
       "       'c Curran b Topley', 'c Root b Wood', 'run out ( wk Buttler)',\n",
       "       'lbw b Fazalhaq Farooqi', 'c Ibrahim Zadran b Mohammad Nabi',\n",
       "       'b Mujeeb Ur Rahman', 'c  wk Ikram Alikhil b Mujeeb Ur Rahman',\n",
       "       'b Naveen-ul-Haq', 'lbw b Rashid Khan',\n",
       "       'c Rahmat Shah b Mohammad Nabi', 'c Mohammad Nabi b Rashid Khan',\n",
       "       'c Warner b Cummins', 'b Cummins', 'c Warner b Zampa',\n",
       "       'lbw b Zampa', 'c Labuschagne b Maxwell', 'run out (Cummins)',\n",
       "       'run out (Karunaratne/ wk Mendis)', 'c Karunaratne b Madushanka',\n",
       "       'c Theekshana b Wellalage', 'c Klaasen b Rabada', 'b Coetzee',\n",
       "       'c Jansen b Ngidi', 'lbw b Jansen', 'st  wk de Kock b Maharaj',\n",
       "       'c  wk de Kock b Ngidi', 'b van der Merwe',\n",
       "       'c  wk Edwards b Ackermann', 'c Dutt b van der Merwe',\n",
       "       'c Vikramjit Singh b van Beek', 'b van Beek',\n",
       "       'c  wk Edwards b van Beek', 'c Engelbrecht b de Leede',\n",
       "       'lbw b Mujeeb Ur Rahman',\n",
       "       'c  wk Ikram Alikhil b Azmatullah Omarzai', 'b Azmatullah Omarzai',\n",
       "       'c Rashid Khan b Naveen-ul-Haq', 'c & b Ravindra',\n",
       "       'c Santner b Ferguson', 'c  wk Latham b Boult', 'b Santner',\n",
       "       'c Mitchell b Ferguson', 'c Young b Ferguson',\n",
       "       'c Chapman b Santner', 'c  wk Rahul b Mohammed Siraj',\n",
       "       'c Shubman Gill b Thakur', 'c Jadeja b Bumrah',\n",
       "       'c Towhid Hridoy b Hasan Mahmud',\n",
       "       'c Mahmudullah b Mehidy Hasan Miraz',\n",
       "       'c sub (Shadab Khan) b Haris Rauf',\n",
       "       'c Usama Mir b Shaheen Shah Afridi', 'c & b Usama Mir',\n",
       "       'c  wk Mohammad Rizwan b Haris Rauf',\n",
       "       'c Saud Shakeel b Shaheen Shah Afridi',\n",
       "       'c  wk Mohammad Rizwan b Shaheen Shah Afridi',\n",
       "       'c Maxwell b Stoinis', 'c Starc b Stoinis', 'c Cummins b Zampa',\n",
       "       'c Stoinis b Cummins', 'st  wk Inglis b Zampa',\n",
       "       'c Starc b Hazlewood', 'c Labuschagne b Cummins',\n",
       "       'c  wk Inglis b Starc', 'lbw b Rajitha', 'b Rajitha',\n",
       "       'c  wk Mendis b Rajitha', 'b Theekshana', 'b Madushanka',\n",
       "       'c Asalanka b Rajitha', 'c  wk Mendis b Madushanka',\n",
       "       'run out ( wk Mendis/Madushanka)', 'c  wk Edwards b van Meekeren',\n",
       "       'c de Leede b Dutt', 'c van Meekeren b Dutt', 'b Dutt',\n",
       "       'b Ackermann', 'c  wk Buttler b Topley', 'c Bairstow b Rashid',\n",
       "       'b Atkinson', 'c Stokes b Topley',\n",
       "       'c sub (LS Livingstone) b Atkinson', 'c Miller b Jansen',\n",
       "       'c & b Rabada', 'lbw b Coetzee', 'c  wk de Kock b Coetzee',\n",
       "       'c Rabada b Ngidi', 'c Hendricks b Coetzee', 'absent hurt',\n",
       "       'b Mohammed Shami', 'c Shubman Gill b Mohammed Shami',\n",
       "       'c Kohli b Mohammed Shami', 'c Sharma b Kuldeep Yadav',\n",
       "       'run out ( wk Rahul)', 'b Ferguson', 'c Phillips b Henry',\n",
       "       'c Conway b Boult', 'run out (Santner/Boult/ wk Latham)',\n",
       "       'lbw b Noor Ahmad', 'c Naveen-ul-Haq b Azmatullah Omarzai',\n",
       "       'c Mohammad Nabi b Noor Ahmad', 'c Mujeeb Ur Rahman b Noor Ahmad',\n",
       "       'c Rashid Khan b Mohammad Nabi', 'c Mohammad Nabi b Naveen-ul-Haq',\n",
       "       'c Azmatullah Omarzai b Naveen-ul-Haq',\n",
       "       'c Nasum Ahmed b Hasan Mahmud', 'lbw b Mehidy Hasan Miraz',\n",
       "       'c Mahmudullah b Hasan Mahmud', 'c  wk Klaasen b Jansen',\n",
       "       'c  wk Klaasen b Williams', 'c sub (AL Phehlukwayo) b Coetzee',\n",
       "       'c & b Coetzee', 'c Coetzee b Rabada', 'c Miller b Williams',\n",
       "       'c Ackermann b van Beek', 'c Dutt b van Beek', 'c Dutt b de Leede',\n",
       "       'c Engelbrecht b van Beek', 'run out (Engelbrecht)',\n",
       "       'run out (Maxwell)', 'c Warner b Marsh', 'lbw b Cummins',\n",
       "       'c  wk Inglis b Marsh', 'c  wk Inglis b Zampa',\n",
       "       'c de Silva b Rajitha', 'c  wk Mendis b Mathews',\n",
       "       'run out (Mathews/ wk Mendis)', 'c sub (MADI Hemantha) b Kumara',\n",
       "       'c  wk Mendis b Kumara', 'lbw b Kumara', 'c Perera b Mathews',\n",
       "       'c Samarawickrama b Rajitha', 'run out ( wk Mendis)',\n",
       "       'st  wk Mendis b Theekshana', 'c Stokes b Willey',\n",
       "       'c  wk Buttler b Willey', 'c Ngidi b Jansen', 'c Klaasen b Jansen',\n",
       "       'c  wk de Kock b Shamsi', 'c Klaasen b Shamsi',\n",
       "       'c Maharaj b Coetzee', 'c Maharaj b Shamsi',\n",
       "       'c Saud Shakeel b Mohammad Wasim',\n",
       "       'c Mohammad Wasim b Shaheen Shah Afridi', 'lbw b Usama Mir',\n",
       "       'c Babar Azam b Usama Mir', 'c Usama Mir b Mohammad Wasim',\n",
       "       'c Babar Azam b Haris Rauf', 'c & b Haris Rauf', 'c & b Phillips',\n",
       "       'c Boult b Phillips', 'c Ravindra b Santner', 'c Boult b Neesham',\n",
       "       'c Phillips b Boult', 'lbw b Boult', 'c Neesham b Henry',\n",
       "       'b Boult', 'c Starc b Zampa', 'c Hazlewood b Zampa',\n",
       "       'run out (Labuschagne/ wk Inglis)', 'c Maxwell b Zampa',\n",
       "       'c Shakib Al Hasan b Taskin Ahmed',\n",
       "       'c Tanzid Hasan b Shoriful Islam',\n",
       "       'c Shakib Al Hasan b Mustafizur Rahman',\n",
       "       'c Mustafizur Rahman b Shakib Al Hasan',\n",
       "       'c Mehidy Hasan Miraz b Mustafizur Rahman',\n",
       "       'c  wk Mushfiqur Rahim b Taskin Ahmed', 'lbw b Mahedi Hasan',\n",
       "       'run out (Mahmudullah/ wk Mushfiqur Rahim)',\n",
       "       'c Mehidy Hasan Miraz b Shoriful Islam', 'c  wk Edwards b Dutt',\n",
       "       'c van Beek b van Meekeren', 'run out (de Leede)',\n",
       "       'c Livingstone b Rashid', 'b Woakes', 'c Wood b Woakes',\n",
       "       'c Bairstow b Willey', 'c Woakes b Willey', 'lbw b Rashid',\n",
       "       'c  wk Buttler b Wood', 'c  wk Rahul b Mohammed Shami',\n",
       "       'st  wk Rahul b Jadeja',\n",
       "       'c  wk Rahmanullah Gurbaz b Azmatullah Omarzai',\n",
       "       'c sub (Najibullah Zadran) b Mujeeb Ur Rahman',\n",
       "       'c Rashid Khan b Fazalhaq Farooqi',\n",
       "       'c Mohammad Nabi b Fazalhaq Farooqi', 'run out (Ibrahim Zadran)',\n",
       "       'run out ( wk Rahmanullah Gurbaz)', 'c Karunaratne b Rajitha',\n",
       "       'c Agha Salman b Iftikhar Ahmed', 'b Shaheen Shah Afridi',\n",
       "       'c Agha Salman b Haris Rauf', 'c Iftikhar Ahmed b Usama Mir',\n",
       "       'b Mohammad Wasim', 'c Phillips b Southee', 'c Mitchell b Boult',\n",
       "       'b Southee', 'c Mitchell b Neesham', 'c Markram b Jansen',\n",
       "       'c Coetzee b Jansen', 'c Miller b Maharaj', 'c Maharaj b Rabada',\n",
       "       'c Rabada b Coetzee', 'c Nissanka b Madushanka',\n",
       "       'c Theekshana b Madushanka', 'c Hemantha b Chameera',\n",
       "       'run out (Samarawickrama/ wk Mendis)', 'c Jadeja b Mohammed Shami',\n",
       "       'c Iyer b Jadeja', 'run out (Azmatullah Omarzai)',\n",
       "       'run out (Rashid Khan/ wk Ikram Alikhil)',\n",
       "       'run out (Mohammad Nabi/ wk Ikram Alikhil)',\n",
       "       'run out ( wk Ikram Alikhil)',\n",
       "       'c  wk Ikram Alikhil b Mohammad Nabi',\n",
       "       'c  wk Ikram Alikhil b Noor Ahmad',\n",
       "       'st  wk Ikram Alikhil b Mohammad Nabi',\n",
       "       'c Ibrahim Zadran b Noor Ahmad', 'lbw b Mohammad Nabi',\n",
       "       'c & b Saqib Zulfiqar', 'c Fakhar Zaman b Iftikhar Ahmed',\n",
       "       'c Williamson b Southee', 'c Root b Woakes', 'c Willey b Woakes',\n",
       "       'c Ali b Rashid', 'lbw b Wood', 'b Willey',\n",
       "       'c Bairstow b Livingstone', 'c Malan b Wood', 'c Ali b Woakes',\n",
       "       'c Head b Cummins', 'c Stoinis b Zampa', 'c Green b Zampa',\n",
       "       'c sub (SA Abbott) b Cummins', 'c Labuschagne b Stoinis',\n",
       "       'c Zampa b Hazlewood', 'c Bavuma b Rabada', 'c Markram b Ngidi',\n",
       "       'c van der Dussen b Jansen', 'lbw b Mohammed Shami',\n",
       "       'c Jadeja b Kuldeep Yadav', 'c & b Jadeja', 'b Tanzim Hasan Sakib',\n",
       "       'c Shoriful Islam b Shakib Al Hasan',\n",
       "       'c Mahmudullah b Shakib Al Hasan',\n",
       "       'c Litton Das b Tanzim Hasan Sakib', 'timed out',\n",
       "       'st  wk Mushfiqur Rahim b Mehidy Hasan Miraz',\n",
       "       'c sub (Nasum Ahmed) b Shoriful Islam',\n",
       "       'run out ( wk Mushfiqur Rahim)', 'b Mathews',\n",
       "       'c Asalanka b Mathews', 'c Asalanka b Theekshana',\n",
       "       'c Hazlewood b Maxwell', 'b Hazlewood',\n",
       "       'c  wk Ikram Alikhil b Naveen-ul-Haq', 'lbw b Naveen-ul-Haq',\n",
       "       'run out (Rahmat Shah)', 'c Ibrahim Zadran b Azmatullah Omarzai',\n",
       "       'c  wk Ikram Alikhil b Rashid Khan',\n",
       "       'run out ( wk Edwards/van Beek)', 'c Ackermann b de Leede',\n",
       "       'c Nidamanuru b van Meekeren', 'run out (Woakes/Ali)',\n",
       "       'c Malan b Ali', 'c Malan b Rashid', 'c Rashid b Ali',\n",
       "       'st  wk Buttler b Ali', 'c  wk Latham b Southee',\n",
       "       'c Ravindra b Boult', 'c  wk Latham b Ravindra',\n",
       "       'c de Silva b Chameera', 'c de Silva b Theekshana',\n",
       "       'run out (Samarawickrama/Mathews)', 'c Klaasen b Maharaj',\n",
       "       'c Miller b Ngidi', 'c  wk de Kock b Maharaj',\n",
       "       'c  wk de Kock b Phehlukwayo', 'run out (Rabada)',\n",
       "       'c Rahmanullah Gurbaz b Mujeeb Ur Rahman',\n",
       "       'c Naveen-ul-Haq b Rashid Khan', 'c & b Mohammad Nabi',\n",
       "       'c & b Abbott', 'c Labuschagne b Zampa', 'run out (Labuschagne)',\n",
       "       'c Cummins b Abbott', 'run out (Abbott)',\n",
       "       'c Najmul Hossain Shanto b Mustafizur Rahman',\n",
       "       'c  wk Mohammad Rizwan b Iftikhar Ahmed', 'run out (Haris Rauf)',\n",
       "       'c Shaheen Shah Afridi b Haris Rauf',\n",
       "       'c Iftikhar Ahmed b Mohammad Wasim', 'lbw b Willey',\n",
       "       'c Rashid b Atkinson', 'b Ali', 'lbw b Atkinson',\n",
       "       'c Stokes b Woakes', 'c Barresi b de Leede', 'c  wk Rahul b Kohli',\n",
       "       'c Mohammed Shami b Sharma', 'c Mohammed Shami b Jadeja',\n",
       "       'c Conway b Southee', 'c Yadav b Mohammed Shami',\n",
       "       'c Sharma b Mohammed Siraj', 'c Cummins b Hazlewood',\n",
       "       'c Smith b Hazlewood', 'b Head', 'lbw b Head',\n",
       "       'c  wk Inglis b Cummins', 'c Smith b Starc', 'c Maxwell b Cummins',\n",
       "       'b Markram', 'c van der Dussen b Rabada', 'lbw b Shamsi',\n",
       "       'b Shamsi', 'c Head b Maxwell', 'c Zampa b Starc',\n",
       "       'run out (Labuschagne/Cummins)', 'c Shubman Gill b Mohammed Siraj'],\n",
       "      dtype=object)"
      ]
     },
     "execution_count": 11,
     "metadata": {},
     "output_type": "execute_result"
    }
   ],
   "source": [
    "df['DISMISSAL'].unique()"
   ]
  },
  {
   "cell_type": "code",
   "execution_count": 12,
   "id": "1935d468-10eb-44e0-8805-3cd0aca86512",
   "metadata": {
    "tags": []
   },
   "outputs": [
    {
     "data": {
      "text/plain": [
       "array(['33', '14', '77', '25', '11', '43', '20', '15', '13', '152', '0',\n",
       "       '123', '12', '5', '68', '9', '39', '32', '16', '52', '17', '67',\n",
       "       '10', '4', '28', '1', '7', '47', '22', '18', '6', '57', '59', '2',\n",
       "       '100', '8', '108', '106', '76', '23', '79', '41', '46', '27', '85',\n",
       "       '97', '70', '51', '48', '53', '36', '69', '21', '30', '29', '140',\n",
       "       '82', '3', '122', '113', '131', '31', '80', '62', '19', '55',\n",
       "       '109', '35', '26', '56', '40', '66', '45', '78', '89', '50', '49',\n",
       "       '86', '58', '61', '54', '71', '38', '103', '34', '163', '121',\n",
       "       '64', '91', '44', '60', '42', '75', '-', '130', '95', '74', '65',\n",
       "       '87', '174', '90', '111', '104', '24', '81', '37', '116', '73',\n",
       "       '114', '133', '92', '88', '126', '101', '129', '201', '177', '63',\n",
       "       '84', '128', '102', '117', '105', '134', '137'], dtype=object)"
      ]
     },
     "execution_count": 12,
     "metadata": {},
     "output_type": "execute_result"
    }
   ],
   "source": [
    "df['RUNS'].unique()"
   ]
  },
  {
   "cell_type": "code",
   "execution_count": 13,
   "id": "2ecc6d22-8c35-41d4-977e-19af5139868a",
   "metadata": {
    "tags": []
   },
   "outputs": [
    {
     "data": {
      "text/plain": [
       "array(['4', '2', '1', '3', '0', '19', '11', '8', '9', '6', '5', '12',\n",
       "       '13', '14', '7', '16', '10', '-', '15', '21', '17'], dtype=object)"
      ]
     },
     "execution_count": 13,
     "metadata": {},
     "output_type": "execute_result"
    }
   ],
   "source": [
    "df['FOURS'].unique()"
   ]
  },
  {
   "cell_type": "code",
   "execution_count": 14,
   "id": "f013165b-a0f7-416f-805e-53ffb14aa389",
   "metadata": {
    "tags": []
   },
   "outputs": [
    {
     "data": {
      "text/plain": [
       "array(['1', '0', '2', '3', '5', '8', '4', '6', '9', '-', '7', '11', '10'],\n",
       "      dtype=object)"
      ]
     },
     "execution_count": 14,
     "metadata": {},
     "output_type": "execute_result"
    }
   ],
   "source": [
    "df['SIXES'].unique()"
   ]
  },
  {
   "cell_type": "code",
   "execution_count": 15,
   "id": "d6ccf52e-c4f0-4561-a73b-08c788fa3a8f",
   "metadata": {},
   "outputs": [
    {
     "data": {
      "text/plain": [
       "array([ 1,  2,  3,  4,  5,  6,  7,  8,  9, 10, 11], dtype=int64)"
      ]
     },
     "execution_count": 15,
     "metadata": {},
     "output_type": "execute_result"
    }
   ],
   "source": [
    "df['BATTING_POSITION'].unique()"
   ]
  },
  {
   "cell_type": "code",
   "execution_count": 16,
   "id": "60e78629-42b8-44a7-84c8-de62b0e293b6",
   "metadata": {
    "tags": []
   },
   "outputs": [
    {
     "data": {
      "text/plain": [
       "array(['ODI # 4658', 'ODI # 4659', 'ODI # 4660', 'ODI # 4661',\n",
       "       'ODI # 4662', 'ODI # 4663', 'ODI # 4664', 'ODI # 4665',\n",
       "       'ODI # 4666', 'ODI # 4667', 'ODI # 4668', 'ODI # 4669',\n",
       "       'ODI # 4670', 'ODI # 4671', 'ODI # 4672', 'ODI # 4673',\n",
       "       'ODI # 4674', 'ODI # 4675', 'ODI # 4676', 'ODI # 4677',\n",
       "       'ODI # 4678', 'ODI # 4679', 'ODI # 4680', 'ODI # 4681',\n",
       "       'ODI # 4682', 'ODI # 4683', 'ODI # 4684', 'ODI # 4685',\n",
       "       'ODI # 4686', 'ODI # 4687', 'ODI # 4688', 'ODI # 4689',\n",
       "       'ODI # 4690', 'ODI # 4691', 'ODI # 4692', 'ODI # 4693',\n",
       "       'ODI # 4694', 'ODI # 4695', 'ODI # 4696', 'ODI # 4697',\n",
       "       'ODI # 4698', 'ODI # 4699', 'ODI # 4700', 'ODI # 4701',\n",
       "       'ODI # 4702', 'ODI # 4703', 'ODI # 4704', 'ODI # 4705'],\n",
       "      dtype=object)"
      ]
     },
     "execution_count": 16,
     "metadata": {},
     "output_type": "execute_result"
    }
   ],
   "source": [
    "df['MATCH_ID'].unique()"
   ]
  },
  {
   "cell_type": "code",
   "execution_count": 17,
   "id": "9ae94825-0550-47c7-b488-2dd1687408d0",
   "metadata": {
    "tags": []
   },
   "outputs": [
    {
     "data": {
      "text/plain": [
       "array(['England-vs-New-Zealand', 'Netherlands-vs-Pakistan',\n",
       "       'Afghanistan-vs-Bangladesh', 'South-Africa-vs-Sri-Lanka',\n",
       "       'India-vs-Australia', 'Netherlands-vs-New-Zealand',\n",
       "       'Bangladesh-vs-England', 'Pakistan-vs-Sri-Lanka',\n",
       "       'India-vs-Afghanistan', 'Australia-vs-South-Africa',\n",
       "       'Bangladesh-vs-New-Zealand', 'India-vs-Pakistan',\n",
       "       'Afghanistan-vs-England', 'Australia-vs-Sri-Lanka',\n",
       "       'Netherlands-vs-South-Africa', 'Afghanistan-vs-New-Zealand',\n",
       "       'India-vs-Bangladesh', 'Australia-vs-Pakistan',\n",
       "       'Netherlands-vs-Sri-Lanka', 'England-vs-South-Africa',\n",
       "       'India-vs-New-Zealand', 'Afghanistan-vs-Pakistan',\n",
       "       'Bangladesh-vs-South-Africa', 'Australia-vs-Netherlands',\n",
       "       'England-vs-Sri-Lanka', 'Pakistan-vs-South-Africa',\n",
       "       'Australia-vs-New-Zealand', 'Bangladesh-vs-Netherlands',\n",
       "       'India-vs-England', 'Afghanistan-vs-Sri-Lanka',\n",
       "       'Bangladesh-vs-Pakistan', 'New-Zealand-vs-South-Africa',\n",
       "       'India-vs-Sri-Lanka', 'Afghanistan-vs-Netherlands',\n",
       "       'New-Zealand-vs-Pakistan', 'Australia-vs-England',\n",
       "       'India-vs-South-Africa', 'Bangladesh-vs-Sri-Lanka',\n",
       "       'Afghanistan-vs-Australia', 'England-vs-Netherlands',\n",
       "       'New-Zealand-vs-Sri-Lanka', 'Afghanistan-vs-South-Africa',\n",
       "       'Australia-vs-Bangladesh', 'England-vs-Pakistan',\n",
       "       'India-vs-Netherlands'], dtype=object)"
      ]
     },
     "execution_count": 17,
     "metadata": {},
     "output_type": "execute_result"
    }
   ],
   "source": [
    "df['MATCH' ].unique()"
   ]
  },
  {
   "cell_type": "code",
   "execution_count": 18,
   "id": "d10a3577-4b6b-4af6-b6d6-e13607a5b55b",
   "metadata": {},
   "outputs": [
    {
     "data": {
      "text/plain": [
       "array(['England', 'New-Zealand', 'Pakistan', 'Netherlands', 'Afghanistan',\n",
       "       'Bangladesh', 'South-Africa', 'Sri-Lanka', 'Australia', 'India'],\n",
       "      dtype=object)"
      ]
     },
     "execution_count": 18,
     "metadata": {},
     "output_type": "execute_result"
    }
   ],
   "source": [
    "df['BATTING_TEAM'].unique()"
   ]
  },
  {
   "cell_type": "markdown",
   "id": "94ddc5e4-6403-41ab-9436-a35c9b795757",
   "metadata": {},
   "source": [
    "### Checking missing values"
   ]
  },
  {
   "cell_type": "code",
   "execution_count": 19,
   "id": "dc6cbd46-fc0c-40d5-afca-1e3d4bb6cb4b",
   "metadata": {},
   "outputs": [
    {
     "data": {
      "text/plain": [
       "BATTING             0.0\n",
       "DISMISSAL           0.0\n",
       "RUNS                0.0\n",
       "BALLS               0.0\n",
       "MINUTES             0.0\n",
       "FOURS               0.0\n",
       "SIXES               0.0\n",
       "STRICK RATE         0.0\n",
       "BATTING_POSITION    0.0\n",
       "MATCH_ID            0.0\n",
       "MATCH               0.0\n",
       "BATTING_TEAM        0.0\n",
       "dtype: float64"
      ]
     },
     "execution_count": 19,
     "metadata": {},
     "output_type": "execute_result"
    }
   ],
   "source": [
    "df.isna().sum()/len(df)*100"
   ]
  },
  {
   "cell_type": "markdown",
   "id": "bde7a10d-da45-4b81-878d-aafe2e550fcc",
   "metadata": {},
   "source": [
    "### Checking duplicate values"
   ]
  },
  {
   "cell_type": "code",
   "execution_count": 20,
   "id": "230f5f5a-689d-4b54-8c61-50c880d5d74d",
   "metadata": {},
   "outputs": [
    {
     "data": {
      "text/plain": [
       "0"
      ]
     },
     "execution_count": 20,
     "metadata": {},
     "output_type": "execute_result"
    }
   ],
   "source": [
    "df.duplicated().sum()"
   ]
  },
  {
   "cell_type": "markdown",
   "id": "c88f5f30-b421-4267-bade-f9289224b10b",
   "metadata": {},
   "source": [
    "###  Converting the RUNS,BALLS,MINUTES,SIXES,FOURS,STRICK RATE columns to float data type."
   ]
  },
  {
   "cell_type": "code",
   "execution_count": 21,
   "id": "f0be868e-50ea-4515-b7c8-3a6d07cc8bd3",
   "metadata": {},
   "outputs": [],
   "source": [
    "df['RUNS'] = pd.to_numeric(df['RUNS'], errors='coerce')\n",
    "df['BALLS']=pd.to_numeric(df['BALLS'],errors='coerce')"
   ]
  },
  {
   "cell_type": "code",
   "execution_count": 22,
   "id": "553c986d-591b-41cf-a217-1d62b852ce96",
   "metadata": {},
   "outputs": [],
   "source": [
    "df['MINUTES']=pd.to_numeric(df['MINUTES'],errors='coerce')"
   ]
  },
  {
   "cell_type": "code",
   "execution_count": 23,
   "id": "083afa78-6aab-47f5-bf9a-44c10ca9d879",
   "metadata": {},
   "outputs": [],
   "source": [
    "df['SIXES']=pd.to_numeric(df['SIXES'],errors='coerce')"
   ]
  },
  {
   "cell_type": "code",
   "execution_count": 24,
   "id": "ba947bc5-6389-4ab4-adb4-710bba6915cf",
   "metadata": {},
   "outputs": [],
   "source": [
    "df['FOURS']=pd.to_numeric(df['FOURS'],errors='coerce')"
   ]
  },
  {
   "cell_type": "code",
   "execution_count": 25,
   "id": "abf9c930-739a-4144-a9a1-fe30818e5b5e",
   "metadata": {},
   "outputs": [],
   "source": [
    "\n",
    "df['STRICK RATE']=pd.to_numeric(df['STRICK RATE'],errors='coerce')"
   ]
  },
  {
   "cell_type": "markdown",
   "id": "4d50b116-343a-4825-b19d-6c943bb1e094",
   "metadata": {},
   "source": [
    "### Checking the each column type after changing the data type"
   ]
  },
  {
   "cell_type": "code",
   "execution_count": 26,
   "id": "b496a07d-fdff-46f4-8a6b-cc7c7d9ba0e8",
   "metadata": {},
   "outputs": [
    {
     "data": {
      "text/plain": [
       "BATTING              object\n",
       "DISMISSAL            object\n",
       "RUNS                float64\n",
       "BALLS               float64\n",
       "MINUTES             float64\n",
       "FOURS               float64\n",
       "SIXES               float64\n",
       "STRICK RATE         float64\n",
       "BATTING_POSITION      int64\n",
       "MATCH_ID             object\n",
       "MATCH                object\n",
       "BATTING_TEAM         object\n",
       "dtype: object"
      ]
     },
     "execution_count": 26,
     "metadata": {},
     "output_type": "execute_result"
    }
   ],
   "source": [
    "df.dtypes"
   ]
  },
  {
   "cell_type": "markdown",
   "id": "2516932e-64ae-41d7-a109-8b69f9c67370",
   "metadata": {},
   "source": [
    "### Again checking the missing values"
   ]
  },
  {
   "cell_type": "code",
   "execution_count": 27,
   "id": "458934ce-afb1-46e5-b449-b3e4f95b1792",
   "metadata": {},
   "outputs": [
    {
     "data": {
      "text/plain": [
       "BATTING             0.000000\n",
       "DISMISSAL           0.000000\n",
       "RUNS                0.114155\n",
       "BALLS               0.114155\n",
       "MINUTES             0.114155\n",
       "FOURS               0.114155\n",
       "SIXES               0.114155\n",
       "STRICK RATE         0.570776\n",
       "BATTING_POSITION    0.000000\n",
       "MATCH_ID            0.000000\n",
       "MATCH               0.000000\n",
       "BATTING_TEAM        0.000000\n",
       "dtype: float64"
      ]
     },
     "execution_count": 27,
     "metadata": {},
     "output_type": "execute_result"
    }
   ],
   "source": [
    "df.isna().sum()/len(df)*100"
   ]
  },
  {
   "cell_type": "markdown",
   "id": "dc200e69-5040-46e5-8d42-f5054131bf0b",
   "metadata": {},
   "source": [
    "### Handling missing values"
   ]
  },
  {
   "cell_type": "code",
   "execution_count": 28,
   "id": "b26aa434-9772-4b14-804f-595160cbd483",
   "metadata": {},
   "outputs": [],
   "source": [
    "df.dropna(inplace=True)"
   ]
  },
  {
   "cell_type": "markdown",
   "id": "92c366f1-8676-4ff1-b872-2067bb73d843",
   "metadata": {},
   "source": [
    "### checking missing values after handling "
   ]
  },
  {
   "cell_type": "code",
   "execution_count": 29,
   "id": "13cc7f91-9eda-40e8-af15-54f45815843e",
   "metadata": {},
   "outputs": [
    {
     "data": {
      "text/plain": [
       "BATTING             0.0\n",
       "DISMISSAL           0.0\n",
       "RUNS                0.0\n",
       "BALLS               0.0\n",
       "MINUTES             0.0\n",
       "FOURS               0.0\n",
       "SIXES               0.0\n",
       "STRICK RATE         0.0\n",
       "BATTING_POSITION    0.0\n",
       "MATCH_ID            0.0\n",
       "MATCH               0.0\n",
       "BATTING_TEAM        0.0\n",
       "dtype: float64"
      ]
     },
     "execution_count": 29,
     "metadata": {},
     "output_type": "execute_result"
    }
   ],
   "source": [
    "df.isna().sum()/len(df)*100"
   ]
  },
  {
   "cell_type": "markdown",
   "id": "76ae46ed-3b33-40ec-8582-380069343eca",
   "metadata": {},
   "source": [
    "## Exploratory Data Analysis"
   ]
  },
  {
   "cell_type": "markdown",
   "id": "cbd76557-bb4d-44c7-a0b9-69733c21810b",
   "metadata": {},
   "source": [
    "### 1) which players had better strike rates throughout the tournament?"
   ]
  },
  {
   "cell_type": "code",
   "execution_count": 30,
   "id": "ccd1c0cf-4a39-4a0e-a4f1-7694de5122f4",
   "metadata": {
    "tags": []
   },
   "outputs": [
    {
     "data": {
      "text/html": [
       "<div>\n",
       "<style scoped>\n",
       "    .dataframe tbody tr th:only-of-type {\n",
       "        vertical-align: middle;\n",
       "    }\n",
       "\n",
       "    .dataframe tbody tr th {\n",
       "        vertical-align: top;\n",
       "    }\n",
       "\n",
       "    .dataframe thead th {\n",
       "        text-align: right;\n",
       "    }\n",
       "</style>\n",
       "<table border=\"1\" class=\"dataframe\">\n",
       "  <thead>\n",
       "    <tr style=\"text-align: right;\">\n",
       "      <th></th>\n",
       "      <th>BATTING</th>\n",
       "      <th>DISMISSAL</th>\n",
       "      <th>RUNS</th>\n",
       "      <th>BALLS</th>\n",
       "      <th>MINUTES</th>\n",
       "      <th>FOURS</th>\n",
       "      <th>SIXES</th>\n",
       "      <th>STRICK RATE</th>\n",
       "      <th>BATTING_POSITION</th>\n",
       "      <th>MATCH_ID</th>\n",
       "      <th>MATCH</th>\n",
       "      <th>BATTING_TEAM</th>\n",
       "    </tr>\n",
       "  </thead>\n",
       "  <tbody>\n",
       "    <tr>\n",
       "      <th>0</th>\n",
       "      <td>Jonny Bairstow</td>\n",
       "      <td>c Mitchell b Santner</td>\n",
       "      <td>33.0</td>\n",
       "      <td>35.0</td>\n",
       "      <td>57.0</td>\n",
       "      <td>4.0</td>\n",
       "      <td>1.0</td>\n",
       "      <td>94.28</td>\n",
       "      <td>1</td>\n",
       "      <td>ODI # 4658</td>\n",
       "      <td>England-vs-New-Zealand</td>\n",
       "      <td>England</td>\n",
       "    </tr>\n",
       "    <tr>\n",
       "      <th>1</th>\n",
       "      <td>Dawid Malan</td>\n",
       "      <td>c  wk Latham b Henry</td>\n",
       "      <td>14.0</td>\n",
       "      <td>24.0</td>\n",
       "      <td>36.0</td>\n",
       "      <td>2.0</td>\n",
       "      <td>0.0</td>\n",
       "      <td>58.33</td>\n",
       "      <td>2</td>\n",
       "      <td>ODI # 4658</td>\n",
       "      <td>England-vs-New-Zealand</td>\n",
       "      <td>England</td>\n",
       "    </tr>\n",
       "    <tr>\n",
       "      <th>2</th>\n",
       "      <td>Joe Root</td>\n",
       "      <td>b Phillips</td>\n",
       "      <td>77.0</td>\n",
       "      <td>86.0</td>\n",
       "      <td>140.0</td>\n",
       "      <td>4.0</td>\n",
       "      <td>1.0</td>\n",
       "      <td>89.53</td>\n",
       "      <td>3</td>\n",
       "      <td>ODI # 4658</td>\n",
       "      <td>England-vs-New-Zealand</td>\n",
       "      <td>England</td>\n",
       "    </tr>\n",
       "  </tbody>\n",
       "</table>\n",
       "</div>"
      ],
      "text/plain": [
       "          BATTING             DISMISSAL  RUNS  BALLS  MINUTES  FOURS  SIXES  \\\n",
       "0  Jonny Bairstow  c Mitchell b Santner  33.0   35.0     57.0    4.0    1.0   \n",
       "1     Dawid Malan  c  wk Latham b Henry  14.0   24.0     36.0    2.0    0.0   \n",
       "2        Joe Root            b Phillips  77.0   86.0    140.0    4.0    1.0   \n",
       "\n",
       "   STRICK RATE  BATTING_POSITION    MATCH_ID                   MATCH  \\\n",
       "0        94.28                 1  ODI # 4658  England-vs-New-Zealand   \n",
       "1        58.33                 2  ODI # 4658  England-vs-New-Zealand   \n",
       "2        89.53                 3  ODI # 4658  England-vs-New-Zealand   \n",
       "\n",
       "  BATTING_TEAM  \n",
       "0      England  \n",
       "1      England  \n",
       "2      England  "
      ]
     },
     "execution_count": 30,
     "metadata": {},
     "output_type": "execute_result"
    }
   ],
   "source": [
    "df.head(3)"
   ]
  },
  {
   "cell_type": "code",
   "execution_count": 31,
   "id": "ce3eb01f-0e12-4a75-8113-e20633af12b3",
   "metadata": {},
   "outputs": [],
   "source": [
    "batting_stk = df.groupby('BATTING')['STRICK RATE'].mean()"
   ]
  },
  {
   "cell_type": "code",
   "execution_count": 32,
   "id": "1cc89cb7-fee0-49c8-b6fd-dd2f7f0a72b4",
   "metadata": {},
   "outputs": [
    {
     "data": {
      "text/plain": [
       "BATTING\n",
       "Abdullah Shafique     71.400000\n",
       "Adam Zampa            75.230000\n",
       "Adil Rashid           91.631111\n",
       "Agha Salman          113.330000\n",
       "Aiden Markram        166.606250\n",
       "                        ...    \n",
       "Usama Mir              0.000000\n",
       "Vikramjit Singh       52.366667\n",
       "Virat Kohli           83.206364\n",
       "Wesley Barresi        66.167500\n",
       "Will Young            68.415000\n",
       "Name: STRICK RATE, Length: 153, dtype: float64"
      ]
     },
     "execution_count": 32,
     "metadata": {},
     "output_type": "execute_result"
    }
   ],
   "source": [
    "batting_stk"
   ]
  },
  {
   "cell_type": "code",
   "execution_count": 33,
   "id": "43ff4b3d-fa8f-48e9-aa06-fd3602d7d0c1",
   "metadata": {},
   "outputs": [],
   "source": [
    "highest = batting_stk.sort_values(ascending=False)"
   ]
  },
  {
   "cell_type": "code",
   "execution_count": 34,
   "id": "d53f12b4-5d61-47d8-9e38-a6b39e259696",
   "metadata": {},
   "outputs": [
    {
     "data": {
      "text/plain": [
       "BATTING\n",
       "Kusal Mendis wk        169.695000\n",
       "Aiden Markram          166.606250\n",
       "David Willey           163.933333\n",
       "Rohit Sharma (c)       151.610000\n",
       "Hardik Pandya          137.500000\n",
       "                          ...    \n",
       "Lungi Ngidi             19.243333\n",
       "Dushmantha Chameera     18.610000\n",
       "Fazalhaq Farooqi        16.666667\n",
       "Usama Mir                0.000000\n",
       "Alex Carey wk            0.000000\n",
       "Name: STRICK RATE, Length: 153, dtype: float64"
      ]
     },
     "execution_count": 34,
     "metadata": {},
     "output_type": "execute_result"
    }
   ],
   "source": [
    "highest"
   ]
  },
  {
   "cell_type": "code",
   "execution_count": 35,
   "id": "6542467c-2366-4abe-8c06-56bec98f5426",
   "metadata": {},
   "outputs": [
    {
     "data": {
      "text/plain": [
       "BATTING\n",
       "Kusal Mendis wk     169.695000\n",
       "Aiden Markram       166.606250\n",
       "David Willey        163.933333\n",
       "Rohit Sharma (c)    151.610000\n",
       "Hardik Pandya       137.500000\n",
       "Name: STRICK RATE, dtype: float64"
      ]
     },
     "execution_count": 35,
     "metadata": {},
     "output_type": "execute_result"
    }
   ],
   "source": [
    "top_5_players = highest.head(5)\n",
    "top_5_players"
   ]
  },
  {
   "cell_type": "code",
   "execution_count": 36,
   "id": "17c2e85e-51af-4ca2-bbe5-3559f7080561",
   "metadata": {},
   "outputs": [],
   "source": [
    "top_5_df = top_5_players.reset_index()"
   ]
  },
  {
   "cell_type": "code",
   "execution_count": 37,
   "id": "8a60bd0d-5856-4a03-aa32-dbfc7ed6f74c",
   "metadata": {},
   "outputs": [
    {
     "data": {
      "text/html": [
       "<div>\n",
       "<style scoped>\n",
       "    .dataframe tbody tr th:only-of-type {\n",
       "        vertical-align: middle;\n",
       "    }\n",
       "\n",
       "    .dataframe tbody tr th {\n",
       "        vertical-align: top;\n",
       "    }\n",
       "\n",
       "    .dataframe thead th {\n",
       "        text-align: right;\n",
       "    }\n",
       "</style>\n",
       "<table border=\"1\" class=\"dataframe\">\n",
       "  <thead>\n",
       "    <tr style=\"text-align: right;\">\n",
       "      <th></th>\n",
       "      <th>BATTING</th>\n",
       "      <th>STRICK RATE</th>\n",
       "    </tr>\n",
       "  </thead>\n",
       "  <tbody>\n",
       "    <tr>\n",
       "      <th>0</th>\n",
       "      <td>Kusal Mendis wk</td>\n",
       "      <td>169.695000</td>\n",
       "    </tr>\n",
       "    <tr>\n",
       "      <th>1</th>\n",
       "      <td>Aiden Markram</td>\n",
       "      <td>166.606250</td>\n",
       "    </tr>\n",
       "    <tr>\n",
       "      <th>2</th>\n",
       "      <td>David Willey</td>\n",
       "      <td>163.933333</td>\n",
       "    </tr>\n",
       "    <tr>\n",
       "      <th>3</th>\n",
       "      <td>Rohit Sharma (c)</td>\n",
       "      <td>151.610000</td>\n",
       "    </tr>\n",
       "    <tr>\n",
       "      <th>4</th>\n",
       "      <td>Hardik Pandya</td>\n",
       "      <td>137.500000</td>\n",
       "    </tr>\n",
       "  </tbody>\n",
       "</table>\n",
       "</div>"
      ],
      "text/plain": [
       "            BATTING  STRICK RATE\n",
       "0  Kusal Mendis wk    169.695000\n",
       "1     Aiden Markram   166.606250\n",
       "2      David Willey   163.933333\n",
       "3  Rohit Sharma (c)   151.610000\n",
       "4     Hardik Pandya   137.500000"
      ]
     },
     "execution_count": 37,
     "metadata": {},
     "output_type": "execute_result"
    }
   ],
   "source": [
    "top_5_df"
   ]
  },
  {
   "cell_type": "code",
   "execution_count": 38,
   "id": "aa912086-f0d5-4798-962f-c7c6da64aa2e",
   "metadata": {},
   "outputs": [
    {
     "data": {
      "text/plain": [
       "Text(0.5, 1.0, 'Top Five Highest Strick rate')"
      ]
     },
     "execution_count": 38,
     "metadata": {},
     "output_type": "execute_result"
    },
    {
     "data": {
      "image/png": "[encoded data removed]",
      "text/plain": [
       "<Figure size 800x600 with 1 Axes>"
      ]
     },
     "metadata": {},
     "output_type": "display_data"
    }
   ],
   "source": [
    "sns.set(style='darkgrid')\n",
    "plt.figure(figsize=(8, 6))\n",
    "sns.barplot(x='BATTING', y='STRICK RATE', data=top_5_df, palette='viridis')\n",
    "plt.title('Top Five Highest Strick rate')"
   ]
  },
  {
   "cell_type": "markdown",
   "id": "d6b05f6a-b45b-4ec7-a7bd-3e9cacce63ad",
   "metadata": {},
   "source": [
    "*  From the above graph we can see top five batsmen whose strick rate very well throughout the tournament.Here kusal Mendis has the highest batting strick rate."
   ]
  },
  {
   "cell_type": "markdown",
   "id": "7c163d44-f5cc-4a6a-ad95-670d7aeea729",
   "metadata": {},
   "source": [
    "### 2)Who are the top five performing players based on the total runs scored?"
   ]
  },
  {
   "cell_type": "code",
   "execution_count": 39,
   "id": "40518b9b-cf60-4ee9-82ac-dfac7e42d0ce",
   "metadata": {},
   "outputs": [
    {
     "data": {
      "text/html": [
       "<div>\n",
       "<style scoped>\n",
       "    .dataframe tbody tr th:only-of-type {\n",
       "        vertical-align: middle;\n",
       "    }\n",
       "\n",
       "    .dataframe tbody tr th {\n",
       "        vertical-align: top;\n",
       "    }\n",
       "\n",
       "    .dataframe thead th {\n",
       "        text-align: right;\n",
       "    }\n",
       "</style>\n",
       "<table border=\"1\" class=\"dataframe\">\n",
       "  <thead>\n",
       "    <tr style=\"text-align: right;\">\n",
       "      <th></th>\n",
       "      <th>BATTING</th>\n",
       "      <th>DISMISSAL</th>\n",
       "      <th>RUNS</th>\n",
       "      <th>BALLS</th>\n",
       "      <th>MINUTES</th>\n",
       "      <th>FOURS</th>\n",
       "      <th>SIXES</th>\n",
       "      <th>STRICK RATE</th>\n",
       "      <th>BATTING_POSITION</th>\n",
       "      <th>MATCH_ID</th>\n",
       "      <th>MATCH</th>\n",
       "      <th>BATTING_TEAM</th>\n",
       "    </tr>\n",
       "  </thead>\n",
       "  <tbody>\n",
       "    <tr>\n",
       "      <th>0</th>\n",
       "      <td>Jonny Bairstow</td>\n",
       "      <td>c Mitchell b Santner</td>\n",
       "      <td>33.0</td>\n",
       "      <td>35.0</td>\n",
       "      <td>57.0</td>\n",
       "      <td>4.0</td>\n",
       "      <td>1.0</td>\n",
       "      <td>94.28</td>\n",
       "      <td>1</td>\n",
       "      <td>ODI # 4658</td>\n",
       "      <td>England-vs-New-Zealand</td>\n",
       "      <td>England</td>\n",
       "    </tr>\n",
       "    <tr>\n",
       "      <th>1</th>\n",
       "      <td>Dawid Malan</td>\n",
       "      <td>c  wk Latham b Henry</td>\n",
       "      <td>14.0</td>\n",
       "      <td>24.0</td>\n",
       "      <td>36.0</td>\n",
       "      <td>2.0</td>\n",
       "      <td>0.0</td>\n",
       "      <td>58.33</td>\n",
       "      <td>2</td>\n",
       "      <td>ODI # 4658</td>\n",
       "      <td>England-vs-New-Zealand</td>\n",
       "      <td>England</td>\n",
       "    </tr>\n",
       "  </tbody>\n",
       "</table>\n",
       "</div>"
      ],
      "text/plain": [
       "          BATTING             DISMISSAL  RUNS  BALLS  MINUTES  FOURS  SIXES  \\\n",
       "0  Jonny Bairstow  c Mitchell b Santner  33.0   35.0     57.0    4.0    1.0   \n",
       "1     Dawid Malan  c  wk Latham b Henry  14.0   24.0     36.0    2.0    0.0   \n",
       "\n",
       "   STRICK RATE  BATTING_POSITION    MATCH_ID                   MATCH  \\\n",
       "0        94.28                 1  ODI # 4658  England-vs-New-Zealand   \n",
       "1        58.33                 2  ODI # 4658  England-vs-New-Zealand   \n",
       "\n",
       "  BATTING_TEAM  \n",
       "0      England  \n",
       "1      England  "
      ]
     },
     "execution_count": 39,
     "metadata": {},
     "output_type": "execute_result"
    }
   ],
   "source": [
    "df.head(2)"
   ]
  },
  {
   "cell_type": "code",
   "execution_count": 40,
   "id": "7d94af89-1e72-4172-bd2b-04b0fec006d6",
   "metadata": {},
   "outputs": [
    {
     "data": {
      "text/html": [
       "<div>\n",
       "<style scoped>\n",
       "    .dataframe tbody tr th:only-of-type {\n",
       "        vertical-align: middle;\n",
       "    }\n",
       "\n",
       "    .dataframe tbody tr th {\n",
       "        vertical-align: top;\n",
       "    }\n",
       "\n",
       "    .dataframe thead th {\n",
       "        text-align: right;\n",
       "    }\n",
       "</style>\n",
       "<table border=\"1\" class=\"dataframe\">\n",
       "  <thead>\n",
       "    <tr style=\"text-align: right;\">\n",
       "      <th></th>\n",
       "      <th>BATTING</th>\n",
       "      <th>RUNS</th>\n",
       "    </tr>\n",
       "  </thead>\n",
       "  <tbody>\n",
       "    <tr>\n",
       "      <th>0</th>\n",
       "      <td>Abdullah Shafique</td>\n",
       "      <td>336.0</td>\n",
       "    </tr>\n",
       "    <tr>\n",
       "      <th>1</th>\n",
       "      <td>Adam Zampa</td>\n",
       "      <td>48.0</td>\n",
       "    </tr>\n",
       "    <tr>\n",
       "      <th>2</th>\n",
       "      <td>Adil Rashid</td>\n",
       "      <td>92.0</td>\n",
       "    </tr>\n",
       "    <tr>\n",
       "      <th>3</th>\n",
       "      <td>Agha Salman</td>\n",
       "      <td>51.0</td>\n",
       "    </tr>\n",
       "    <tr>\n",
       "      <th>4</th>\n",
       "      <td>Aiden Markram</td>\n",
       "      <td>304.0</td>\n",
       "    </tr>\n",
       "    <tr>\n",
       "      <th>...</th>\n",
       "      <td>...</td>\n",
       "      <td>...</td>\n",
       "    </tr>\n",
       "    <tr>\n",
       "      <th>148</th>\n",
       "      <td>Usama Mir</td>\n",
       "      <td>0.0</td>\n",
       "    </tr>\n",
       "    <tr>\n",
       "      <th>149</th>\n",
       "      <td>Vikramjit Singh</td>\n",
       "      <td>98.0</td>\n",
       "    </tr>\n",
       "    <tr>\n",
       "      <th>150</th>\n",
       "      <td>Virat Kohli</td>\n",
       "      <td>765.0</td>\n",
       "    </tr>\n",
       "    <tr>\n",
       "      <th>151</th>\n",
       "      <td>Wesley Barresi</td>\n",
       "      <td>83.0</td>\n",
       "    </tr>\n",
       "    <tr>\n",
       "      <th>152</th>\n",
       "      <td>Will Young</td>\n",
       "      <td>206.0</td>\n",
       "    </tr>\n",
       "  </tbody>\n",
       "</table>\n",
       "<p>153 rows × 2 columns</p>\n",
       "</div>"
      ],
      "text/plain": [
       "               BATTING   RUNS\n",
       "0    Abdullah Shafique  336.0\n",
       "1           Adam Zampa   48.0\n",
       "2          Adil Rashid   92.0\n",
       "3          Agha Salman   51.0\n",
       "4        Aiden Markram  304.0\n",
       "..                 ...    ...\n",
       "148          Usama Mir    0.0\n",
       "149    Vikramjit Singh   98.0\n",
       "150        Virat Kohli  765.0\n",
       "151     Wesley Barresi   83.0\n",
       "152         Will Young  206.0\n",
       "\n",
       "[153 rows x 2 columns]"
      ]
     },
     "execution_count": 40,
     "metadata": {},
     "output_type": "execute_result"
    }
   ],
   "source": [
    "players=df.groupby('BATTING')['RUNS'].sum().reset_index()\n",
    "players"
   ]
  },
  {
   "cell_type": "code",
   "execution_count": 41,
   "id": "393fd103-8e9a-4d67-bcb1-b66689cc494e",
   "metadata": {},
   "outputs": [
    {
     "data": {
      "text/html": [
       "<div>\n",
       "<style scoped>\n",
       "    .dataframe tbody tr th:only-of-type {\n",
       "        vertical-align: middle;\n",
       "    }\n",
       "\n",
       "    .dataframe tbody tr th {\n",
       "        vertical-align: top;\n",
       "    }\n",
       "\n",
       "    .dataframe thead th {\n",
       "        text-align: right;\n",
       "    }\n",
       "</style>\n",
       "<table border=\"1\" class=\"dataframe\">\n",
       "  <thead>\n",
       "    <tr style=\"text-align: right;\">\n",
       "      <th></th>\n",
       "      <th>BATTING</th>\n",
       "      <th>RUNS</th>\n",
       "    </tr>\n",
       "  </thead>\n",
       "  <tbody>\n",
       "    <tr>\n",
       "      <th>150</th>\n",
       "      <td>Virat Kohli</td>\n",
       "      <td>765.0</td>\n",
       "    </tr>\n",
       "    <tr>\n",
       "      <th>107</th>\n",
       "      <td>Quinton de Kock wk</td>\n",
       "      <td>594.0</td>\n",
       "    </tr>\n",
       "    <tr>\n",
       "      <th>108</th>\n",
       "      <td>Rachin Ravindra</td>\n",
       "      <td>578.0</td>\n",
       "    </tr>\n",
       "    <tr>\n",
       "      <th>19</th>\n",
       "      <td>Daryl Mitchell</td>\n",
       "      <td>552.0</td>\n",
       "    </tr>\n",
       "    <tr>\n",
       "      <th>118</th>\n",
       "      <td>Rohit Sharma(c)</td>\n",
       "      <td>550.0</td>\n",
       "    </tr>\n",
       "    <tr>\n",
       "      <th>...</th>\n",
       "      <td>...</td>\n",
       "      <td>...</td>\n",
       "    </tr>\n",
       "    <tr>\n",
       "      <th>55</th>\n",
       "      <td>Josh Hazlewood</td>\n",
       "      <td>4.0</td>\n",
       "    </tr>\n",
       "    <tr>\n",
       "      <th>30</th>\n",
       "      <td>Dushan Hemantha</td>\n",
       "      <td>4.0</td>\n",
       "    </tr>\n",
       "    <tr>\n",
       "      <th>33</th>\n",
       "      <td>Fazalhaq Farooqi</td>\n",
       "      <td>2.0</td>\n",
       "    </tr>\n",
       "    <tr>\n",
       "      <th>148</th>\n",
       "      <td>Usama Mir</td>\n",
       "      <td>0.0</td>\n",
       "    </tr>\n",
       "    <tr>\n",
       "      <th>6</th>\n",
       "      <td>Alex Carey wk</td>\n",
       "      <td>0.0</td>\n",
       "    </tr>\n",
       "  </tbody>\n",
       "</table>\n",
       "<p>153 rows × 2 columns</p>\n",
       "</div>"
      ],
      "text/plain": [
       "                 BATTING   RUNS\n",
       "150          Virat Kohli  765.0\n",
       "107  Quinton de Kock wk   594.0\n",
       "108      Rachin Ravindra  578.0\n",
       "19        Daryl Mitchell  552.0\n",
       "118      Rohit Sharma(c)  550.0\n",
       "..                   ...    ...\n",
       "55        Josh Hazlewood    4.0\n",
       "30       Dushan Hemantha    4.0\n",
       "33      Fazalhaq Farooqi    2.0\n",
       "148            Usama Mir    0.0\n",
       "6         Alex Carey wk     0.0\n",
       "\n",
       "[153 rows x 2 columns]"
      ]
     },
     "execution_count": 41,
     "metadata": {},
     "output_type": "execute_result"
    }
   ],
   "source": [
    "top_performence=players.sort_values(by='RUNS',ascending=False)\n",
    "top_performence"
   ]
  },
  {
   "cell_type": "code",
   "execution_count": 42,
   "id": "a37d9d5e-263b-48e2-8fd2-b56f2bd7c22a",
   "metadata": {},
   "outputs": [],
   "source": [
    "top5_performence=top_performence.head(5)"
   ]
  },
  {
   "cell_type": "code",
   "execution_count": 43,
   "id": "b850344d-d648-44fa-95a7-176a377389c5",
   "metadata": {},
   "outputs": [
    {
     "data": {
      "text/html": [
       "<div>\n",
       "<style scoped>\n",
       "    .dataframe tbody tr th:only-of-type {\n",
       "        vertical-align: middle;\n",
       "    }\n",
       "\n",
       "    .dataframe tbody tr th {\n",
       "        vertical-align: top;\n",
       "    }\n",
       "\n",
       "    .dataframe thead th {\n",
       "        text-align: right;\n",
       "    }\n",
       "</style>\n",
       "<table border=\"1\" class=\"dataframe\">\n",
       "  <thead>\n",
       "    <tr style=\"text-align: right;\">\n",
       "      <th></th>\n",
       "      <th>BATTING</th>\n",
       "      <th>RUNS</th>\n",
       "    </tr>\n",
       "  </thead>\n",
       "  <tbody>\n",
       "    <tr>\n",
       "      <th>150</th>\n",
       "      <td>Virat Kohli</td>\n",
       "      <td>765.0</td>\n",
       "    </tr>\n",
       "    <tr>\n",
       "      <th>107</th>\n",
       "      <td>Quinton de Kock wk</td>\n",
       "      <td>594.0</td>\n",
       "    </tr>\n",
       "    <tr>\n",
       "      <th>108</th>\n",
       "      <td>Rachin Ravindra</td>\n",
       "      <td>578.0</td>\n",
       "    </tr>\n",
       "    <tr>\n",
       "      <th>19</th>\n",
       "      <td>Daryl Mitchell</td>\n",
       "      <td>552.0</td>\n",
       "    </tr>\n",
       "    <tr>\n",
       "      <th>118</th>\n",
       "      <td>Rohit Sharma(c)</td>\n",
       "      <td>550.0</td>\n",
       "    </tr>\n",
       "  </tbody>\n",
       "</table>\n",
       "</div>"
      ],
      "text/plain": [
       "                 BATTING   RUNS\n",
       "150          Virat Kohli  765.0\n",
       "107  Quinton de Kock wk   594.0\n",
       "108      Rachin Ravindra  578.0\n",
       "19        Daryl Mitchell  552.0\n",
       "118      Rohit Sharma(c)  550.0"
      ]
     },
     "execution_count": 43,
     "metadata": {},
     "output_type": "execute_result"
    }
   ],
   "source": [
    "top5_performence"
   ]
  },
  {
   "cell_type": "code",
   "execution_count": 108,
   "id": "b96f147e-afb7-4161-b6a0-9ac96d7e496e",
   "metadata": {},
   "outputs": [
    {
     "data": {
      "image/png": "[encoded data removed]",
      "text/plain": [
       "<Figure size 900x600 with 1 Axes>"
      ]
     },
     "metadata": {},
     "output_type": "display_data"
    }
   ],
   "source": [
    "sns.set(style='darkgrid')\n",
    "plt.figure(figsize=(9,6))\n",
    "sns.barplot(x='BATTING',y='RUNS',data=top5_performence,palette=\"coolwarm\",width=0.5)\n",
    "plt.title('TOP FIVE PERFORMING PLAYER',fontsize=15)\n",
    "plt.savefig('5 per')\n",
    "plt.show()"
   ]
  },
  {
   "cell_type": "markdown",
   "id": "278bc2b3-6baf-48a7-9d07-8490ffc718c5",
   "metadata": {},
   "source": [
    "* Here we can see top five performing players who are Virat kohili, Quinton de kock, Rachin Ravindra,Daryl Mitchell,Rohit Sharma . Virat kohli is the most performing player and he scored around  770 runs throughout the tournament  ."
   ]
  },
  {
   "cell_type": "markdown",
   "id": "74851fd8-81b5-48b9-81f6-d92f06a0973c",
   "metadata": {},
   "source": [
    "### 3)Which team has the highest total runs in the dataset?"
   ]
  },
  {
   "cell_type": "code",
   "execution_count": 45,
   "id": "39bec25f-a9e5-4499-b834-e68095e23cc3",
   "metadata": {
    "tags": []
   },
   "outputs": [
    {
     "data": {
      "text/plain": [
       "BATTING_TEAM\n",
       "Afghanistan     1990.0\n",
       "Australia       2945.0\n",
       "Bangladesh      1944.0\n",
       "England         2135.0\n",
       "India           3038.0\n",
       "Netherlands     1728.0\n",
       "New-Zealand     2712.0\n",
       "Pakistan        2220.0\n",
       "South-Africa    2773.0\n",
       "Sri-Lanka       1942.0\n",
       "Name: RUNS, dtype: float64"
      ]
     },
     "execution_count": 45,
     "metadata": {},
     "output_type": "execute_result"
    }
   ],
   "source": [
    "total_runs=df.groupby('BATTING_TEAM')['RUNS'].sum()\n",
    "total_runs"
   ]
  },
  {
   "cell_type": "code",
   "execution_count": 46,
   "id": "3781de68-f8c3-4249-8561-a8d3f7197755",
   "metadata": {},
   "outputs": [
    {
     "data": {
      "text/plain": [
       "BATTING_TEAM\n",
       "India           3038.0\n",
       "Australia       2945.0\n",
       "South-Africa    2773.0\n",
       "New-Zealand     2712.0\n",
       "Pakistan        2220.0\n",
       "England         2135.0\n",
       "Afghanistan     1990.0\n",
       "Bangladesh      1944.0\n",
       "Sri-Lanka       1942.0\n",
       "Netherlands     1728.0\n",
       "Name: RUNS, dtype: float64"
      ]
     },
     "execution_count": 46,
     "metadata": {},
     "output_type": "execute_result"
    }
   ],
   "source": [
    "top_team=total_runs.sort_values(ascending=False)\n",
    "top_team"
   ]
  },
  {
   "cell_type": "code",
   "execution_count": 47,
   "id": "386b1b90-0ac7-499a-82d5-bb28e236610b",
   "metadata": {},
   "outputs": [],
   "source": [
    "team= top_team.head(1)"
   ]
  },
  {
   "cell_type": "code",
   "execution_count": 48,
   "id": "a1789ccb-f1c7-4726-952c-c9d86a860f82",
   "metadata": {},
   "outputs": [
    {
     "data": {
      "text/plain": [
       "BATTING_TEAM\n",
       "India    3038.0\n",
       "Name: RUNS, dtype: float64"
      ]
     },
     "execution_count": 48,
     "metadata": {},
     "output_type": "execute_result"
    }
   ],
   "source": [
    "team"
   ]
  },
  {
   "cell_type": "code",
   "execution_count": 49,
   "id": "2a01b01a-c046-4943-9646-b402c02b9d93",
   "metadata": {},
   "outputs": [
    {
     "data": {
      "text/html": [
       "<div>\n",
       "<style scoped>\n",
       "    .dataframe tbody tr th:only-of-type {\n",
       "        vertical-align: middle;\n",
       "    }\n",
       "\n",
       "    .dataframe tbody tr th {\n",
       "        vertical-align: top;\n",
       "    }\n",
       "\n",
       "    .dataframe thead th {\n",
       "        text-align: right;\n",
       "    }\n",
       "</style>\n",
       "<table border=\"1\" class=\"dataframe\">\n",
       "  <thead>\n",
       "    <tr style=\"text-align: right;\">\n",
       "      <th></th>\n",
       "      <th>BATTING_TEAM</th>\n",
       "      <th>RUNS</th>\n",
       "    </tr>\n",
       "  </thead>\n",
       "  <tbody>\n",
       "    <tr>\n",
       "      <th>0</th>\n",
       "      <td>India</td>\n",
       "      <td>3038.0</td>\n",
       "    </tr>\n",
       "  </tbody>\n",
       "</table>\n",
       "</div>"
      ],
      "text/plain": [
       "  BATTING_TEAM    RUNS\n",
       "0        India  3038.0"
      ]
     },
     "execution_count": 49,
     "metadata": {},
     "output_type": "execute_result"
    }
   ],
   "source": [
    "highest_tr=team.reset_index()\n",
    "highest_tr"
   ]
  },
  {
   "cell_type": "code",
   "execution_count": 50,
   "id": "0d04b189-0306-4ba2-a948-de5575006e2b",
   "metadata": {},
   "outputs": [
    {
     "data": {
      "text/plain": [
       "Text(0.5, 1.0, 'THE TEAM WHO HAVE HIGHEST TOTAL RUNS')"
      ]
     },
     "execution_count": 50,
     "metadata": {},
     "output_type": "execute_result"
    },
    {
     "data": {
      "image/png": "[encoded data removed]",
      "text/plain": [
       "<Figure size 640x480 with 1 Axes>"
      ]
     },
     "metadata": {},
     "output_type": "display_data"
    }
   ],
   "source": [
    "sns.set(style='darkgrid')\n",
    "sns.barplot(x='BATTING_TEAM',y='RUNS',data=highest_tr,width=0.5)\n",
    "plt.title('THE TEAM WHO HAVE HIGHEST TOTAL RUNS',fontsize=15)"
   ]
  },
  {
   "cell_type": "markdown",
   "id": "ca5f239e-bf49-421d-9760-06e4dd27a9dd",
   "metadata": {},
   "source": [
    " * As per my analyse, India has the highest total runs(over 30000 runs) in the dataset."
   ]
  },
  {
   "cell_type": "markdown",
   "id": "6c83ee22-ab38-4de4-a427-ac6ff2667fb0",
   "metadata": {},
   "source": [
    "### 4)What are the most common types of dismissals among players?"
   ]
  },
  {
   "cell_type": "code",
   "execution_count": 51,
   "id": "ccd7100f-a3b2-40ca-9e7b-d12a64f41dac",
   "metadata": {},
   "outputs": [
    {
     "data": {
      "text/html": [
       "<div>\n",
       "<style scoped>\n",
       "    .dataframe tbody tr th:only-of-type {\n",
       "        vertical-align: middle;\n",
       "    }\n",
       "\n",
       "    .dataframe tbody tr th {\n",
       "        vertical-align: top;\n",
       "    }\n",
       "\n",
       "    .dataframe thead th {\n",
       "        text-align: right;\n",
       "    }\n",
       "</style>\n",
       "<table border=\"1\" class=\"dataframe\">\n",
       "  <thead>\n",
       "    <tr style=\"text-align: right;\">\n",
       "      <th></th>\n",
       "      <th>BATTING</th>\n",
       "      <th>DISMISSAL</th>\n",
       "      <th>RUNS</th>\n",
       "      <th>BALLS</th>\n",
       "      <th>MINUTES</th>\n",
       "      <th>FOURS</th>\n",
       "      <th>SIXES</th>\n",
       "      <th>STRICK RATE</th>\n",
       "      <th>BATTING_POSITION</th>\n",
       "      <th>MATCH_ID</th>\n",
       "      <th>MATCH</th>\n",
       "      <th>BATTING_TEAM</th>\n",
       "    </tr>\n",
       "  </thead>\n",
       "  <tbody>\n",
       "    <tr>\n",
       "      <th>0</th>\n",
       "      <td>Jonny Bairstow</td>\n",
       "      <td>c Mitchell b Santner</td>\n",
       "      <td>33.0</td>\n",
       "      <td>35.0</td>\n",
       "      <td>57.0</td>\n",
       "      <td>4.0</td>\n",
       "      <td>1.0</td>\n",
       "      <td>94.28</td>\n",
       "      <td>1</td>\n",
       "      <td>ODI # 4658</td>\n",
       "      <td>England-vs-New-Zealand</td>\n",
       "      <td>England</td>\n",
       "    </tr>\n",
       "    <tr>\n",
       "      <th>1</th>\n",
       "      <td>Dawid Malan</td>\n",
       "      <td>c  wk Latham b Henry</td>\n",
       "      <td>14.0</td>\n",
       "      <td>24.0</td>\n",
       "      <td>36.0</td>\n",
       "      <td>2.0</td>\n",
       "      <td>0.0</td>\n",
       "      <td>58.33</td>\n",
       "      <td>2</td>\n",
       "      <td>ODI # 4658</td>\n",
       "      <td>England-vs-New-Zealand</td>\n",
       "      <td>England</td>\n",
       "    </tr>\n",
       "  </tbody>\n",
       "</table>\n",
       "</div>"
      ],
      "text/plain": [
       "          BATTING             DISMISSAL  RUNS  BALLS  MINUTES  FOURS  SIXES  \\\n",
       "0  Jonny Bairstow  c Mitchell b Santner  33.0   35.0     57.0    4.0    1.0   \n",
       "1     Dawid Malan  c  wk Latham b Henry  14.0   24.0     36.0    2.0    0.0   \n",
       "\n",
       "   STRICK RATE  BATTING_POSITION    MATCH_ID                   MATCH  \\\n",
       "0        94.28                 1  ODI # 4658  England-vs-New-Zealand   \n",
       "1        58.33                 2  ODI # 4658  England-vs-New-Zealand   \n",
       "\n",
       "  BATTING_TEAM  \n",
       "0      England  \n",
       "1      England  "
      ]
     },
     "execution_count": 51,
     "metadata": {},
     "output_type": "execute_result"
    }
   ],
   "source": [
    "df.head(2)"
   ]
  },
  {
   "cell_type": "code",
   "execution_count": 52,
   "id": "443b2d17-7095-4217-824e-fca674b72f2c",
   "metadata": {},
   "outputs": [],
   "source": [
    "split_columns = df['DISMISSAL'].str.split(' ', expand=True)"
   ]
  },
  {
   "cell_type": "code",
   "execution_count": 53,
   "id": "56e8a623-a94d-4e58-82b0-91b475943dca",
   "metadata": {},
   "outputs": [
    {
     "data": {
      "text/html": [
       "<div>\n",
       "<style scoped>\n",
       "    .dataframe tbody tr th:only-of-type {\n",
       "        vertical-align: middle;\n",
       "    }\n",
       "\n",
       "    .dataframe tbody tr th {\n",
       "        vertical-align: top;\n",
       "    }\n",
       "\n",
       "    .dataframe thead th {\n",
       "        text-align: right;\n",
       "    }\n",
       "</style>\n",
       "<table border=\"1\" class=\"dataframe\">\n",
       "  <thead>\n",
       "    <tr style=\"text-align: right;\">\n",
       "      <th></th>\n",
       "      <th>0</th>\n",
       "      <th>1</th>\n",
       "      <th>2</th>\n",
       "      <th>3</th>\n",
       "      <th>4</th>\n",
       "      <th>5</th>\n",
       "      <th>6</th>\n",
       "      <th>7</th>\n",
       "      <th>8</th>\n",
       "    </tr>\n",
       "  </thead>\n",
       "  <tbody>\n",
       "    <tr>\n",
       "      <th>0</th>\n",
       "      <td>c</td>\n",
       "      <td>Mitchell</td>\n",
       "      <td>b</td>\n",
       "      <td>Santner</td>\n",
       "      <td>None</td>\n",
       "      <td>None</td>\n",
       "      <td>None</td>\n",
       "      <td>None</td>\n",
       "      <td>None</td>\n",
       "    </tr>\n",
       "    <tr>\n",
       "      <th>1</th>\n",
       "      <td>c</td>\n",
       "      <td></td>\n",
       "      <td>wk</td>\n",
       "      <td>Latham</td>\n",
       "      <td>b</td>\n",
       "      <td>Henry</td>\n",
       "      <td>None</td>\n",
       "      <td>None</td>\n",
       "      <td>None</td>\n",
       "    </tr>\n",
       "    <tr>\n",
       "      <th>2</th>\n",
       "      <td>b</td>\n",
       "      <td>Phillips</td>\n",
       "      <td>None</td>\n",
       "      <td>None</td>\n",
       "      <td>None</td>\n",
       "      <td>None</td>\n",
       "      <td>None</td>\n",
       "      <td>None</td>\n",
       "      <td>None</td>\n",
       "    </tr>\n",
       "    <tr>\n",
       "      <th>3</th>\n",
       "      <td>c</td>\n",
       "      <td>Conway</td>\n",
       "      <td>b</td>\n",
       "      <td>Ravindra</td>\n",
       "      <td>None</td>\n",
       "      <td>None</td>\n",
       "      <td>None</td>\n",
       "      <td>None</td>\n",
       "      <td>None</td>\n",
       "    </tr>\n",
       "    <tr>\n",
       "      <th>4</th>\n",
       "      <td>b</td>\n",
       "      <td>Phillips</td>\n",
       "      <td>None</td>\n",
       "      <td>None</td>\n",
       "      <td>None</td>\n",
       "      <td>None</td>\n",
       "      <td>None</td>\n",
       "      <td>None</td>\n",
       "      <td>None</td>\n",
       "    </tr>\n",
       "    <tr>\n",
       "      <th>...</th>\n",
       "      <td>...</td>\n",
       "      <td>...</td>\n",
       "      <td>...</td>\n",
       "      <td>...</td>\n",
       "      <td>...</td>\n",
       "      <td>...</td>\n",
       "      <td>...</td>\n",
       "      <td>...</td>\n",
       "      <td>...</td>\n",
       "    </tr>\n",
       "    <tr>\n",
       "      <th>871</th>\n",
       "      <td>c</td>\n",
       "      <td>Shubman</td>\n",
       "      <td>Gill</td>\n",
       "      <td>b</td>\n",
       "      <td>Mohammed</td>\n",
       "      <td>Siraj</td>\n",
       "      <td>None</td>\n",
       "      <td>None</td>\n",
       "      <td>None</td>\n",
       "    </tr>\n",
       "    <tr>\n",
       "      <th>872</th>\n",
       "      <td>c</td>\n",
       "      <td></td>\n",
       "      <td>wk</td>\n",
       "      <td>Rahul</td>\n",
       "      <td>b</td>\n",
       "      <td>Bumrah</td>\n",
       "      <td>None</td>\n",
       "      <td>None</td>\n",
       "      <td>None</td>\n",
       "    </tr>\n",
       "    <tr>\n",
       "      <th>873</th>\n",
       "      <td>lbw</td>\n",
       "      <td>b</td>\n",
       "      <td>Bumrah</td>\n",
       "      <td>None</td>\n",
       "      <td>None</td>\n",
       "      <td>None</td>\n",
       "      <td>None</td>\n",
       "      <td>None</td>\n",
       "      <td>None</td>\n",
       "    </tr>\n",
       "    <tr>\n",
       "      <th>874</th>\n",
       "      <td>not</td>\n",
       "      <td>out</td>\n",
       "      <td>None</td>\n",
       "      <td>None</td>\n",
       "      <td>None</td>\n",
       "      <td>None</td>\n",
       "      <td>None</td>\n",
       "      <td>None</td>\n",
       "      <td>None</td>\n",
       "    </tr>\n",
       "    <tr>\n",
       "      <th>875</th>\n",
       "      <td>not</td>\n",
       "      <td>out</td>\n",
       "      <td>None</td>\n",
       "      <td>None</td>\n",
       "      <td>None</td>\n",
       "      <td>None</td>\n",
       "      <td>None</td>\n",
       "      <td>None</td>\n",
       "      <td>None</td>\n",
       "    </tr>\n",
       "  </tbody>\n",
       "</table>\n",
       "<p>871 rows × 9 columns</p>\n",
       "</div>"
      ],
      "text/plain": [
       "       0         1       2         3         4       5     6     7     8\n",
       "0      c  Mitchell       b   Santner      None    None  None  None  None\n",
       "1      c                wk    Latham         b   Henry  None  None  None\n",
       "2      b  Phillips    None      None      None    None  None  None  None\n",
       "3      c    Conway       b  Ravindra      None    None  None  None  None\n",
       "4      b  Phillips    None      None      None    None  None  None  None\n",
       "..   ...       ...     ...       ...       ...     ...   ...   ...   ...\n",
       "871    c   Shubman    Gill         b  Mohammed   Siraj  None  None  None\n",
       "872    c                wk     Rahul         b  Bumrah  None  None  None\n",
       "873  lbw         b  Bumrah      None      None    None  None  None  None\n",
       "874  not       out    None      None      None    None  None  None  None\n",
       "875  not       out    None      None      None    None  None  None  None\n",
       "\n",
       "[871 rows x 9 columns]"
      ]
     },
     "execution_count": 53,
     "metadata": {},
     "output_type": "execute_result"
    }
   ],
   "source": [
    "split_columns"
   ]
  },
  {
   "cell_type": "code",
   "execution_count": 54,
   "id": "f2854937-f7a8-42b8-a730-e64ddd8bfcb6",
   "metadata": {},
   "outputs": [],
   "source": [
    "split_columns.drop([4,5,6,7,8],axis=1,inplace=True)"
   ]
  },
  {
   "cell_type": "code",
   "execution_count": 55,
   "id": "ed1890af-bba6-4374-8595-8759a5a4b157",
   "metadata": {},
   "outputs": [],
   "source": [
    "split_columns.rename({0:'ACTION',1:'CATCHER',2:'PREPOSITION',3:'BOWLER'},axis=1,inplace=True)"
   ]
  },
  {
   "cell_type": "code",
   "execution_count": 56,
   "id": "4cbc5d36-9353-491c-9f6f-5a987d4be557",
   "metadata": {},
   "outputs": [
    {
     "data": {
      "text/html": [
       "<div>\n",
       "<style scoped>\n",
       "    .dataframe tbody tr th:only-of-type {\n",
       "        vertical-align: middle;\n",
       "    }\n",
       "\n",
       "    .dataframe tbody tr th {\n",
       "        vertical-align: top;\n",
       "    }\n",
       "\n",
       "    .dataframe thead th {\n",
       "        text-align: right;\n",
       "    }\n",
       "</style>\n",
       "<table border=\"1\" class=\"dataframe\">\n",
       "  <thead>\n",
       "    <tr style=\"text-align: right;\">\n",
       "      <th></th>\n",
       "      <th>ACTION</th>\n",
       "      <th>CATCHER</th>\n",
       "      <th>PREPOSITION</th>\n",
       "      <th>BOWLER</th>\n",
       "    </tr>\n",
       "  </thead>\n",
       "  <tbody>\n",
       "    <tr>\n",
       "      <th>0</th>\n",
       "      <td>c</td>\n",
       "      <td>Mitchell</td>\n",
       "      <td>b</td>\n",
       "      <td>Santner</td>\n",
       "    </tr>\n",
       "    <tr>\n",
       "      <th>1</th>\n",
       "      <td>c</td>\n",
       "      <td></td>\n",
       "      <td>wk</td>\n",
       "      <td>Latham</td>\n",
       "    </tr>\n",
       "    <tr>\n",
       "      <th>2</th>\n",
       "      <td>b</td>\n",
       "      <td>Phillips</td>\n",
       "      <td>None</td>\n",
       "      <td>None</td>\n",
       "    </tr>\n",
       "    <tr>\n",
       "      <th>3</th>\n",
       "      <td>c</td>\n",
       "      <td>Conway</td>\n",
       "      <td>b</td>\n",
       "      <td>Ravindra</td>\n",
       "    </tr>\n",
       "    <tr>\n",
       "      <th>4</th>\n",
       "      <td>b</td>\n",
       "      <td>Phillips</td>\n",
       "      <td>None</td>\n",
       "      <td>None</td>\n",
       "    </tr>\n",
       "    <tr>\n",
       "      <th>...</th>\n",
       "      <td>...</td>\n",
       "      <td>...</td>\n",
       "      <td>...</td>\n",
       "      <td>...</td>\n",
       "    </tr>\n",
       "    <tr>\n",
       "      <th>871</th>\n",
       "      <td>c</td>\n",
       "      <td>Shubman</td>\n",
       "      <td>Gill</td>\n",
       "      <td>b</td>\n",
       "    </tr>\n",
       "    <tr>\n",
       "      <th>872</th>\n",
       "      <td>c</td>\n",
       "      <td></td>\n",
       "      <td>wk</td>\n",
       "      <td>Rahul</td>\n",
       "    </tr>\n",
       "    <tr>\n",
       "      <th>873</th>\n",
       "      <td>lbw</td>\n",
       "      <td>b</td>\n",
       "      <td>Bumrah</td>\n",
       "      <td>None</td>\n",
       "    </tr>\n",
       "    <tr>\n",
       "      <th>874</th>\n",
       "      <td>not</td>\n",
       "      <td>out</td>\n",
       "      <td>None</td>\n",
       "      <td>None</td>\n",
       "    </tr>\n",
       "    <tr>\n",
       "      <th>875</th>\n",
       "      <td>not</td>\n",
       "      <td>out</td>\n",
       "      <td>None</td>\n",
       "      <td>None</td>\n",
       "    </tr>\n",
       "  </tbody>\n",
       "</table>\n",
       "<p>871 rows × 4 columns</p>\n",
       "</div>"
      ],
      "text/plain": [
       "    ACTION   CATCHER PREPOSITION    BOWLER\n",
       "0        c  Mitchell           b   Santner\n",
       "1        c                    wk    Latham\n",
       "2        b  Phillips        None      None\n",
       "3        c    Conway           b  Ravindra\n",
       "4        b  Phillips        None      None\n",
       "..     ...       ...         ...       ...\n",
       "871      c   Shubman        Gill         b\n",
       "872      c                    wk     Rahul\n",
       "873    lbw         b      Bumrah      None\n",
       "874    not       out        None      None\n",
       "875    not       out        None      None\n",
       "\n",
       "[871 rows x 4 columns]"
      ]
     },
     "execution_count": 56,
     "metadata": {},
     "output_type": "execute_result"
    }
   ],
   "source": [
    "split_columns"
   ]
  },
  {
   "cell_type": "code",
   "execution_count": 57,
   "id": "18a02807-64fb-425d-b677-eca9c022b81f",
   "metadata": {},
   "outputs": [],
   "source": [
    "split_columns.drop(split_columns[split_columns['ACTION']=='not'].index,inplace=True)"
   ]
  },
  {
   "cell_type": "code",
   "execution_count": 58,
   "id": "fa61d53a-715b-4dd1-8942-62cba2ff75d6",
   "metadata": {},
   "outputs": [
    {
     "data": {
      "text/plain": [
       "Text(0.5, 1.0, 'Types of dismissals')"
      ]
     },
     "execution_count": 58,
     "metadata": {},
     "output_type": "execute_result"
    },
    {
     "data": {
      "image/png": "[encoded data removed]",
      "text/plain": [
       "<Figure size 640x480 with 1 Axes>"
      ]
     },
     "metadata": {},
     "output_type": "display_data"
    }
   ],
   "source": [
    "sns.countplot(x='ACTION',data=split_columns)\n",
    "plt.title('Types of dismissals',fontsize=15 )"
   ]
  },
  {
   "cell_type": "markdown",
   "id": "5008603f-9ff5-46f3-bf96-36ceebf5d424",
   "metadata": {},
   "source": [
    "* From the above graph, various types of dismissal actions are depicted. The abbreviations used include 'c' for caught out, 'b' for bowled out, 'run' for runout, 'lbw' for leg before wicket, 'st' for stumped out, and 'retired' for 'retired out.' Notably, the graph shows that the most common type of dismissal is being caught out. Around 500 players were out in this way."
   ]
  },
  {
   "cell_type": "markdown",
   "id": "15d40d9b-8d3b-4603-bc9c-b0607775cbad",
   "metadata": {},
   "source": [
    "### 5)who has scored the most centuries?"
   ]
  },
  {
   "cell_type": "code",
   "execution_count": 59,
   "id": "714a9b3e-1970-49a1-a2a3-ceca499fb47e",
   "metadata": {
    "tags": []
   },
   "outputs": [
    {
     "data": {
      "text/html": [
       "<div>\n",
       "<style scoped>\n",
       "    .dataframe tbody tr th:only-of-type {\n",
       "        vertical-align: middle;\n",
       "    }\n",
       "\n",
       "    .dataframe tbody tr th {\n",
       "        vertical-align: top;\n",
       "    }\n",
       "\n",
       "    .dataframe thead th {\n",
       "        text-align: right;\n",
       "    }\n",
       "</style>\n",
       "<table border=\"1\" class=\"dataframe\">\n",
       "  <thead>\n",
       "    <tr style=\"text-align: right;\">\n",
       "      <th></th>\n",
       "      <th>BATTING</th>\n",
       "      <th>DISMISSAL</th>\n",
       "      <th>RUNS</th>\n",
       "      <th>BALLS</th>\n",
       "      <th>MINUTES</th>\n",
       "      <th>FOURS</th>\n",
       "      <th>SIXES</th>\n",
       "      <th>STRICK RATE</th>\n",
       "      <th>BATTING_POSITION</th>\n",
       "      <th>MATCH_ID</th>\n",
       "      <th>MATCH</th>\n",
       "      <th>BATTING_TEAM</th>\n",
       "    </tr>\n",
       "  </thead>\n",
       "  <tbody>\n",
       "    <tr>\n",
       "      <th>11</th>\n",
       "      <td>Devon Conway</td>\n",
       "      <td>not out</td>\n",
       "      <td>152.0</td>\n",
       "      <td>121.0</td>\n",
       "      <td>147.0</td>\n",
       "      <td>19.0</td>\n",
       "      <td>3.0</td>\n",
       "      <td>125.61</td>\n",
       "      <td>1</td>\n",
       "      <td>ODI # 4658</td>\n",
       "      <td>England-vs-New-Zealand</td>\n",
       "      <td>New-Zealand</td>\n",
       "    </tr>\n",
       "    <tr>\n",
       "      <th>13</th>\n",
       "      <td>Rachin Ravindra</td>\n",
       "      <td>not out</td>\n",
       "      <td>123.0</td>\n",
       "      <td>96.0</td>\n",
       "      <td>141.0</td>\n",
       "      <td>11.0</td>\n",
       "      <td>5.0</td>\n",
       "      <td>128.12</td>\n",
       "      <td>3</td>\n",
       "      <td>ODI # 4658</td>\n",
       "      <td>England-vs-New-Zealand</td>\n",
       "      <td>New-Zealand</td>\n",
       "    </tr>\n",
       "    <tr>\n",
       "      <th>53</th>\n",
       "      <td>Quinton de Kock wk</td>\n",
       "      <td>c de Silva b Pathirana</td>\n",
       "      <td>100.0</td>\n",
       "      <td>84.0</td>\n",
       "      <td>140.0</td>\n",
       "      <td>12.0</td>\n",
       "      <td>3.0</td>\n",
       "      <td>119.04</td>\n",
       "      <td>1</td>\n",
       "      <td>ODI # 4661</td>\n",
       "      <td>South-Africa-vs-Sri-Lanka</td>\n",
       "      <td>South-Africa</td>\n",
       "    </tr>\n",
       "    <tr>\n",
       "      <th>55</th>\n",
       "      <td>Rassie van der Dussen</td>\n",
       "      <td>c Samarawickrama b Wellalage</td>\n",
       "      <td>108.0</td>\n",
       "      <td>110.0</td>\n",
       "      <td>161.0</td>\n",
       "      <td>13.0</td>\n",
       "      <td>2.0</td>\n",
       "      <td>98.18</td>\n",
       "      <td>3</td>\n",
       "      <td>ODI # 4661</td>\n",
       "      <td>South-Africa-vs-Sri-Lanka</td>\n",
       "      <td>South-Africa</td>\n",
       "    </tr>\n",
       "    <tr>\n",
       "      <th>56</th>\n",
       "      <td>Aiden Markram</td>\n",
       "      <td>c Rajitha b Madushanka</td>\n",
       "      <td>106.0</td>\n",
       "      <td>54.0</td>\n",
       "      <td>84.0</td>\n",
       "      <td>14.0</td>\n",
       "      <td>3.0</td>\n",
       "      <td>196.29</td>\n",
       "      <td>4</td>\n",
       "      <td>ODI # 4661</td>\n",
       "      <td>South-Africa-vs-Sri-Lanka</td>\n",
       "      <td>South-Africa</td>\n",
       "    </tr>\n",
       "    <tr>\n",
       "      <th>109</th>\n",
       "      <td>Dawid Malan</td>\n",
       "      <td>b Mahedi Hasan</td>\n",
       "      <td>140.0</td>\n",
       "      <td>107.0</td>\n",
       "      <td>106.0</td>\n",
       "      <td>16.0</td>\n",
       "      <td>5.0</td>\n",
       "      <td>130.84</td>\n",
       "      <td>2</td>\n",
       "      <td>ODI # 4664</td>\n",
       "      <td>Bangladesh-vs-England</td>\n",
       "      <td>England</td>\n",
       "    </tr>\n",
       "    <tr>\n",
       "      <th>132</th>\n",
       "      <td>Kusal Mendis wk</td>\n",
       "      <td>c Imam-ul-Haq b Hasan Ali</td>\n",
       "      <td>122.0</td>\n",
       "      <td>77.0</td>\n",
       "      <td>124.0</td>\n",
       "      <td>14.0</td>\n",
       "      <td>6.0</td>\n",
       "      <td>158.44</td>\n",
       "      <td>3</td>\n",
       "      <td>ODI # 4665</td>\n",
       "      <td>Pakistan-vs-Sri-Lanka</td>\n",
       "      <td>Sri-Lanka</td>\n",
       "    </tr>\n",
       "    <tr>\n",
       "      <th>133</th>\n",
       "      <td>Sadeera Samarawickrama</td>\n",
       "      <td>c  wk Mohammad Rizwan b Hasan Ali</td>\n",
       "      <td>108.0</td>\n",
       "      <td>89.0</td>\n",
       "      <td>139.0</td>\n",
       "      <td>11.0</td>\n",
       "      <td>2.0</td>\n",
       "      <td>121.34</td>\n",
       "      <td>4</td>\n",
       "      <td>ODI # 4665</td>\n",
       "      <td>Pakistan-vs-Sri-Lanka</td>\n",
       "      <td>Sri-Lanka</td>\n",
       "    </tr>\n",
       "    <tr>\n",
       "      <th>140</th>\n",
       "      <td>Abdullah Shafique</td>\n",
       "      <td>c sub (MADI Hemantha) b Pathirana</td>\n",
       "      <td>113.0</td>\n",
       "      <td>103.0</td>\n",
       "      <td>150.0</td>\n",
       "      <td>10.0</td>\n",
       "      <td>3.0</td>\n",
       "      <td>109.70</td>\n",
       "      <td>1</td>\n",
       "      <td>ODI # 4665</td>\n",
       "      <td>Pakistan-vs-Sri-Lanka</td>\n",
       "      <td>Pakistan</td>\n",
       "    </tr>\n",
       "    <tr>\n",
       "      <th>143</th>\n",
       "      <td>Mohammad Rizwan wk</td>\n",
       "      <td>not out</td>\n",
       "      <td>131.0</td>\n",
       "      <td>121.0</td>\n",
       "      <td>193.0</td>\n",
       "      <td>8.0</td>\n",
       "      <td>3.0</td>\n",
       "      <td>108.26</td>\n",
       "      <td>4</td>\n",
       "      <td>ODI # 4665</td>\n",
       "      <td>Pakistan-vs-Sri-Lanka</td>\n",
       "      <td>Pakistan</td>\n",
       "    </tr>\n",
       "    <tr>\n",
       "      <th>156</th>\n",
       "      <td>Rohit Sharma(c)</td>\n",
       "      <td>b Rashid Khan</td>\n",
       "      <td>131.0</td>\n",
       "      <td>84.0</td>\n",
       "      <td>111.0</td>\n",
       "      <td>16.0</td>\n",
       "      <td>5.0</td>\n",
       "      <td>155.95</td>\n",
       "      <td>1</td>\n",
       "      <td>ODI # 4666</td>\n",
       "      <td>India-vs-Afghanistan</td>\n",
       "      <td>India</td>\n",
       "    </tr>\n",
       "    <tr>\n",
       "      <th>160</th>\n",
       "      <td>Quinton de Kock wk</td>\n",
       "      <td>b Maxwell</td>\n",
       "      <td>109.0</td>\n",
       "      <td>106.0</td>\n",
       "      <td>147.0</td>\n",
       "      <td>8.0</td>\n",
       "      <td>5.0</td>\n",
       "      <td>102.83</td>\n",
       "      <td>1</td>\n",
       "      <td>ODI # 4667</td>\n",
       "      <td>Australia-vs-South-Africa</td>\n",
       "      <td>South-Africa</td>\n",
       "    </tr>\n",
       "    <tr>\n",
       "      <th>304</th>\n",
       "      <td>Virat Kohli</td>\n",
       "      <td>not out</td>\n",
       "      <td>103.0</td>\n",
       "      <td>97.0</td>\n",
       "      <td>113.0</td>\n",
       "      <td>6.0</td>\n",
       "      <td>4.0</td>\n",
       "      <td>106.18</td>\n",
       "      <td>3</td>\n",
       "      <td>ODI # 4674</td>\n",
       "      <td>India-vs-Bangladesh</td>\n",
       "      <td>India</td>\n",
       "    </tr>\n",
       "    <tr>\n",
       "      <th>307</th>\n",
       "      <td>David Warner</td>\n",
       "      <td>c sub (Shadab Khan) b Haris Rauf</td>\n",
       "      <td>163.0</td>\n",
       "      <td>124.0</td>\n",
       "      <td>180.0</td>\n",
       "      <td>14.0</td>\n",
       "      <td>9.0</td>\n",
       "      <td>131.45</td>\n",
       "      <td>1</td>\n",
       "      <td>ODI # 4675</td>\n",
       "      <td>Australia-vs-Pakistan</td>\n",
       "      <td>Australia</td>\n",
       "    </tr>\n",
       "    <tr>\n",
       "      <th>308</th>\n",
       "      <td>Mitchell Marsh</td>\n",
       "      <td>c Usama Mir b Shaheen Shah Afridi</td>\n",
       "      <td>121.0</td>\n",
       "      <td>108.0</td>\n",
       "      <td>139.0</td>\n",
       "      <td>10.0</td>\n",
       "      <td>9.0</td>\n",
       "      <td>112.03</td>\n",
       "      <td>2</td>\n",
       "      <td>ODI # 4675</td>\n",
       "      <td>Australia-vs-Pakistan</td>\n",
       "      <td>Australia</td>\n",
       "    </tr>\n",
       "    <tr>\n",
       "      <th>351</th>\n",
       "      <td>Heinrich Klaasen</td>\n",
       "      <td>b Atkinson</td>\n",
       "      <td>109.0</td>\n",
       "      <td>67.0</td>\n",
       "      <td>119.0</td>\n",
       "      <td>12.0</td>\n",
       "      <td>4.0</td>\n",
       "      <td>162.68</td>\n",
       "      <td>5</td>\n",
       "      <td>ODI # 4677</td>\n",
       "      <td>England-vs-South-Africa</td>\n",
       "      <td>South-Africa</td>\n",
       "    </tr>\n",
       "    <tr>\n",
       "      <th>370</th>\n",
       "      <td>Daryl Mitchell</td>\n",
       "      <td>c Kohli b Mohammed Shami</td>\n",
       "      <td>130.0</td>\n",
       "      <td>127.0</td>\n",
       "      <td>192.0</td>\n",
       "      <td>9.0</td>\n",
       "      <td>5.0</td>\n",
       "      <td>102.36</td>\n",
       "      <td>4</td>\n",
       "      <td>ODI # 4678</td>\n",
       "      <td>India-vs-New-Zealand</td>\n",
       "      <td>New-Zealand</td>\n",
       "    </tr>\n",
       "    <tr>\n",
       "      <th>398</th>\n",
       "      <td>Quinton de Kock wk</td>\n",
       "      <td>c Nasum Ahmed b Hasan Mahmud</td>\n",
       "      <td>174.0</td>\n",
       "      <td>140.0</td>\n",
       "      <td>192.0</td>\n",
       "      <td>15.0</td>\n",
       "      <td>7.0</td>\n",
       "      <td>124.28</td>\n",
       "      <td>1</td>\n",
       "      <td>ODI # 4680</td>\n",
       "      <td>Bangladesh-vs-South-Africa</td>\n",
       "      <td>South-Africa</td>\n",
       "    </tr>\n",
       "    <tr>\n",
       "      <th>410</th>\n",
       "      <td>Mahmudullah</td>\n",
       "      <td>c Jansen b Coetzee</td>\n",
       "      <td>111.0</td>\n",
       "      <td>111.0</td>\n",
       "      <td>150.0</td>\n",
       "      <td>11.0</td>\n",
       "      <td>4.0</td>\n",
       "      <td>100.00</td>\n",
       "      <td>6</td>\n",
       "      <td>ODI # 4680</td>\n",
       "      <td>Bangladesh-vs-South-Africa</td>\n",
       "      <td>Bangladesh</td>\n",
       "    </tr>\n",
       "    <tr>\n",
       "      <th>417</th>\n",
       "      <td>David Warner</td>\n",
       "      <td>c Dutt b van Beek</td>\n",
       "      <td>104.0</td>\n",
       "      <td>93.0</td>\n",
       "      <td>182.0</td>\n",
       "      <td>11.0</td>\n",
       "      <td>3.0</td>\n",
       "      <td>111.82</td>\n",
       "      <td>2</td>\n",
       "      <td>ODI # 4681</td>\n",
       "      <td>Australia-vs-Netherlands</td>\n",
       "      <td>Australia</td>\n",
       "    </tr>\n",
       "    <tr>\n",
       "      <th>421</th>\n",
       "      <td>Glenn Maxwell</td>\n",
       "      <td>c Engelbrecht b van Beek</td>\n",
       "      <td>106.0</td>\n",
       "      <td>44.0</td>\n",
       "      <td>53.0</td>\n",
       "      <td>9.0</td>\n",
       "      <td>8.0</td>\n",
       "      <td>240.90</td>\n",
       "      <td>6</td>\n",
       "      <td>ODI # 4681</td>\n",
       "      <td>Australia-vs-Netherlands</td>\n",
       "      <td>Australia</td>\n",
       "    </tr>\n",
       "    <tr>\n",
       "      <th>475</th>\n",
       "      <td>Travis Head</td>\n",
       "      <td>b Phillips</td>\n",
       "      <td>109.0</td>\n",
       "      <td>67.0</td>\n",
       "      <td>94.0</td>\n",
       "      <td>10.0</td>\n",
       "      <td>7.0</td>\n",
       "      <td>162.68</td>\n",
       "      <td>2</td>\n",
       "      <td>ODI # 4684</td>\n",
       "      <td>Australia-vs-New-Zealand</td>\n",
       "      <td>Australia</td>\n",
       "    </tr>\n",
       "    <tr>\n",
       "      <th>487</th>\n",
       "      <td>Rachin Ravindra</td>\n",
       "      <td>c Labuschagne b Cummins</td>\n",
       "      <td>116.0</td>\n",
       "      <td>89.0</td>\n",
       "      <td>137.0</td>\n",
       "      <td>9.0</td>\n",
       "      <td>5.0</td>\n",
       "      <td>130.33</td>\n",
       "      <td>3</td>\n",
       "      <td>ODI # 4684</td>\n",
       "      <td>Australia-vs-New-Zealand</td>\n",
       "      <td>New-Zealand</td>\n",
       "    </tr>\n",
       "    <tr>\n",
       "      <th>571</th>\n",
       "      <td>Quinton de Kock wk</td>\n",
       "      <td>c Phillips b Southee</td>\n",
       "      <td>114.0</td>\n",
       "      <td>116.0</td>\n",
       "      <td>176.0</td>\n",
       "      <td>10.0</td>\n",
       "      <td>3.0</td>\n",
       "      <td>98.27</td>\n",
       "      <td>1</td>\n",
       "      <td>ODI # 4689</td>\n",
       "      <td>New-Zealand-vs-South-Africa</td>\n",
       "      <td>South-Africa</td>\n",
       "    </tr>\n",
       "    <tr>\n",
       "      <th>573</th>\n",
       "      <td>Rassie van der Dussen</td>\n",
       "      <td>b Southee</td>\n",
       "      <td>133.0</td>\n",
       "      <td>118.0</td>\n",
       "      <td>172.0</td>\n",
       "      <td>9.0</td>\n",
       "      <td>5.0</td>\n",
       "      <td>112.71</td>\n",
       "      <td>3</td>\n",
       "      <td>ODI # 4689</td>\n",
       "      <td>New-Zealand-vs-South-Africa</td>\n",
       "      <td>South-Africa</td>\n",
       "    </tr>\n",
       "    <tr>\n",
       "      <th>625</th>\n",
       "      <td>Rachin Ravindra</td>\n",
       "      <td>c Saud Shakeel b Mohammad Wasim</td>\n",
       "      <td>108.0</td>\n",
       "      <td>94.0</td>\n",
       "      <td>170.0</td>\n",
       "      <td>15.0</td>\n",
       "      <td>1.0</td>\n",
       "      <td>114.89</td>\n",
       "      <td>2</td>\n",
       "      <td>ODI # 4692</td>\n",
       "      <td>New-Zealand-vs-Pakistan</td>\n",
       "      <td>New-Zealand</td>\n",
       "    </tr>\n",
       "    <tr>\n",
       "      <th>633</th>\n",
       "      <td>Fakhar Zaman</td>\n",
       "      <td>not out</td>\n",
       "      <td>126.0</td>\n",
       "      <td>81.0</td>\n",
       "      <td>103.0</td>\n",
       "      <td>8.0</td>\n",
       "      <td>11.0</td>\n",
       "      <td>155.55</td>\n",
       "      <td>2</td>\n",
       "      <td>ODI # 4692</td>\n",
       "      <td>New-Zealand-vs-Pakistan</td>\n",
       "      <td>Pakistan</td>\n",
       "    </tr>\n",
       "    <tr>\n",
       "      <th>659</th>\n",
       "      <td>Virat Kohli</td>\n",
       "      <td>not out</td>\n",
       "      <td>101.0</td>\n",
       "      <td>121.0</td>\n",
       "      <td>195.0</td>\n",
       "      <td>10.0</td>\n",
       "      <td>0.0</td>\n",
       "      <td>83.47</td>\n",
       "      <td>3</td>\n",
       "      <td>ODI # 4694</td>\n",
       "      <td>India-vs-South-Africa</td>\n",
       "      <td>India</td>\n",
       "    </tr>\n",
       "    <tr>\n",
       "      <th>679</th>\n",
       "      <td>Charith Asalanka</td>\n",
       "      <td>c Litton Das b Tanzim Hasan Sakib</td>\n",
       "      <td>108.0</td>\n",
       "      <td>105.0</td>\n",
       "      <td>159.0</td>\n",
       "      <td>6.0</td>\n",
       "      <td>5.0</td>\n",
       "      <td>102.85</td>\n",
       "      <td>5</td>\n",
       "      <td>ODI # 4695</td>\n",
       "      <td>Bangladesh-vs-Sri-Lanka</td>\n",
       "      <td>Sri-Lanka</td>\n",
       "    </tr>\n",
       "    <tr>\n",
       "      <th>696</th>\n",
       "      <td>Ibrahim Zadran</td>\n",
       "      <td>not out</td>\n",
       "      <td>129.0</td>\n",
       "      <td>143.0</td>\n",
       "      <td>217.0</td>\n",
       "      <td>8.0</td>\n",
       "      <td>3.0</td>\n",
       "      <td>90.20</td>\n",
       "      <td>2</td>\n",
       "      <td>ODI # 4696</td>\n",
       "      <td>Afghanistan-vs-Australia</td>\n",
       "      <td>Afghanistan</td>\n",
       "    </tr>\n",
       "    <tr>\n",
       "      <th>707</th>\n",
       "      <td>Glenn Maxwell</td>\n",
       "      <td>not out</td>\n",
       "      <td>201.0</td>\n",
       "      <td>128.0</td>\n",
       "      <td>181.0</td>\n",
       "      <td>21.0</td>\n",
       "      <td>10.0</td>\n",
       "      <td>157.03</td>\n",
       "      <td>6</td>\n",
       "      <td>ODI # 4696</td>\n",
       "      <td>Afghanistan-vs-Australia</td>\n",
       "      <td>Australia</td>\n",
       "    </tr>\n",
       "    <tr>\n",
       "      <th>714</th>\n",
       "      <td>Ben Stokes</td>\n",
       "      <td>c Engelbrecht b van Beek</td>\n",
       "      <td>108.0</td>\n",
       "      <td>84.0</td>\n",
       "      <td>136.0</td>\n",
       "      <td>6.0</td>\n",
       "      <td>6.0</td>\n",
       "      <td>128.57</td>\n",
       "      <td>4</td>\n",
       "      <td>ODI # 4697</td>\n",
       "      <td>England-vs-Netherlands</td>\n",
       "      <td>England</td>\n",
       "    </tr>\n",
       "    <tr>\n",
       "      <th>781</th>\n",
       "      <td>Mitchell Marsh</td>\n",
       "      <td>not out</td>\n",
       "      <td>177.0</td>\n",
       "      <td>132.0</td>\n",
       "      <td>177.0</td>\n",
       "      <td>17.0</td>\n",
       "      <td>9.0</td>\n",
       "      <td>134.09</td>\n",
       "      <td>3</td>\n",
       "      <td>ODI # 4700</td>\n",
       "      <td>Australia-vs-Bangladesh</td>\n",
       "      <td>Australia</td>\n",
       "    </tr>\n",
       "    <tr>\n",
       "      <th>808</th>\n",
       "      <td>Shreyas Iyer</td>\n",
       "      <td>not out</td>\n",
       "      <td>128.0</td>\n",
       "      <td>94.0</td>\n",
       "      <td>145.0</td>\n",
       "      <td>10.0</td>\n",
       "      <td>5.0</td>\n",
       "      <td>136.17</td>\n",
       "      <td>4</td>\n",
       "      <td>ODI # 4702</td>\n",
       "      <td>India-vs-Netherlands</td>\n",
       "      <td>India</td>\n",
       "    </tr>\n",
       "    <tr>\n",
       "      <th>809</th>\n",
       "      <td>KL Rahul wk</td>\n",
       "      <td>c Engelbrecht b de Leede</td>\n",
       "      <td>102.0</td>\n",
       "      <td>64.0</td>\n",
       "      <td>98.0</td>\n",
       "      <td>11.0</td>\n",
       "      <td>4.0</td>\n",
       "      <td>159.37</td>\n",
       "      <td>5</td>\n",
       "      <td>ODI # 4702</td>\n",
       "      <td>India-vs-Netherlands</td>\n",
       "      <td>India</td>\n",
       "    </tr>\n",
       "    <tr>\n",
       "      <th>824</th>\n",
       "      <td>Virat Kohli</td>\n",
       "      <td>c Conway b Southee</td>\n",
       "      <td>117.0</td>\n",
       "      <td>113.0</td>\n",
       "      <td>149.0</td>\n",
       "      <td>9.0</td>\n",
       "      <td>2.0</td>\n",
       "      <td>103.53</td>\n",
       "      <td>3</td>\n",
       "      <td>ODI # 4703</td>\n",
       "      <td>India-vs-New-Zealand</td>\n",
       "      <td>India</td>\n",
       "    </tr>\n",
       "    <tr>\n",
       "      <th>825</th>\n",
       "      <td>Shreyas Iyer</td>\n",
       "      <td>c Mitchell b Boult</td>\n",
       "      <td>105.0</td>\n",
       "      <td>70.0</td>\n",
       "      <td>114.0</td>\n",
       "      <td>4.0</td>\n",
       "      <td>8.0</td>\n",
       "      <td>150.00</td>\n",
       "      <td>4</td>\n",
       "      <td>ODI # 4703</td>\n",
       "      <td>India-vs-New-Zealand</td>\n",
       "      <td>India</td>\n",
       "    </tr>\n",
       "    <tr>\n",
       "      <th>831</th>\n",
       "      <td>Daryl Mitchell</td>\n",
       "      <td>c Jadeja b Mohammed Shami</td>\n",
       "      <td>134.0</td>\n",
       "      <td>119.0</td>\n",
       "      <td>180.0</td>\n",
       "      <td>9.0</td>\n",
       "      <td>7.0</td>\n",
       "      <td>112.60</td>\n",
       "      <td>4</td>\n",
       "      <td>ODI # 4703</td>\n",
       "      <td>India-vs-New-Zealand</td>\n",
       "      <td>New-Zealand</td>\n",
       "    </tr>\n",
       "    <tr>\n",
       "      <th>844</th>\n",
       "      <td>David Miller</td>\n",
       "      <td>c Head b Cummins</td>\n",
       "      <td>101.0</td>\n",
       "      <td>116.0</td>\n",
       "      <td>138.0</td>\n",
       "      <td>8.0</td>\n",
       "      <td>5.0</td>\n",
       "      <td>87.06</td>\n",
       "      <td>6</td>\n",
       "      <td>ODI # 4704</td>\n",
       "      <td>Australia-vs-South-Africa</td>\n",
       "      <td>South-Africa</td>\n",
       "    </tr>\n",
       "    <tr>\n",
       "      <th>871</th>\n",
       "      <td>Travis Head</td>\n",
       "      <td>c Shubman Gill b Mohammed Siraj</td>\n",
       "      <td>137.0</td>\n",
       "      <td>120.0</td>\n",
       "      <td>166.0</td>\n",
       "      <td>15.0</td>\n",
       "      <td>4.0</td>\n",
       "      <td>114.16</td>\n",
       "      <td>2</td>\n",
       "      <td>ODI # 4705</td>\n",
       "      <td>India-vs-Australia</td>\n",
       "      <td>Australia</td>\n",
       "    </tr>\n",
       "  </tbody>\n",
       "</table>\n",
       "</div>"
      ],
      "text/plain": [
       "                    BATTING                          DISMISSAL   RUNS  BALLS  \\\n",
       "11             Devon Conway                            not out  152.0  121.0   \n",
       "13          Rachin Ravindra                            not out  123.0   96.0   \n",
       "53      Quinton de Kock wk              c de Silva b Pathirana  100.0   84.0   \n",
       "55    Rassie van der Dussen       c Samarawickrama b Wellalage  108.0  110.0   \n",
       "56            Aiden Markram             c Rajitha b Madushanka  106.0   54.0   \n",
       "109             Dawid Malan                     b Mahedi Hasan  140.0  107.0   \n",
       "132        Kusal Mendis wk           c Imam-ul-Haq b Hasan Ali  122.0   77.0   \n",
       "133  Sadeera Samarawickrama  c  wk Mohammad Rizwan b Hasan Ali  108.0   89.0   \n",
       "140       Abdullah Shafique  c sub (MADI Hemantha) b Pathirana  113.0  103.0   \n",
       "143     Mohammad Rizwan wk                             not out  131.0  121.0   \n",
       "156         Rohit Sharma(c)                      b Rashid Khan  131.0   84.0   \n",
       "160     Quinton de Kock wk                           b Maxwell  109.0  106.0   \n",
       "304             Virat Kohli                            not out  103.0   97.0   \n",
       "307            David Warner   c sub (Shadab Khan) b Haris Rauf  163.0  124.0   \n",
       "308          Mitchell Marsh  c Usama Mir b Shaheen Shah Afridi  121.0  108.0   \n",
       "351        Heinrich Klaasen                         b Atkinson  109.0   67.0   \n",
       "370          Daryl Mitchell           c Kohli b Mohammed Shami  130.0  127.0   \n",
       "398     Quinton de Kock wk        c Nasum Ahmed b Hasan Mahmud  174.0  140.0   \n",
       "410             Mahmudullah                 c Jansen b Coetzee  111.0  111.0   \n",
       "417            David Warner                  c Dutt b van Beek  104.0   93.0   \n",
       "421           Glenn Maxwell           c Engelbrecht b van Beek  106.0   44.0   \n",
       "475             Travis Head                         b Phillips  109.0   67.0   \n",
       "487         Rachin Ravindra            c Labuschagne b Cummins  116.0   89.0   \n",
       "571     Quinton de Kock wk                c Phillips b Southee  114.0  116.0   \n",
       "573   Rassie van der Dussen                          b Southee  133.0  118.0   \n",
       "625         Rachin Ravindra    c Saud Shakeel b Mohammad Wasim  108.0   94.0   \n",
       "633            Fakhar Zaman                            not out  126.0   81.0   \n",
       "659             Virat Kohli                            not out  101.0  121.0   \n",
       "679        Charith Asalanka  c Litton Das b Tanzim Hasan Sakib  108.0  105.0   \n",
       "696          Ibrahim Zadran                            not out  129.0  143.0   \n",
       "707           Glenn Maxwell                            not out  201.0  128.0   \n",
       "714              Ben Stokes           c Engelbrecht b van Beek  108.0   84.0   \n",
       "781          Mitchell Marsh                            not out  177.0  132.0   \n",
       "808            Shreyas Iyer                            not out  128.0   94.0   \n",
       "809            KL Rahul wk            c Engelbrecht b de Leede  102.0   64.0   \n",
       "824             Virat Kohli                 c Conway b Southee  117.0  113.0   \n",
       "825            Shreyas Iyer                 c Mitchell b Boult  105.0   70.0   \n",
       "831          Daryl Mitchell          c Jadeja b Mohammed Shami  134.0  119.0   \n",
       "844            David Miller                   c Head b Cummins  101.0  116.0   \n",
       "871             Travis Head    c Shubman Gill b Mohammed Siraj  137.0  120.0   \n",
       "\n",
       "     MINUTES  FOURS  SIXES  STRICK RATE  BATTING_POSITION    MATCH_ID  \\\n",
       "11     147.0   19.0    3.0       125.61                 1  ODI # 4658   \n",
       "13     141.0   11.0    5.0       128.12                 3  ODI # 4658   \n",
       "53     140.0   12.0    3.0       119.04                 1  ODI # 4661   \n",
       "55     161.0   13.0    2.0        98.18                 3  ODI # 4661   \n",
       "56      84.0   14.0    3.0       196.29                 4  ODI # 4661   \n",
       "109    106.0   16.0    5.0       130.84                 2  ODI # 4664   \n",
       "132    124.0   14.0    6.0       158.44                 3  ODI # 4665   \n",
       "133    139.0   11.0    2.0       121.34                 4  ODI # 4665   \n",
       "140    150.0   10.0    3.0       109.70                 1  ODI # 4665   \n",
       "143    193.0    8.0    3.0       108.26                 4  ODI # 4665   \n",
       "156    111.0   16.0    5.0       155.95                 1  ODI # 4666   \n",
       "160    147.0    8.0    5.0       102.83                 1  ODI # 4667   \n",
       "304    113.0    6.0    4.0       106.18                 3  ODI # 4674   \n",
       "307    180.0   14.0    9.0       131.45                 1  ODI # 4675   \n",
       "308    139.0   10.0    9.0       112.03                 2  ODI # 4675   \n",
       "351    119.0   12.0    4.0       162.68                 5  ODI # 4677   \n",
       "370    192.0    9.0    5.0       102.36                 4  ODI # 4678   \n",
       "398    192.0   15.0    7.0       124.28                 1  ODI # 4680   \n",
       "410    150.0   11.0    4.0       100.00                 6  ODI # 4680   \n",
       "417    182.0   11.0    3.0       111.82                 2  ODI # 4681   \n",
       "421     53.0    9.0    8.0       240.90                 6  ODI # 4681   \n",
       "475     94.0   10.0    7.0       162.68                 2  ODI # 4684   \n",
       "487    137.0    9.0    5.0       130.33                 3  ODI # 4684   \n",
       "571    176.0   10.0    3.0        98.27                 1  ODI # 4689   \n",
       "573    172.0    9.0    5.0       112.71                 3  ODI # 4689   \n",
       "625    170.0   15.0    1.0       114.89                 2  ODI # 4692   \n",
       "633    103.0    8.0   11.0       155.55                 2  ODI # 4692   \n",
       "659    195.0   10.0    0.0        83.47                 3  ODI # 4694   \n",
       "679    159.0    6.0    5.0       102.85                 5  ODI # 4695   \n",
       "696    217.0    8.0    3.0        90.20                 2  ODI # 4696   \n",
       "707    181.0   21.0   10.0       157.03                 6  ODI # 4696   \n",
       "714    136.0    6.0    6.0       128.57                 4  ODI # 4697   \n",
       "781    177.0   17.0    9.0       134.09                 3  ODI # 4700   \n",
       "808    145.0   10.0    5.0       136.17                 4  ODI # 4702   \n",
       "809     98.0   11.0    4.0       159.37                 5  ODI # 4702   \n",
       "824    149.0    9.0    2.0       103.53                 3  ODI # 4703   \n",
       "825    114.0    4.0    8.0       150.00                 4  ODI # 4703   \n",
       "831    180.0    9.0    7.0       112.60                 4  ODI # 4703   \n",
       "844    138.0    8.0    5.0        87.06                 6  ODI # 4704   \n",
       "871    166.0   15.0    4.0       114.16                 2  ODI # 4705   \n",
       "\n",
       "                           MATCH  BATTING_TEAM  \n",
       "11        England-vs-New-Zealand   New-Zealand  \n",
       "13        England-vs-New-Zealand   New-Zealand  \n",
       "53     South-Africa-vs-Sri-Lanka  South-Africa  \n",
       "55     South-Africa-vs-Sri-Lanka  South-Africa  \n",
       "56     South-Africa-vs-Sri-Lanka  South-Africa  \n",
       "109        Bangladesh-vs-England       England  \n",
       "132        Pakistan-vs-Sri-Lanka     Sri-Lanka  \n",
       "133        Pakistan-vs-Sri-Lanka     Sri-Lanka  \n",
       "140        Pakistan-vs-Sri-Lanka      Pakistan  \n",
       "143        Pakistan-vs-Sri-Lanka      Pakistan  \n",
       "156         India-vs-Afghanistan         India  \n",
       "160    Australia-vs-South-Africa  South-Africa  \n",
       "304          India-vs-Bangladesh         India  \n",
       "307        Australia-vs-Pakistan     Australia  \n",
       "308        Australia-vs-Pakistan     Australia  \n",
       "351      England-vs-South-Africa  South-Africa  \n",
       "370         India-vs-New-Zealand   New-Zealand  \n",
       "398   Bangladesh-vs-South-Africa  South-Africa  \n",
       "410   Bangladesh-vs-South-Africa    Bangladesh  \n",
       "417     Australia-vs-Netherlands     Australia  \n",
       "421     Australia-vs-Netherlands     Australia  \n",
       "475     Australia-vs-New-Zealand     Australia  \n",
       "487     Australia-vs-New-Zealand   New-Zealand  \n",
       "571  New-Zealand-vs-South-Africa  South-Africa  \n",
       "573  New-Zealand-vs-South-Africa  South-Africa  \n",
       "625      New-Zealand-vs-Pakistan   New-Zealand  \n",
       "633      New-Zealand-vs-Pakistan      Pakistan  \n",
       "659        India-vs-South-Africa         India  \n",
       "679      Bangladesh-vs-Sri-Lanka     Sri-Lanka  \n",
       "696     Afghanistan-vs-Australia   Afghanistan  \n",
       "707     Afghanistan-vs-Australia     Australia  \n",
       "714       England-vs-Netherlands       England  \n",
       "781      Australia-vs-Bangladesh     Australia  \n",
       "808         India-vs-Netherlands         India  \n",
       "809         India-vs-Netherlands         India  \n",
       "824         India-vs-New-Zealand         India  \n",
       "825         India-vs-New-Zealand         India  \n",
       "831         India-vs-New-Zealand   New-Zealand  \n",
       "844    Australia-vs-South-Africa  South-Africa  \n",
       "871           India-vs-Australia     Australia  "
      ]
     },
     "execution_count": 59,
     "metadata": {},
     "output_type": "execute_result"
    }
   ],
   "source": [
    "centuries=df[(df['RUNS']==100) | (df['RUNS']>=100)]\n",
    "centuries"
   ]
  },
  {
   "cell_type": "code",
   "execution_count": 60,
   "id": "a55921f8-b34b-4c7f-8746-8207ac289854",
   "metadata": {},
   "outputs": [],
   "source": [
    "total_centuries=centuries.groupby('BATTING')['RUNS'].count()"
   ]
  },
  {
   "cell_type": "code",
   "execution_count": 61,
   "id": "dc357edf-3ad8-4da8-be2a-1b578e0152d4",
   "metadata": {},
   "outputs": [],
   "source": [
    "c=total_centuries.sort_values(ascending=False)"
   ]
  },
  {
   "cell_type": "code",
   "execution_count": 62,
   "id": "afe44ad4-0c14-4f5b-add6-3c75452d711f",
   "metadata": {},
   "outputs": [],
   "source": [
    "top_centuries=c.head(1)"
   ]
  },
  {
   "cell_type": "code",
   "execution_count": 63,
   "id": "bc3ae64a-78f1-4f30-9561-c286b891d014",
   "metadata": {},
   "outputs": [
    {
     "data": {
      "text/plain": [
       "BATTING\n",
       "Quinton de Kock wk     4\n",
       "Name: RUNS, dtype: int64"
      ]
     },
     "execution_count": 63,
     "metadata": {},
     "output_type": "execute_result"
    }
   ],
   "source": [
    "top_centuries"
   ]
  },
  {
   "cell_type": "code",
   "execution_count": 64,
   "id": "8c7c5f58-18f2-4d9f-907f-1a20fbaa8098",
   "metadata": {},
   "outputs": [
    {
     "data": {
      "text/html": [
       "<div>\n",
       "<style scoped>\n",
       "    .dataframe tbody tr th:only-of-type {\n",
       "        vertical-align: middle;\n",
       "    }\n",
       "\n",
       "    .dataframe tbody tr th {\n",
       "        vertical-align: top;\n",
       "    }\n",
       "\n",
       "    .dataframe thead th {\n",
       "        text-align: right;\n",
       "    }\n",
       "</style>\n",
       "<table border=\"1\" class=\"dataframe\">\n",
       "  <thead>\n",
       "    <tr style=\"text-align: right;\">\n",
       "      <th></th>\n",
       "      <th>BATTING</th>\n",
       "      <th>RUNS</th>\n",
       "    </tr>\n",
       "  </thead>\n",
       "  <tbody>\n",
       "    <tr>\n",
       "      <th>0</th>\n",
       "      <td>Quinton de Kock wk</td>\n",
       "      <td>4</td>\n",
       "    </tr>\n",
       "  </tbody>\n",
       "</table>\n",
       "</div>"
      ],
      "text/plain": [
       "               BATTING  RUNS\n",
       "0  Quinton de Kock wk      4"
      ]
     },
     "execution_count": 64,
     "metadata": {},
     "output_type": "execute_result"
    }
   ],
   "source": [
    "tpc= top_centuries.reset_index()\n",
    "tpc"
   ]
  },
  {
   "cell_type": "code",
   "execution_count": 65,
   "id": "58cdd15d-c218-441a-ae9d-60f08bde4828",
   "metadata": {},
   "outputs": [],
   "source": [
    "most_centuries=tpc.rename({'RUNS':'CENTURIES'},axis=1)"
   ]
  },
  {
   "cell_type": "code",
   "execution_count": 66,
   "id": "1090d0ae-1e05-4f40-ae32-94f0f8b59ec1",
   "metadata": {},
   "outputs": [
    {
     "data": {
      "text/html": [
       "<div>\n",
       "<style scoped>\n",
       "    .dataframe tbody tr th:only-of-type {\n",
       "        vertical-align: middle;\n",
       "    }\n",
       "\n",
       "    .dataframe tbody tr th {\n",
       "        vertical-align: top;\n",
       "    }\n",
       "\n",
       "    .dataframe thead th {\n",
       "        text-align: right;\n",
       "    }\n",
       "</style>\n",
       "<table border=\"1\" class=\"dataframe\">\n",
       "  <thead>\n",
       "    <tr style=\"text-align: right;\">\n",
       "      <th></th>\n",
       "      <th>BATTING</th>\n",
       "      <th>CENTURIES</th>\n",
       "    </tr>\n",
       "  </thead>\n",
       "  <tbody>\n",
       "    <tr>\n",
       "      <th>0</th>\n",
       "      <td>Quinton de Kock wk</td>\n",
       "      <td>4</td>\n",
       "    </tr>\n",
       "  </tbody>\n",
       "</table>\n",
       "</div>"
      ],
      "text/plain": [
       "               BATTING  CENTURIES\n",
       "0  Quinton de Kock wk           4"
      ]
     },
     "execution_count": 66,
     "metadata": {},
     "output_type": "execute_result"
    }
   ],
   "source": [
    "most_centuries"
   ]
  },
  {
   "cell_type": "code",
   "execution_count": 107,
   "id": "c995fa8f-31b7-40f5-964e-650c9bbe668d",
   "metadata": {
    "tags": []
   },
   "outputs": [
    {
     "data": {
      "image/png": "[encoded data removed]",
      "text/plain": [
       "<Figure size 640x480 with 1 Axes>"
      ]
     },
     "metadata": {},
     "output_type": "display_data"
    }
   ],
   "source": [
    "sns.set_style('darkgrid')\n",
    "sns.barplot(x='BATTING',y='CENTURIES',data=most_centuries,width=0.3,color='g')\n",
    "plt.title('The player who has scored the most centuries',fontsize=15)\n",
    "plt.savefig('most centuries')\n",
    "plt.show()"
   ]
  },
  {
   "cell_type": "markdown",
   "id": "9cf1d9af-9473-40d6-8856-3df0782fd82a",
   "metadata": {},
   "source": [
    "* From the above graph, it is evident that Quinton de Kock has scored the most centuries. He achieving this feat four times."
   ]
  },
  {
   "cell_type": "markdown",
   "id": "0078c119-b244-4397-9816-ef9e6f08d4d2",
   "metadata": {},
   "source": [
    "### 6)Can we identify players who excel in hitting boundaries (fours and sixes)?"
   ]
  },
  {
   "cell_type": "code",
   "execution_count": 68,
   "id": "10848fbf-8d43-4954-bcf3-2a0307495d2a",
   "metadata": {},
   "outputs": [
    {
     "data": {
      "text/html": [
       "<div>\n",
       "<style scoped>\n",
       "    .dataframe tbody tr th:only-of-type {\n",
       "        vertical-align: middle;\n",
       "    }\n",
       "\n",
       "    .dataframe tbody tr th {\n",
       "        vertical-align: top;\n",
       "    }\n",
       "\n",
       "    .dataframe thead th {\n",
       "        text-align: right;\n",
       "    }\n",
       "</style>\n",
       "<table border=\"1\" class=\"dataframe\">\n",
       "  <thead>\n",
       "    <tr style=\"text-align: right;\">\n",
       "      <th></th>\n",
       "      <th>BATTING</th>\n",
       "      <th>DISMISSAL</th>\n",
       "      <th>RUNS</th>\n",
       "      <th>BALLS</th>\n",
       "      <th>MINUTES</th>\n",
       "      <th>FOURS</th>\n",
       "      <th>SIXES</th>\n",
       "      <th>STRICK RATE</th>\n",
       "      <th>BATTING_POSITION</th>\n",
       "      <th>MATCH_ID</th>\n",
       "      <th>MATCH</th>\n",
       "      <th>BATTING_TEAM</th>\n",
       "    </tr>\n",
       "  </thead>\n",
       "  <tbody>\n",
       "    <tr>\n",
       "      <th>0</th>\n",
       "      <td>Jonny Bairstow</td>\n",
       "      <td>c Mitchell b Santner</td>\n",
       "      <td>33.0</td>\n",
       "      <td>35.0</td>\n",
       "      <td>57.0</td>\n",
       "      <td>4.0</td>\n",
       "      <td>1.0</td>\n",
       "      <td>94.28</td>\n",
       "      <td>1</td>\n",
       "      <td>ODI # 4658</td>\n",
       "      <td>England-vs-New-Zealand</td>\n",
       "      <td>England</td>\n",
       "    </tr>\n",
       "    <tr>\n",
       "      <th>1</th>\n",
       "      <td>Dawid Malan</td>\n",
       "      <td>c  wk Latham b Henry</td>\n",
       "      <td>14.0</td>\n",
       "      <td>24.0</td>\n",
       "      <td>36.0</td>\n",
       "      <td>2.0</td>\n",
       "      <td>0.0</td>\n",
       "      <td>58.33</td>\n",
       "      <td>2</td>\n",
       "      <td>ODI # 4658</td>\n",
       "      <td>England-vs-New-Zealand</td>\n",
       "      <td>England</td>\n",
       "    </tr>\n",
       "    <tr>\n",
       "      <th>2</th>\n",
       "      <td>Joe Root</td>\n",
       "      <td>b Phillips</td>\n",
       "      <td>77.0</td>\n",
       "      <td>86.0</td>\n",
       "      <td>140.0</td>\n",
       "      <td>4.0</td>\n",
       "      <td>1.0</td>\n",
       "      <td>89.53</td>\n",
       "      <td>3</td>\n",
       "      <td>ODI # 4658</td>\n",
       "      <td>England-vs-New-Zealand</td>\n",
       "      <td>England</td>\n",
       "    </tr>\n",
       "  </tbody>\n",
       "</table>\n",
       "</div>"
      ],
      "text/plain": [
       "          BATTING             DISMISSAL  RUNS  BALLS  MINUTES  FOURS  SIXES  \\\n",
       "0  Jonny Bairstow  c Mitchell b Santner  33.0   35.0     57.0    4.0    1.0   \n",
       "1     Dawid Malan  c  wk Latham b Henry  14.0   24.0     36.0    2.0    0.0   \n",
       "2        Joe Root            b Phillips  77.0   86.0    140.0    4.0    1.0   \n",
       "\n",
       "   STRICK RATE  BATTING_POSITION    MATCH_ID                   MATCH  \\\n",
       "0        94.28                 1  ODI # 4658  England-vs-New-Zealand   \n",
       "1        58.33                 2  ODI # 4658  England-vs-New-Zealand   \n",
       "2        89.53                 3  ODI # 4658  England-vs-New-Zealand   \n",
       "\n",
       "  BATTING_TEAM  \n",
       "0      England  \n",
       "1      England  \n",
       "2      England  "
      ]
     },
     "execution_count": 68,
     "metadata": {},
     "output_type": "execute_result"
    }
   ],
   "source": [
    "df.head(3)"
   ]
  },
  {
   "cell_type": "code",
   "execution_count": 69,
   "id": "9d27f836-e73b-40db-bcbe-ee34669ddd94",
   "metadata": {},
   "outputs": [],
   "source": [
    "df['Total_Boundaries'] = df['FOURS'] + df['SIXES']"
   ]
  },
  {
   "cell_type": "code",
   "execution_count": 70,
   "id": "00eb76db-6dcc-483c-8e1e-f06b86144fa3",
   "metadata": {
    "tags": []
   },
   "outputs": [
    {
     "data": {
      "text/html": [
       "<div>\n",
       "<style scoped>\n",
       "    .dataframe tbody tr th:only-of-type {\n",
       "        vertical-align: middle;\n",
       "    }\n",
       "\n",
       "    .dataframe tbody tr th {\n",
       "        vertical-align: top;\n",
       "    }\n",
       "\n",
       "    .dataframe thead th {\n",
       "        text-align: right;\n",
       "    }\n",
       "</style>\n",
       "<table border=\"1\" class=\"dataframe\">\n",
       "  <thead>\n",
       "    <tr style=\"text-align: right;\">\n",
       "      <th></th>\n",
       "      <th>BATTING</th>\n",
       "      <th>DISMISSAL</th>\n",
       "      <th>RUNS</th>\n",
       "      <th>BALLS</th>\n",
       "      <th>MINUTES</th>\n",
       "      <th>FOURS</th>\n",
       "      <th>SIXES</th>\n",
       "      <th>STRICK RATE</th>\n",
       "      <th>BATTING_POSITION</th>\n",
       "      <th>MATCH_ID</th>\n",
       "      <th>MATCH</th>\n",
       "      <th>BATTING_TEAM</th>\n",
       "      <th>Total_Boundaries</th>\n",
       "    </tr>\n",
       "  </thead>\n",
       "  <tbody>\n",
       "    <tr>\n",
       "      <th>0</th>\n",
       "      <td>Jonny Bairstow</td>\n",
       "      <td>c Mitchell b Santner</td>\n",
       "      <td>33.0</td>\n",
       "      <td>35.0</td>\n",
       "      <td>57.0</td>\n",
       "      <td>4.0</td>\n",
       "      <td>1.0</td>\n",
       "      <td>94.28</td>\n",
       "      <td>1</td>\n",
       "      <td>ODI # 4658</td>\n",
       "      <td>England-vs-New-Zealand</td>\n",
       "      <td>England</td>\n",
       "      <td>5.0</td>\n",
       "    </tr>\n",
       "    <tr>\n",
       "      <th>1</th>\n",
       "      <td>Dawid Malan</td>\n",
       "      <td>c  wk Latham b Henry</td>\n",
       "      <td>14.0</td>\n",
       "      <td>24.0</td>\n",
       "      <td>36.0</td>\n",
       "      <td>2.0</td>\n",
       "      <td>0.0</td>\n",
       "      <td>58.33</td>\n",
       "      <td>2</td>\n",
       "      <td>ODI # 4658</td>\n",
       "      <td>England-vs-New-Zealand</td>\n",
       "      <td>England</td>\n",
       "      <td>2.0</td>\n",
       "    </tr>\n",
       "    <tr>\n",
       "      <th>2</th>\n",
       "      <td>Joe Root</td>\n",
       "      <td>b Phillips</td>\n",
       "      <td>77.0</td>\n",
       "      <td>86.0</td>\n",
       "      <td>140.0</td>\n",
       "      <td>4.0</td>\n",
       "      <td>1.0</td>\n",
       "      <td>89.53</td>\n",
       "      <td>3</td>\n",
       "      <td>ODI # 4658</td>\n",
       "      <td>England-vs-New-Zealand</td>\n",
       "      <td>England</td>\n",
       "      <td>5.0</td>\n",
       "    </tr>\n",
       "    <tr>\n",
       "      <th>3</th>\n",
       "      <td>Harry Brook</td>\n",
       "      <td>c Conway b Ravindra</td>\n",
       "      <td>25.0</td>\n",
       "      <td>16.0</td>\n",
       "      <td>20.0</td>\n",
       "      <td>4.0</td>\n",
       "      <td>1.0</td>\n",
       "      <td>156.25</td>\n",
       "      <td>4</td>\n",
       "      <td>ODI # 4658</td>\n",
       "      <td>England-vs-New-Zealand</td>\n",
       "      <td>England</td>\n",
       "      <td>5.0</td>\n",
       "    </tr>\n",
       "    <tr>\n",
       "      <th>4</th>\n",
       "      <td>Moeen Ali</td>\n",
       "      <td>b Phillips</td>\n",
       "      <td>11.0</td>\n",
       "      <td>17.0</td>\n",
       "      <td>20.0</td>\n",
       "      <td>1.0</td>\n",
       "      <td>0.0</td>\n",
       "      <td>64.70</td>\n",
       "      <td>5</td>\n",
       "      <td>ODI # 4658</td>\n",
       "      <td>England-vs-New-Zealand</td>\n",
       "      <td>England</td>\n",
       "      <td>1.0</td>\n",
       "    </tr>\n",
       "    <tr>\n",
       "      <th>...</th>\n",
       "      <td>...</td>\n",
       "      <td>...</td>\n",
       "      <td>...</td>\n",
       "      <td>...</td>\n",
       "      <td>...</td>\n",
       "      <td>...</td>\n",
       "      <td>...</td>\n",
       "      <td>...</td>\n",
       "      <td>...</td>\n",
       "      <td>...</td>\n",
       "      <td>...</td>\n",
       "      <td>...</td>\n",
       "      <td>...</td>\n",
       "    </tr>\n",
       "    <tr>\n",
       "      <th>871</th>\n",
       "      <td>Travis Head</td>\n",
       "      <td>c Shubman Gill b Mohammed Siraj</td>\n",
       "      <td>137.0</td>\n",
       "      <td>120.0</td>\n",
       "      <td>166.0</td>\n",
       "      <td>15.0</td>\n",
       "      <td>4.0</td>\n",
       "      <td>114.16</td>\n",
       "      <td>2</td>\n",
       "      <td>ODI # 4705</td>\n",
       "      <td>India-vs-Australia</td>\n",
       "      <td>Australia</td>\n",
       "      <td>19.0</td>\n",
       "    </tr>\n",
       "    <tr>\n",
       "      <th>872</th>\n",
       "      <td>Mitchell Marsh</td>\n",
       "      <td>c  wk Rahul b Bumrah</td>\n",
       "      <td>15.0</td>\n",
       "      <td>15.0</td>\n",
       "      <td>15.0</td>\n",
       "      <td>1.0</td>\n",
       "      <td>1.0</td>\n",
       "      <td>100.00</td>\n",
       "      <td>3</td>\n",
       "      <td>ODI # 4705</td>\n",
       "      <td>India-vs-Australia</td>\n",
       "      <td>Australia</td>\n",
       "      <td>2.0</td>\n",
       "    </tr>\n",
       "    <tr>\n",
       "      <th>873</th>\n",
       "      <td>Steven Smith</td>\n",
       "      <td>lbw b Bumrah</td>\n",
       "      <td>4.0</td>\n",
       "      <td>9.0</td>\n",
       "      <td>11.0</td>\n",
       "      <td>1.0</td>\n",
       "      <td>0.0</td>\n",
       "      <td>44.44</td>\n",
       "      <td>4</td>\n",
       "      <td>ODI # 4705</td>\n",
       "      <td>India-vs-Australia</td>\n",
       "      <td>Australia</td>\n",
       "      <td>1.0</td>\n",
       "    </tr>\n",
       "    <tr>\n",
       "      <th>874</th>\n",
       "      <td>Marnus Labuschagne</td>\n",
       "      <td>not out</td>\n",
       "      <td>58.0</td>\n",
       "      <td>110.0</td>\n",
       "      <td>133.0</td>\n",
       "      <td>4.0</td>\n",
       "      <td>0.0</td>\n",
       "      <td>52.72</td>\n",
       "      <td>5</td>\n",
       "      <td>ODI # 4705</td>\n",
       "      <td>India-vs-Australia</td>\n",
       "      <td>Australia</td>\n",
       "      <td>4.0</td>\n",
       "    </tr>\n",
       "    <tr>\n",
       "      <th>875</th>\n",
       "      <td>Glenn Maxwell</td>\n",
       "      <td>not out</td>\n",
       "      <td>2.0</td>\n",
       "      <td>1.0</td>\n",
       "      <td>1.0</td>\n",
       "      <td>0.0</td>\n",
       "      <td>0.0</td>\n",
       "      <td>200.00</td>\n",
       "      <td>6</td>\n",
       "      <td>ODI # 4705</td>\n",
       "      <td>India-vs-Australia</td>\n",
       "      <td>Australia</td>\n",
       "      <td>0.0</td>\n",
       "    </tr>\n",
       "  </tbody>\n",
       "</table>\n",
       "<p>871 rows × 13 columns</p>\n",
       "</div>"
      ],
      "text/plain": [
       "                BATTING                        DISMISSAL   RUNS  BALLS  \\\n",
       "0        Jonny Bairstow             c Mitchell b Santner   33.0   35.0   \n",
       "1           Dawid Malan             c  wk Latham b Henry   14.0   24.0   \n",
       "2              Joe Root                       b Phillips   77.0   86.0   \n",
       "3           Harry Brook              c Conway b Ravindra   25.0   16.0   \n",
       "4             Moeen Ali                       b Phillips   11.0   17.0   \n",
       "..                  ...                              ...    ...    ...   \n",
       "871         Travis Head  c Shubman Gill b Mohammed Siraj  137.0  120.0   \n",
       "872      Mitchell Marsh             c  wk Rahul b Bumrah   15.0   15.0   \n",
       "873        Steven Smith                     lbw b Bumrah    4.0    9.0   \n",
       "874  Marnus Labuschagne                          not out   58.0  110.0   \n",
       "875       Glenn Maxwell                          not out    2.0    1.0   \n",
       "\n",
       "     MINUTES  FOURS  SIXES  STRICK RATE  BATTING_POSITION    MATCH_ID  \\\n",
       "0       57.0    4.0    1.0        94.28                 1  ODI # 4658   \n",
       "1       36.0    2.0    0.0        58.33                 2  ODI # 4658   \n",
       "2      140.0    4.0    1.0        89.53                 3  ODI # 4658   \n",
       "3       20.0    4.0    1.0       156.25                 4  ODI # 4658   \n",
       "4       20.0    1.0    0.0        64.70                 5  ODI # 4658   \n",
       "..       ...    ...    ...          ...               ...         ...   \n",
       "871    166.0   15.0    4.0       114.16                 2  ODI # 4705   \n",
       "872     15.0    1.0    1.0       100.00                 3  ODI # 4705   \n",
       "873     11.0    1.0    0.0        44.44                 4  ODI # 4705   \n",
       "874    133.0    4.0    0.0        52.72                 5  ODI # 4705   \n",
       "875      1.0    0.0    0.0       200.00                 6  ODI # 4705   \n",
       "\n",
       "                      MATCH BATTING_TEAM  Total_Boundaries  \n",
       "0    England-vs-New-Zealand      England               5.0  \n",
       "1    England-vs-New-Zealand      England               2.0  \n",
       "2    England-vs-New-Zealand      England               5.0  \n",
       "3    England-vs-New-Zealand      England               5.0  \n",
       "4    England-vs-New-Zealand      England               1.0  \n",
       "..                      ...          ...               ...  \n",
       "871      India-vs-Australia    Australia              19.0  \n",
       "872      India-vs-Australia    Australia               2.0  \n",
       "873      India-vs-Australia    Australia               1.0  \n",
       "874      India-vs-Australia    Australia               4.0  \n",
       "875      India-vs-Australia    Australia               0.0  \n",
       "\n",
       "[871 rows x 13 columns]"
      ]
     },
     "execution_count": 70,
     "metadata": {},
     "output_type": "execute_result"
    }
   ],
   "source": [
    "df"
   ]
  },
  {
   "cell_type": "code",
   "execution_count": 71,
   "id": "d42b4e56-0e36-4a6c-9a7b-80ff27a769ff",
   "metadata": {},
   "outputs": [],
   "source": [
    "total_hitting=df.groupby('BATTING')['Total_Boundaries'].sum()"
   ]
  },
  {
   "cell_type": "code",
   "execution_count": 72,
   "id": "cbbbef29-87ca-4ada-a92e-20cab9c053d4",
   "metadata": {},
   "outputs": [],
   "source": [
    "top_plyr=total_hitting.sort_values(ascending=False)"
   ]
  },
  {
   "cell_type": "code",
   "execution_count": 73,
   "id": "fd2c51bb-e101-44a0-a81c-683e1068f9f5",
   "metadata": {},
   "outputs": [],
   "source": [
    "top_5_plyrs= top_plyr.head(5)"
   ]
  },
  {
   "cell_type": "code",
   "execution_count": 74,
   "id": "b8867992-a753-4f58-825f-2e88d8721880",
   "metadata": {},
   "outputs": [
    {
     "data": {
      "text/plain": [
       "BATTING\n",
       "Rohit Sharma(c)        90.0\n",
       "Quinton de Kock wk     78.0\n",
       "Virat Kohli            77.0\n",
       "David Warner           74.0\n",
       "Rachin Ravindra        72.0\n",
       "Name: Total_Boundaries, dtype: float64"
      ]
     },
     "execution_count": 74,
     "metadata": {},
     "output_type": "execute_result"
    }
   ],
   "source": [
    "top_5_plyrs"
   ]
  },
  {
   "cell_type": "code",
   "execution_count": 75,
   "id": "3c35af08-601e-4b37-8853-4f81759c40ee",
   "metadata": {},
   "outputs": [
    {
     "data": {
      "text/html": [
       "<div>\n",
       "<style scoped>\n",
       "    .dataframe tbody tr th:only-of-type {\n",
       "        vertical-align: middle;\n",
       "    }\n",
       "\n",
       "    .dataframe tbody tr th {\n",
       "        vertical-align: top;\n",
       "    }\n",
       "\n",
       "    .dataframe thead th {\n",
       "        text-align: right;\n",
       "    }\n",
       "</style>\n",
       "<table border=\"1\" class=\"dataframe\">\n",
       "  <thead>\n",
       "    <tr style=\"text-align: right;\">\n",
       "      <th></th>\n",
       "      <th>BATTING</th>\n",
       "      <th>Total_Boundaries</th>\n",
       "    </tr>\n",
       "  </thead>\n",
       "  <tbody>\n",
       "    <tr>\n",
       "      <th>0</th>\n",
       "      <td>Rohit Sharma(c)</td>\n",
       "      <td>90.0</td>\n",
       "    </tr>\n",
       "    <tr>\n",
       "      <th>1</th>\n",
       "      <td>Quinton de Kock wk</td>\n",
       "      <td>78.0</td>\n",
       "    </tr>\n",
       "    <tr>\n",
       "      <th>2</th>\n",
       "      <td>Virat Kohli</td>\n",
       "      <td>77.0</td>\n",
       "    </tr>\n",
       "    <tr>\n",
       "      <th>3</th>\n",
       "      <td>David Warner</td>\n",
       "      <td>74.0</td>\n",
       "    </tr>\n",
       "    <tr>\n",
       "      <th>4</th>\n",
       "      <td>Rachin Ravindra</td>\n",
       "      <td>72.0</td>\n",
       "    </tr>\n",
       "  </tbody>\n",
       "</table>\n",
       "</div>"
      ],
      "text/plain": [
       "               BATTING  Total_Boundaries\n",
       "0      Rohit Sharma(c)              90.0\n",
       "1  Quinton de Kock wk               78.0\n",
       "2          Virat Kohli              77.0\n",
       "3         David Warner              74.0\n",
       "4      Rachin Ravindra              72.0"
      ]
     },
     "execution_count": 75,
     "metadata": {},
     "output_type": "execute_result"
    }
   ],
   "source": [
    "top_plyr_hit=top_5_plyrs.reset_index()\n",
    "top_plyr_hit"
   ]
  },
  {
   "cell_type": "code",
   "execution_count": 76,
   "id": "3ba89565-1ec5-4477-bcdc-9d4f349646a5",
   "metadata": {},
   "outputs": [
    {
     "data": {
      "text/plain": [
       "Text(0.5, 1.0, 'Top five players who excel in hitting boundaries (fours and sixes)')"
      ]
     },
     "execution_count": 76,
     "metadata": {},
     "output_type": "execute_result"
    },
    {
     "data": {
      "image/png": "[encoded data removed]",
      "text/plain": [
       "<Figure size 800x500 with 1 Axes>"
      ]
     },
     "metadata": {},
     "output_type": "display_data"
    }
   ],
   "source": [
    "sns.set_style('ticks')\n",
    "plt.figure(figsize= (8,5))\n",
    "sns.barplot(x='BATTING',y='Total_Boundaries',data=top_plyr_hit,palette='PuBu_r')\n",
    "plt.title('Top five players who excel in hitting boundaries (fours and sixes)', fontsize=15)"
   ]
  },
  {
   "cell_type": "markdown",
   "id": "3542714c-df4d-4f79-a872-632d15001957",
   "metadata": {},
   "source": [
    "* From the graph, we can see the top five batsmen who hit the most boundaries. Here, Rohit Sharma hit the most boundaries (90+ boundaries). \n"
   ]
  },
  {
   "cell_type": "markdown",
   "id": "8c7c546d-6e29-4469-8fc7-ffc09e8c29e3",
   "metadata": {},
   "source": [
    "### 7)Is there a correlation between the batting position and the number of boundaries hit?"
   ]
  },
  {
   "cell_type": "code",
   "execution_count": 77,
   "id": "12c305a1-9e9c-40c8-a301-331767c9db73",
   "metadata": {},
   "outputs": [],
   "source": [
    "df['Total_Boundaries'] = df['FOURS'] + df['SIXES']"
   ]
  },
  {
   "cell_type": "code",
   "execution_count": 78,
   "id": "ba94ffe9-8f03-4333-95f0-122714401f06",
   "metadata": {
    "tags": []
   },
   "outputs": [
    {
     "data": {
      "text/html": [
       "<div>\n",
       "<style scoped>\n",
       "    .dataframe tbody tr th:only-of-type {\n",
       "        vertical-align: middle;\n",
       "    }\n",
       "\n",
       "    .dataframe tbody tr th {\n",
       "        vertical-align: top;\n",
       "    }\n",
       "\n",
       "    .dataframe thead th {\n",
       "        text-align: right;\n",
       "    }\n",
       "</style>\n",
       "<table border=\"1\" class=\"dataframe\">\n",
       "  <thead>\n",
       "    <tr style=\"text-align: right;\">\n",
       "      <th></th>\n",
       "      <th>BATTING</th>\n",
       "      <th>DISMISSAL</th>\n",
       "      <th>RUNS</th>\n",
       "      <th>BALLS</th>\n",
       "      <th>MINUTES</th>\n",
       "      <th>FOURS</th>\n",
       "      <th>SIXES</th>\n",
       "      <th>STRICK RATE</th>\n",
       "      <th>BATTING_POSITION</th>\n",
       "      <th>MATCH_ID</th>\n",
       "      <th>MATCH</th>\n",
       "      <th>BATTING_TEAM</th>\n",
       "      <th>Total_Boundaries</th>\n",
       "    </tr>\n",
       "  </thead>\n",
       "  <tbody>\n",
       "    <tr>\n",
       "      <th>0</th>\n",
       "      <td>Jonny Bairstow</td>\n",
       "      <td>c Mitchell b Santner</td>\n",
       "      <td>33.0</td>\n",
       "      <td>35.0</td>\n",
       "      <td>57.0</td>\n",
       "      <td>4.0</td>\n",
       "      <td>1.0</td>\n",
       "      <td>94.28</td>\n",
       "      <td>1</td>\n",
       "      <td>ODI # 4658</td>\n",
       "      <td>England-vs-New-Zealand</td>\n",
       "      <td>England</td>\n",
       "      <td>5.0</td>\n",
       "    </tr>\n",
       "    <tr>\n",
       "      <th>1</th>\n",
       "      <td>Dawid Malan</td>\n",
       "      <td>c  wk Latham b Henry</td>\n",
       "      <td>14.0</td>\n",
       "      <td>24.0</td>\n",
       "      <td>36.0</td>\n",
       "      <td>2.0</td>\n",
       "      <td>0.0</td>\n",
       "      <td>58.33</td>\n",
       "      <td>2</td>\n",
       "      <td>ODI # 4658</td>\n",
       "      <td>England-vs-New-Zealand</td>\n",
       "      <td>England</td>\n",
       "      <td>2.0</td>\n",
       "    </tr>\n",
       "    <tr>\n",
       "      <th>2</th>\n",
       "      <td>Joe Root</td>\n",
       "      <td>b Phillips</td>\n",
       "      <td>77.0</td>\n",
       "      <td>86.0</td>\n",
       "      <td>140.0</td>\n",
       "      <td>4.0</td>\n",
       "      <td>1.0</td>\n",
       "      <td>89.53</td>\n",
       "      <td>3</td>\n",
       "      <td>ODI # 4658</td>\n",
       "      <td>England-vs-New-Zealand</td>\n",
       "      <td>England</td>\n",
       "      <td>5.0</td>\n",
       "    </tr>\n",
       "    <tr>\n",
       "      <th>3</th>\n",
       "      <td>Harry Brook</td>\n",
       "      <td>c Conway b Ravindra</td>\n",
       "      <td>25.0</td>\n",
       "      <td>16.0</td>\n",
       "      <td>20.0</td>\n",
       "      <td>4.0</td>\n",
       "      <td>1.0</td>\n",
       "      <td>156.25</td>\n",
       "      <td>4</td>\n",
       "      <td>ODI # 4658</td>\n",
       "      <td>England-vs-New-Zealand</td>\n",
       "      <td>England</td>\n",
       "      <td>5.0</td>\n",
       "    </tr>\n",
       "    <tr>\n",
       "      <th>4</th>\n",
       "      <td>Moeen Ali</td>\n",
       "      <td>b Phillips</td>\n",
       "      <td>11.0</td>\n",
       "      <td>17.0</td>\n",
       "      <td>20.0</td>\n",
       "      <td>1.0</td>\n",
       "      <td>0.0</td>\n",
       "      <td>64.70</td>\n",
       "      <td>5</td>\n",
       "      <td>ODI # 4658</td>\n",
       "      <td>England-vs-New-Zealand</td>\n",
       "      <td>England</td>\n",
       "      <td>1.0</td>\n",
       "    </tr>\n",
       "    <tr>\n",
       "      <th>...</th>\n",
       "      <td>...</td>\n",
       "      <td>...</td>\n",
       "      <td>...</td>\n",
       "      <td>...</td>\n",
       "      <td>...</td>\n",
       "      <td>...</td>\n",
       "      <td>...</td>\n",
       "      <td>...</td>\n",
       "      <td>...</td>\n",
       "      <td>...</td>\n",
       "      <td>...</td>\n",
       "      <td>...</td>\n",
       "      <td>...</td>\n",
       "    </tr>\n",
       "    <tr>\n",
       "      <th>871</th>\n",
       "      <td>Travis Head</td>\n",
       "      <td>c Shubman Gill b Mohammed Siraj</td>\n",
       "      <td>137.0</td>\n",
       "      <td>120.0</td>\n",
       "      <td>166.0</td>\n",
       "      <td>15.0</td>\n",
       "      <td>4.0</td>\n",
       "      <td>114.16</td>\n",
       "      <td>2</td>\n",
       "      <td>ODI # 4705</td>\n",
       "      <td>India-vs-Australia</td>\n",
       "      <td>Australia</td>\n",
       "      <td>19.0</td>\n",
       "    </tr>\n",
       "    <tr>\n",
       "      <th>872</th>\n",
       "      <td>Mitchell Marsh</td>\n",
       "      <td>c  wk Rahul b Bumrah</td>\n",
       "      <td>15.0</td>\n",
       "      <td>15.0</td>\n",
       "      <td>15.0</td>\n",
       "      <td>1.0</td>\n",
       "      <td>1.0</td>\n",
       "      <td>100.00</td>\n",
       "      <td>3</td>\n",
       "      <td>ODI # 4705</td>\n",
       "      <td>India-vs-Australia</td>\n",
       "      <td>Australia</td>\n",
       "      <td>2.0</td>\n",
       "    </tr>\n",
       "    <tr>\n",
       "      <th>873</th>\n",
       "      <td>Steven Smith</td>\n",
       "      <td>lbw b Bumrah</td>\n",
       "      <td>4.0</td>\n",
       "      <td>9.0</td>\n",
       "      <td>11.0</td>\n",
       "      <td>1.0</td>\n",
       "      <td>0.0</td>\n",
       "      <td>44.44</td>\n",
       "      <td>4</td>\n",
       "      <td>ODI # 4705</td>\n",
       "      <td>India-vs-Australia</td>\n",
       "      <td>Australia</td>\n",
       "      <td>1.0</td>\n",
       "    </tr>\n",
       "    <tr>\n",
       "      <th>874</th>\n",
       "      <td>Marnus Labuschagne</td>\n",
       "      <td>not out</td>\n",
       "      <td>58.0</td>\n",
       "      <td>110.0</td>\n",
       "      <td>133.0</td>\n",
       "      <td>4.0</td>\n",
       "      <td>0.0</td>\n",
       "      <td>52.72</td>\n",
       "      <td>5</td>\n",
       "      <td>ODI # 4705</td>\n",
       "      <td>India-vs-Australia</td>\n",
       "      <td>Australia</td>\n",
       "      <td>4.0</td>\n",
       "    </tr>\n",
       "    <tr>\n",
       "      <th>875</th>\n",
       "      <td>Glenn Maxwell</td>\n",
       "      <td>not out</td>\n",
       "      <td>2.0</td>\n",
       "      <td>1.0</td>\n",
       "      <td>1.0</td>\n",
       "      <td>0.0</td>\n",
       "      <td>0.0</td>\n",
       "      <td>200.00</td>\n",
       "      <td>6</td>\n",
       "      <td>ODI # 4705</td>\n",
       "      <td>India-vs-Australia</td>\n",
       "      <td>Australia</td>\n",
       "      <td>0.0</td>\n",
       "    </tr>\n",
       "  </tbody>\n",
       "</table>\n",
       "<p>871 rows × 13 columns</p>\n",
       "</div>"
      ],
      "text/plain": [
       "                BATTING                        DISMISSAL   RUNS  BALLS  \\\n",
       "0        Jonny Bairstow             c Mitchell b Santner   33.0   35.0   \n",
       "1           Dawid Malan             c  wk Latham b Henry   14.0   24.0   \n",
       "2              Joe Root                       b Phillips   77.0   86.0   \n",
       "3           Harry Brook              c Conway b Ravindra   25.0   16.0   \n",
       "4             Moeen Ali                       b Phillips   11.0   17.0   \n",
       "..                  ...                              ...    ...    ...   \n",
       "871         Travis Head  c Shubman Gill b Mohammed Siraj  137.0  120.0   \n",
       "872      Mitchell Marsh             c  wk Rahul b Bumrah   15.0   15.0   \n",
       "873        Steven Smith                     lbw b Bumrah    4.0    9.0   \n",
       "874  Marnus Labuschagne                          not out   58.0  110.0   \n",
       "875       Glenn Maxwell                          not out    2.0    1.0   \n",
       "\n",
       "     MINUTES  FOURS  SIXES  STRICK RATE  BATTING_POSITION    MATCH_ID  \\\n",
       "0       57.0    4.0    1.0        94.28                 1  ODI # 4658   \n",
       "1       36.0    2.0    0.0        58.33                 2  ODI # 4658   \n",
       "2      140.0    4.0    1.0        89.53                 3  ODI # 4658   \n",
       "3       20.0    4.0    1.0       156.25                 4  ODI # 4658   \n",
       "4       20.0    1.0    0.0        64.70                 5  ODI # 4658   \n",
       "..       ...    ...    ...          ...               ...         ...   \n",
       "871    166.0   15.0    4.0       114.16                 2  ODI # 4705   \n",
       "872     15.0    1.0    1.0       100.00                 3  ODI # 4705   \n",
       "873     11.0    1.0    0.0        44.44                 4  ODI # 4705   \n",
       "874    133.0    4.0    0.0        52.72                 5  ODI # 4705   \n",
       "875      1.0    0.0    0.0       200.00                 6  ODI # 4705   \n",
       "\n",
       "                      MATCH BATTING_TEAM  Total_Boundaries  \n",
       "0    England-vs-New-Zealand      England               5.0  \n",
       "1    England-vs-New-Zealand      England               2.0  \n",
       "2    England-vs-New-Zealand      England               5.0  \n",
       "3    England-vs-New-Zealand      England               5.0  \n",
       "4    England-vs-New-Zealand      England               1.0  \n",
       "..                      ...          ...               ...  \n",
       "871      India-vs-Australia    Australia              19.0  \n",
       "872      India-vs-Australia    Australia               2.0  \n",
       "873      India-vs-Australia    Australia               1.0  \n",
       "874      India-vs-Australia    Australia               4.0  \n",
       "875      India-vs-Australia    Australia               0.0  \n",
       "\n",
       "[871 rows x 13 columns]"
      ]
     },
     "execution_count": 78,
     "metadata": {},
     "output_type": "execute_result"
    }
   ],
   "source": [
    "df"
   ]
  },
  {
   "cell_type": "code",
   "execution_count": 79,
   "id": "95313d81-eb30-42e8-878d-04ccfe4734df",
   "metadata": {},
   "outputs": [
    {
     "data": {
      "text/plain": [
       "-0.38470792092782485"
      ]
     },
     "execution_count": 79,
     "metadata": {},
     "output_type": "execute_result"
    }
   ],
   "source": [
    "df['Total_Boundaries'].corr(df['BATTING_POSITION'])"
   ]
  },
  {
   "cell_type": "code",
   "execution_count": 106,
   "id": "05e9a11f-68d2-4e01-b539-1e82bd58d1e6",
   "metadata": {},
   "outputs": [
    {
     "data": {
      "image/png": "[encoded data removed]",
      "text/plain": [
       "<Figure size 640x480 with 1 Axes>"
      ]
     },
     "metadata": {},
     "output_type": "display_data"
    }
   ],
   "source": [
    "sns.scatterplot(x='BATTING_POSITION',y='Total_Boundaries',data=df,color='purple')\n",
    "plt.title('TOTAL BOUNDARIES VS BATTING POSITION',fontsize=15)\n",
    "plt.savefig('scatter')\n",
    "plt.show()"
   ]
  },
  {
   "cell_type": "markdown",
   "id": "038a4e00-21bc-41a7-9ee2-269c46310ae1",
   "metadata": {},
   "source": [
    "* As per my analyze, here the negative correlation suggests that there is a tendency for the total number of boundaries (fours and sixes combined) to decrease as the batting position increases. However, the strength of the correlation is moderate."
   ]
  },
  {
   "cell_type": "markdown",
   "id": "0ea4c093-69b2-4e1b-b2eb-dbe8da8d48db",
   "metadata": {},
   "source": [
    "### 8)Can we identify top five high and low score matches ?"
   ]
  },
  {
   "cell_type": "code",
   "execution_count": 81,
   "id": "732f39de-7925-446d-be6a-962c0a3d7af3",
   "metadata": {},
   "outputs": [
    {
     "data": {
      "text/html": [
       "<div>\n",
       "<style scoped>\n",
       "    .dataframe tbody tr th:only-of-type {\n",
       "        vertical-align: middle;\n",
       "    }\n",
       "\n",
       "    .dataframe tbody tr th {\n",
       "        vertical-align: top;\n",
       "    }\n",
       "\n",
       "    .dataframe thead th {\n",
       "        text-align: right;\n",
       "    }\n",
       "</style>\n",
       "<table border=\"1\" class=\"dataframe\">\n",
       "  <thead>\n",
       "    <tr style=\"text-align: right;\">\n",
       "      <th></th>\n",
       "      <th>BATTING</th>\n",
       "      <th>DISMISSAL</th>\n",
       "      <th>RUNS</th>\n",
       "      <th>BALLS</th>\n",
       "      <th>MINUTES</th>\n",
       "      <th>FOURS</th>\n",
       "      <th>SIXES</th>\n",
       "      <th>STRICK RATE</th>\n",
       "      <th>BATTING_POSITION</th>\n",
       "      <th>MATCH_ID</th>\n",
       "      <th>MATCH</th>\n",
       "      <th>BATTING_TEAM</th>\n",
       "      <th>Total_Boundaries</th>\n",
       "    </tr>\n",
       "  </thead>\n",
       "  <tbody>\n",
       "    <tr>\n",
       "      <th>0</th>\n",
       "      <td>Jonny Bairstow</td>\n",
       "      <td>c Mitchell b Santner</td>\n",
       "      <td>33.0</td>\n",
       "      <td>35.0</td>\n",
       "      <td>57.0</td>\n",
       "      <td>4.0</td>\n",
       "      <td>1.0</td>\n",
       "      <td>94.28</td>\n",
       "      <td>1</td>\n",
       "      <td>ODI # 4658</td>\n",
       "      <td>England-vs-New-Zealand</td>\n",
       "      <td>England</td>\n",
       "      <td>5.0</td>\n",
       "    </tr>\n",
       "    <tr>\n",
       "      <th>1</th>\n",
       "      <td>Dawid Malan</td>\n",
       "      <td>c  wk Latham b Henry</td>\n",
       "      <td>14.0</td>\n",
       "      <td>24.0</td>\n",
       "      <td>36.0</td>\n",
       "      <td>2.0</td>\n",
       "      <td>0.0</td>\n",
       "      <td>58.33</td>\n",
       "      <td>2</td>\n",
       "      <td>ODI # 4658</td>\n",
       "      <td>England-vs-New-Zealand</td>\n",
       "      <td>England</td>\n",
       "      <td>2.0</td>\n",
       "    </tr>\n",
       "    <tr>\n",
       "      <th>2</th>\n",
       "      <td>Joe Root</td>\n",
       "      <td>b Phillips</td>\n",
       "      <td>77.0</td>\n",
       "      <td>86.0</td>\n",
       "      <td>140.0</td>\n",
       "      <td>4.0</td>\n",
       "      <td>1.0</td>\n",
       "      <td>89.53</td>\n",
       "      <td>3</td>\n",
       "      <td>ODI # 4658</td>\n",
       "      <td>England-vs-New-Zealand</td>\n",
       "      <td>England</td>\n",
       "      <td>5.0</td>\n",
       "    </tr>\n",
       "  </tbody>\n",
       "</table>\n",
       "</div>"
      ],
      "text/plain": [
       "          BATTING             DISMISSAL  RUNS  BALLS  MINUTES  FOURS  SIXES  \\\n",
       "0  Jonny Bairstow  c Mitchell b Santner  33.0   35.0     57.0    4.0    1.0   \n",
       "1     Dawid Malan  c  wk Latham b Henry  14.0   24.0     36.0    2.0    0.0   \n",
       "2        Joe Root            b Phillips  77.0   86.0    140.0    4.0    1.0   \n",
       "\n",
       "   STRICK RATE  BATTING_POSITION    MATCH_ID                   MATCH  \\\n",
       "0        94.28                 1  ODI # 4658  England-vs-New-Zealand   \n",
       "1        58.33                 2  ODI # 4658  England-vs-New-Zealand   \n",
       "2        89.53                 3  ODI # 4658  England-vs-New-Zealand   \n",
       "\n",
       "  BATTING_TEAM  Total_Boundaries  \n",
       "0      England               5.0  \n",
       "1      England               2.0  \n",
       "2      England               5.0  "
      ]
     },
     "execution_count": 81,
     "metadata": {},
     "output_type": "execute_result"
    }
   ],
   "source": [
    "df.head(3)"
   ]
  },
  {
   "cell_type": "code",
   "execution_count": 82,
   "id": "20f99379-3a25-42e4-bc55-e930e5ff6bc3",
   "metadata": {},
   "outputs": [],
   "source": [
    "total__runs=df.groupby(['MATCH_ID','MATCH'])['RUNS'].sum()"
   ]
  },
  {
   "cell_type": "code",
   "execution_count": 83,
   "id": "931e70ac-2338-4fd0-bbe2-4f0253a58864",
   "metadata": {},
   "outputs": [],
   "source": [
    "topruns=total__runs.sort_values(ascending=False)"
   ]
  },
  {
   "cell_type": "code",
   "execution_count": 84,
   "id": "181e0fef-a2e9-43c1-84a6-a50ed5db7408",
   "metadata": {},
   "outputs": [],
   "source": [
    "highest_score=topruns.head(5)"
   ]
  },
  {
   "cell_type": "code",
   "execution_count": 85,
   "id": "a50a76c6-fa26-4459-a802-08614acdb7e8",
   "metadata": {},
   "outputs": [],
   "source": [
    "top5_score=highest_score.reset_index()"
   ]
  },
  {
   "cell_type": "code",
   "execution_count": 86,
   "id": "12ffa79c-f8d2-457c-afcb-6eb41c94f4b3",
   "metadata": {},
   "outputs": [
    {
     "data": {
      "text/html": [
       "<div>\n",
       "<style scoped>\n",
       "    .dataframe tbody tr th:only-of-type {\n",
       "        vertical-align: middle;\n",
       "    }\n",
       "\n",
       "    .dataframe tbody tr th {\n",
       "        vertical-align: top;\n",
       "    }\n",
       "\n",
       "    .dataframe thead th {\n",
       "        text-align: right;\n",
       "    }\n",
       "</style>\n",
       "<table border=\"1\" class=\"dataframe\">\n",
       "  <thead>\n",
       "    <tr style=\"text-align: right;\">\n",
       "      <th></th>\n",
       "      <th>MATCH_ID</th>\n",
       "      <th>MATCH</th>\n",
       "      <th>RUNS</th>\n",
       "    </tr>\n",
       "  </thead>\n",
       "  <tbody>\n",
       "    <tr>\n",
       "      <th>0</th>\n",
       "      <td>ODI # 4684</td>\n",
       "      <td>Australia-vs-New-Zealand</td>\n",
       "      <td>736.0</td>\n",
       "    </tr>\n",
       "    <tr>\n",
       "      <th>1</th>\n",
       "      <td>ODI # 4661</td>\n",
       "      <td>South-Africa-vs-Sri-Lanka</td>\n",
       "      <td>711.0</td>\n",
       "    </tr>\n",
       "    <tr>\n",
       "      <th>2</th>\n",
       "      <td>ODI # 4703</td>\n",
       "      <td>India-vs-New-Zealand</td>\n",
       "      <td>687.0</td>\n",
       "    </tr>\n",
       "    <tr>\n",
       "      <th>3</th>\n",
       "      <td>ODI # 4665</td>\n",
       "      <td>Pakistan-vs-Sri-Lanka</td>\n",
       "      <td>649.0</td>\n",
       "    </tr>\n",
       "    <tr>\n",
       "      <th>4</th>\n",
       "      <td>ODI # 4702</td>\n",
       "      <td>India-vs-Netherlands</td>\n",
       "      <td>632.0</td>\n",
       "    </tr>\n",
       "  </tbody>\n",
       "</table>\n",
       "</div>"
      ],
      "text/plain": [
       "     MATCH_ID                      MATCH   RUNS\n",
       "0  ODI # 4684   Australia-vs-New-Zealand  736.0\n",
       "1  ODI # 4661  South-Africa-vs-Sri-Lanka  711.0\n",
       "2  ODI # 4703       India-vs-New-Zealand  687.0\n",
       "3  ODI # 4665      Pakistan-vs-Sri-Lanka  649.0\n",
       "4  ODI # 4702       India-vs-Netherlands  632.0"
      ]
     },
     "execution_count": 86,
     "metadata": {},
     "output_type": "execute_result"
    }
   ],
   "source": [
    "top5_score"
   ]
  },
  {
   "cell_type": "code",
   "execution_count": 87,
   "id": "ed1e5237-548b-4faa-8002-e55df1882dd3",
   "metadata": {},
   "outputs": [],
   "source": [
    "lowest_run=total__runs.sort_values()"
   ]
  },
  {
   "cell_type": "code",
   "execution_count": 88,
   "id": "e9f8fe02-7ff4-4d0b-ba2a-126888c23d25",
   "metadata": {
    "tags": []
   },
   "outputs": [],
   "source": [
    "top_lowest_run=lowest_run.head(5)"
   ]
  },
  {
   "cell_type": "code",
   "execution_count": 89,
   "id": "3f8ce2ee-dc49-48da-a99f-24eae26b58f6",
   "metadata": {},
   "outputs": [],
   "source": [
    "top5_lowest_run= top_lowest_run.reset_index()"
   ]
  },
  {
   "cell_type": "code",
   "execution_count": 90,
   "id": "dde8d829-d1b9-472d-92b4-824442cad7a8",
   "metadata": {},
   "outputs": [
    {
     "data": {
      "text/plain": [
       "MATCH_ID    MATCH                     \n",
       "ODI # 4660  Afghanistan-vs-Bangladesh     298.0\n",
       "ODI # 4682  England-vs-Sri-Lanka          306.0\n",
       "ODI # 4691  Afghanistan-vs-Netherlands    332.0\n",
       "ODI # 4698  New-Zealand-vs-Sri-Lanka      337.0\n",
       "ODI # 4686  India-vs-England              343.0\n",
       "Name: RUNS, dtype: float64"
      ]
     },
     "execution_count": 90,
     "metadata": {},
     "output_type": "execute_result"
    }
   ],
   "source": [
    "top_lowest_run"
   ]
  },
  {
   "cell_type": "code",
   "execution_count": 105,
   "id": "d5ec578e-c6ed-4b68-8380-9988071dfe5c",
   "metadata": {},
   "outputs": [
    {
     "data": {
      "image/png": "[encoded data removed]",
      "text/plain": [
       "<Figure size 600x800 with 2 Axes>"
      ]
     },
     "metadata": {},
     "output_type": "display_data"
    }
   ],
   "source": [
    "plt.figure(figsize=(6,8))\n",
    "plt.subplot(2,1,1)\n",
    "sns.barplot(y='MATCH',x='RUNS',data=top5_score,hue='MATCH_ID')\n",
    "plt.title('TOP FIVE HIGHEST SCORE MATCHES',fontsize=14)\n",
    "plt.subplot(2,1,2)\n",
    "sns.barplot(y='MATCH',x='RUNS',data=top5_lowest_run,hue='MATCH_ID')\n",
    "plt.title('TOP FIVE LOWEST SCORE MATCHES',fontsize=14)\n",
    "plt.tight_layout()\n",
    "plt.savefig('subplot')\n",
    "plt.show()"
   ]
  },
  {
   "cell_type": "markdown",
   "id": "731ec5a7-e535-4bb1-abae-966efcbe0da4",
   "metadata": {},
   "source": [
    "##### From the above two graphs, we can conclude that:\n",
    "##### In the first graph, we can see the top five high-scoring matches. Here, the match between Australia and New Zealand with a match ID of ODI # 4684 is the highest high-scoring match(over 700 runs) in the tournament .\n",
    "##### In second graph ,we can see top five lowest-scoring matches.Here , the match between Afghanistan and Bangladesh  which match ID ODI # 4660 is the lowest low scoring match(around 300 runs) in the tournament. "
   ]
  },
  {
   "cell_type": "markdown",
   "id": "ace2d3a6-5490-40c3-9a7a-97d3ee8840f8",
   "metadata": {
    "tags": []
   },
   "source": [
    "### 9)Is there a correlation between the time spent at the crease (minutes) and the number of runs scored?"
   ]
  },
  {
   "cell_type": "code",
   "execution_count": 92,
   "id": "982f60d0-2e46-4201-98fa-9f507ab2fd5a",
   "metadata": {},
   "outputs": [
    {
     "data": {
      "text/html": [
       "<div>\n",
       "<style scoped>\n",
       "    .dataframe tbody tr th:only-of-type {\n",
       "        vertical-align: middle;\n",
       "    }\n",
       "\n",
       "    .dataframe tbody tr th {\n",
       "        vertical-align: top;\n",
       "    }\n",
       "\n",
       "    .dataframe thead th {\n",
       "        text-align: right;\n",
       "    }\n",
       "</style>\n",
       "<table border=\"1\" class=\"dataframe\">\n",
       "  <thead>\n",
       "    <tr style=\"text-align: right;\">\n",
       "      <th></th>\n",
       "      <th>BATTING</th>\n",
       "      <th>DISMISSAL</th>\n",
       "      <th>RUNS</th>\n",
       "      <th>BALLS</th>\n",
       "      <th>MINUTES</th>\n",
       "      <th>FOURS</th>\n",
       "      <th>SIXES</th>\n",
       "      <th>STRICK RATE</th>\n",
       "      <th>BATTING_POSITION</th>\n",
       "      <th>MATCH_ID</th>\n",
       "      <th>MATCH</th>\n",
       "      <th>BATTING_TEAM</th>\n",
       "      <th>Total_Boundaries</th>\n",
       "    </tr>\n",
       "  </thead>\n",
       "  <tbody>\n",
       "    <tr>\n",
       "      <th>0</th>\n",
       "      <td>Jonny Bairstow</td>\n",
       "      <td>c Mitchell b Santner</td>\n",
       "      <td>33.0</td>\n",
       "      <td>35.0</td>\n",
       "      <td>57.0</td>\n",
       "      <td>4.0</td>\n",
       "      <td>1.0</td>\n",
       "      <td>94.28</td>\n",
       "      <td>1</td>\n",
       "      <td>ODI # 4658</td>\n",
       "      <td>England-vs-New-Zealand</td>\n",
       "      <td>England</td>\n",
       "      <td>5.0</td>\n",
       "    </tr>\n",
       "    <tr>\n",
       "      <th>1</th>\n",
       "      <td>Dawid Malan</td>\n",
       "      <td>c  wk Latham b Henry</td>\n",
       "      <td>14.0</td>\n",
       "      <td>24.0</td>\n",
       "      <td>36.0</td>\n",
       "      <td>2.0</td>\n",
       "      <td>0.0</td>\n",
       "      <td>58.33</td>\n",
       "      <td>2</td>\n",
       "      <td>ODI # 4658</td>\n",
       "      <td>England-vs-New-Zealand</td>\n",
       "      <td>England</td>\n",
       "      <td>2.0</td>\n",
       "    </tr>\n",
       "  </tbody>\n",
       "</table>\n",
       "</div>"
      ],
      "text/plain": [
       "          BATTING             DISMISSAL  RUNS  BALLS  MINUTES  FOURS  SIXES  \\\n",
       "0  Jonny Bairstow  c Mitchell b Santner  33.0   35.0     57.0    4.0    1.0   \n",
       "1     Dawid Malan  c  wk Latham b Henry  14.0   24.0     36.0    2.0    0.0   \n",
       "\n",
       "   STRICK RATE  BATTING_POSITION    MATCH_ID                   MATCH  \\\n",
       "0        94.28                 1  ODI # 4658  England-vs-New-Zealand   \n",
       "1        58.33                 2  ODI # 4658  England-vs-New-Zealand   \n",
       "\n",
       "  BATTING_TEAM  Total_Boundaries  \n",
       "0      England               5.0  \n",
       "1      England               2.0  "
      ]
     },
     "execution_count": 92,
     "metadata": {},
     "output_type": "execute_result"
    }
   ],
   "source": [
    "df.head(2)"
   ]
  },
  {
   "cell_type": "code",
   "execution_count": 93,
   "id": "8b04d9dd-9489-48ab-9b06-b9da37ecc2d1",
   "metadata": {},
   "outputs": [
    {
     "data": {
      "text/plain": [
       "0.9154160587474504"
      ]
     },
     "execution_count": 93,
     "metadata": {},
     "output_type": "execute_result"
    }
   ],
   "source": [
    "df['MINUTES'].corr(df['RUNS'])"
   ]
  },
  {
   "cell_type": "code",
   "execution_count": 94,
   "id": "7ae1c8b8-586e-4773-aae7-defe813053cd",
   "metadata": {},
   "outputs": [
    {
     "data": {
      "text/plain": [
       "Text(0.5, 1.0, 'correlation between the time spent at the crease (minutes) and the number of runs scored')"
      ]
     },
     "execution_count": 94,
     "metadata": {},
     "output_type": "execute_result"
    },
    {
     "data": {
      "image/png": "[encoded data removed]",
      "text/plain": [
       "<Figure size 640x480 with 1 Axes>"
      ]
     },
     "metadata": {},
     "output_type": "display_data"
    }
   ],
   "source": [
    "sns.scatterplot(x='MINUTES',y='RUNS',data=df)\n",
    "plt.title('correlation between the time spent at the crease (minutes) and the number of runs scored')"
   ]
  },
  {
   "cell_type": "markdown",
   "id": "55f572cd-33e1-4a9a-8f01-f6346ca5fe75",
   "metadata": {},
   "source": [
    "* In the above graph we can notice a strong correlation is evident between the time spent on the field (in minutes) and the runs scored. It is notable that as the duration of play increases, the runs also increase. In other words, batsmen tend to score more runs with an extended time spent on the field."
   ]
  },
  {
   "cell_type": "markdown",
   "id": "d28a85c2-b2b4-48b4-b2f4-16d9854c165e",
   "metadata": {},
   "source": [
    "### 10) Are certain batting positions associated with  better strick rates?"
   ]
  },
  {
   "cell_type": "code",
   "execution_count": 95,
   "id": "6d67f7a7-fc67-4587-982b-c4ea78467cc6",
   "metadata": {},
   "outputs": [
    {
     "data": {
      "text/html": [
       "<div>\n",
       "<style scoped>\n",
       "    .dataframe tbody tr th:only-of-type {\n",
       "        vertical-align: middle;\n",
       "    }\n",
       "\n",
       "    .dataframe tbody tr th {\n",
       "        vertical-align: top;\n",
       "    }\n",
       "\n",
       "    .dataframe thead th {\n",
       "        text-align: right;\n",
       "    }\n",
       "</style>\n",
       "<table border=\"1\" class=\"dataframe\">\n",
       "  <thead>\n",
       "    <tr style=\"text-align: right;\">\n",
       "      <th></th>\n",
       "      <th>BATTING</th>\n",
       "      <th>DISMISSAL</th>\n",
       "      <th>RUNS</th>\n",
       "      <th>BALLS</th>\n",
       "      <th>MINUTES</th>\n",
       "      <th>FOURS</th>\n",
       "      <th>SIXES</th>\n",
       "      <th>STRICK RATE</th>\n",
       "      <th>BATTING_POSITION</th>\n",
       "      <th>MATCH_ID</th>\n",
       "      <th>MATCH</th>\n",
       "      <th>BATTING_TEAM</th>\n",
       "      <th>Total_Boundaries</th>\n",
       "    </tr>\n",
       "  </thead>\n",
       "  <tbody>\n",
       "    <tr>\n",
       "      <th>0</th>\n",
       "      <td>Jonny Bairstow</td>\n",
       "      <td>c Mitchell b Santner</td>\n",
       "      <td>33.0</td>\n",
       "      <td>35.0</td>\n",
       "      <td>57.0</td>\n",
       "      <td>4.0</td>\n",
       "      <td>1.0</td>\n",
       "      <td>94.28</td>\n",
       "      <td>1</td>\n",
       "      <td>ODI # 4658</td>\n",
       "      <td>England-vs-New-Zealand</td>\n",
       "      <td>England</td>\n",
       "      <td>5.0</td>\n",
       "    </tr>\n",
       "    <tr>\n",
       "      <th>1</th>\n",
       "      <td>Dawid Malan</td>\n",
       "      <td>c  wk Latham b Henry</td>\n",
       "      <td>14.0</td>\n",
       "      <td>24.0</td>\n",
       "      <td>36.0</td>\n",
       "      <td>2.0</td>\n",
       "      <td>0.0</td>\n",
       "      <td>58.33</td>\n",
       "      <td>2</td>\n",
       "      <td>ODI # 4658</td>\n",
       "      <td>England-vs-New-Zealand</td>\n",
       "      <td>England</td>\n",
       "      <td>2.0</td>\n",
       "    </tr>\n",
       "    <tr>\n",
       "      <th>2</th>\n",
       "      <td>Joe Root</td>\n",
       "      <td>b Phillips</td>\n",
       "      <td>77.0</td>\n",
       "      <td>86.0</td>\n",
       "      <td>140.0</td>\n",
       "      <td>4.0</td>\n",
       "      <td>1.0</td>\n",
       "      <td>89.53</td>\n",
       "      <td>3</td>\n",
       "      <td>ODI # 4658</td>\n",
       "      <td>England-vs-New-Zealand</td>\n",
       "      <td>England</td>\n",
       "      <td>5.0</td>\n",
       "    </tr>\n",
       "  </tbody>\n",
       "</table>\n",
       "</div>"
      ],
      "text/plain": [
       "          BATTING             DISMISSAL  RUNS  BALLS  MINUTES  FOURS  SIXES  \\\n",
       "0  Jonny Bairstow  c Mitchell b Santner  33.0   35.0     57.0    4.0    1.0   \n",
       "1     Dawid Malan  c  wk Latham b Henry  14.0   24.0     36.0    2.0    0.0   \n",
       "2        Joe Root            b Phillips  77.0   86.0    140.0    4.0    1.0   \n",
       "\n",
       "   STRICK RATE  BATTING_POSITION    MATCH_ID                   MATCH  \\\n",
       "0        94.28                 1  ODI # 4658  England-vs-New-Zealand   \n",
       "1        58.33                 2  ODI # 4658  England-vs-New-Zealand   \n",
       "2        89.53                 3  ODI # 4658  England-vs-New-Zealand   \n",
       "\n",
       "  BATTING_TEAM  Total_Boundaries  \n",
       "0      England               5.0  \n",
       "1      England               2.0  \n",
       "2      England               5.0  "
      ]
     },
     "execution_count": 95,
     "metadata": {},
     "output_type": "execute_result"
    }
   ],
   "source": [
    "df.head(3)"
   ]
  },
  {
   "cell_type": "code",
   "execution_count": 96,
   "id": "09f247c6-a87d-45ce-bb32-b60b261215e5",
   "metadata": {},
   "outputs": [
    {
     "data": {
      "text/plain": [
       "BATTING_POSITION\n",
       "1      85.157188\n",
       "2      82.013333\n",
       "3      77.497396\n",
       "4      85.432340\n",
       "5      85.399889\n",
       "6     102.200120\n",
       "7      93.294416\n",
       "8      72.386232\n",
       "9      79.900154\n",
       "10     75.907241\n",
       "11     63.044894\n",
       "Name: STRICK RATE, dtype: float64"
      ]
     },
     "execution_count": 96,
     "metadata": {},
     "output_type": "execute_result"
    }
   ],
   "source": [
    "df.groupby('BATTING_POSITION')['STRICK RATE'].mean()"
   ]
  },
  {
   "cell_type": "code",
   "execution_count": 97,
   "id": "571b0e45-e707-48b0-b99e-473618cb79d4",
   "metadata": {},
   "outputs": [
    {
     "data": {
      "text/plain": [
       "Text(0.5, 1.0, 'BATTING POSITION VS STRICK RATE')"
      ]
     },
     "execution_count": 97,
     "metadata": {},
     "output_type": "execute_result"
    },
    {
     "data": {
      "image/png": "[encoded data removed]",
      "text/plain": [
       "<Figure size 640x480 with 1 Axes>"
      ]
     },
     "metadata": {},
     "output_type": "display_data"
    }
   ],
   "source": [
    "sns.barplot(x='BATTING_POSITION',y='STRICK RATE',data=df)\n",
    "plt.title('BATTING POSITION VS STRICK RATE',fontsize=15)"
   ]
  },
  {
   "cell_type": "markdown",
   "id": "f3538225-f6d2-4b65-9a08-cc304b546bc7",
   "metadata": {},
   "source": [
    "* From the above graph, we can conclude that the 6th batting position has a better strick rate compared to the other batting positions."
   ]
  },
  {
   "cell_type": "code",
   "execution_count": null,
   "id": "3d22ff8d-a549-46a2-8bc8-61c4bf612288",
   "metadata": {},
   "outputs": [],
   "source": []
  }
 ],
 "metadata": {
  "kernelspec": {
   "display_name": "Python 3 (ipykernel)",
   "language": "python",
   "name": "python3"
  },
  "language_info": {
   "codemirror_mode": {
    "name": "ipython",
    "version": 3
   },
   "file_extension": ".py",
   "mimetype": "text/x-python",
   "name": "python",
   "nbconvert_exporter": "python",
   "pygments_lexer": "ipython3",
   "version": "3.10.9"
  }
 },
 "nbformat": 4,
 "nbformat_minor": 5
}
